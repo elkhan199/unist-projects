{
 "cells": [
  {
   "cell_type": "code",
   "execution_count": 8,
   "metadata": {
    "id": "4ldxdidJm69D"
   },
   "outputs": [],
   "source": [
    "#Import libralies\n",
    "import pandas as pd\n",
    "import numpy as np\n",
    "import matplotlib.pyplot as plt\n",
    "import json\n",
    "import os\n",
    "from tqdm import tqdm, tqdm_notebook\n",
    "import random\n",
    "\n",
    "import tensorflow as tf\n",
    "\n",
    "from tensorflow.keras.preprocessing.image import ImageDataGenerator\n",
    "from tensorflow.keras.models import Model, Sequential\n",
    "from tensorflow.keras.layers import *\n",
    "from tensorflow.keras.optimizers import *\n",
    "from tensorflow.keras.applications import *\n",
    "from tensorflow.keras.callbacks import *\n",
    "from tensorflow.keras.initializers import *\n",
    "from tensorflow import keras\n",
    "\n",
    "#You can import other libraries if you need"
   ]
  },
  {
   "cell_type": "code",
   "execution_count": 9,
   "metadata": {
    "id": "ZUI5S4mxm69E"
   },
   "outputs": [],
   "source": [
    "###### DO NOT MODIFY THIS PART\n",
    "seed = 42\n",
    "os.environ['PYTHONHASHSEED'] = str(seed)\n",
    "np.random.seed(seed)\n",
    "tf.random.set_seed(seed)\n",
    "random.seed(seed)\n",
    "from keras import backend as K\n",
    "session_conf = tf.compat.v1.ConfigProto(intra_op_parallelism_threads=1, inter_op_parallelism_threads=1)\n",
    "sess = tf.compat.v1.Session(graph=tf.compat.v1.get_default_graph(), config=session_conf)\n",
    "K.set_session(sess)\n",
    "######"
   ]
  },
  {
   "cell_type": "code",
   "execution_count": 10,
   "metadata": {
    "id": "KdD2J4c_m69F"
   },
   "outputs": [],
   "source": [
    "def write_output(directory=None, filename=None):\n",
    "    \"\"\"\n",
    "    This function creates the file that contains predictions from input images\n",
    "    \n",
    "    :param directory: the input image directory\n",
    "    :param filename: the name of the file to write predictions\n",
    "    \n",
    "    Return\n",
    "    It makes the csv file\n",
    "    \"\"\"\n",
    "    artists = pd.read_csv('grading/artists.csv')\n",
    "    # Sort artists by number of paintings\n",
    "    artists = artists.sort_values(by=['paintings'], ascending=False)\n",
    "\n",
    "    # Create a dataframe with artists having more than 200 paintings\n",
    "    artists_top = artists[artists['paintings'] >= 0].reset_index()\n",
    "    artists_top = artists_top[['name', 'paintings']]\n",
    "\n",
    "    updated_name = \"Albrecht_Dürer\".replace(\"_\", \" \")\n",
    "    artists_top.iloc[4, 0] = updated_name\n",
    "    # Explore images of top artists\n",
    "    images_dir = f'{directory}/images/' #Type Your Own Data Directory\n",
    "    artists_dirs = os.listdir(images_dir)\n",
    "    artists_top_name = artists_top['name'].str.replace(' ', '_').values\n",
    "    #Test set load\n",
    "\n",
    "    images_dir = f'{directory}/images/'\n",
    "    artists_dirs = os.listdir(images_dir)\n",
    "    artists_top_name = artists_top['name'].str.replace(' ', '_').values\n",
    "\n",
    "    input_shape = (224,224,3)#Same as input_shape in your train code\n",
    "    n_classes = artists_top.shape[0]\n",
    "\n",
    "    test_datagen = ImageDataGenerator(rescale=1./255)\n",
    "\n",
    "    test_generator = test_datagen.flow_from_directory(directory=images_dir,\n",
    "                                                        class_mode='categorical',\n",
    "                                                        target_size=input_shape[:2],\n",
    "                                                        batch_size=1,\n",
    "                                                        shuffle=False,\n",
    "                                                        seed=seed,\n",
    "                                                       )\n",
    "    model = tf.keras.models.load_model(\"adam_model.h5\")\n",
    "\n",
    "    test_generator.reset()\n",
    "    output = model.predict(test_generator, steps=test_generator.n)\n",
    "    output = np.argmax(output, axis=-1)\n",
    "    prediction = pd.DataFrame(output, index=test_generator.filenames, columns=['predictions']).sort_index().to_csv(filename)"
   ]
  },
  {
   "cell_type": "code",
   "execution_count": 11,
   "metadata": {},
   "outputs": [
    {
     "name": "stdout",
     "output_type": "stream",
     "text": [
      "Found 220 images belonging to 1 classes.\n"
     ]
    }
   ],
   "source": [
    "write_output(\"test\",\"20182010_test_output.csv\")"
   ]
  },
  {
   "cell_type": "code",
   "execution_count": 12,
   "metadata": {},
   "outputs": [
    {
     "name": "stdout",
     "output_type": "stream",
     "text": [
      "Found 220 images belonging to 1 classes.\n"
     ]
    }
   ],
   "source": [
    "write_output(\"grading\",\"20182010_output.csv\")"
   ]
  },
  {
   "cell_type": "code",
   "execution_count": null,
   "metadata": {},
   "outputs": [],
   "source": []
  }
 ],
 "metadata": {
  "colab": {
   "name": "AIP2_20182010_Test.ipynb",
   "provenance": []
  },
  "kernelspec": {
   "display_name": "Python 3",
   "language": "python",
   "name": "python3"
  },
  "language_info": {
   "codemirror_mode": {
    "name": "ipython",
    "version": 3
   },
   "file_extension": ".py",
   "mimetype": "text/x-python",
   "name": "python",
   "nbconvert_exporter": "python",
   "pygments_lexer": "ipython3",
   "version": "3.8.8"
  }
 },
 "nbformat": 4,
 "nbformat_minor": 1
}
