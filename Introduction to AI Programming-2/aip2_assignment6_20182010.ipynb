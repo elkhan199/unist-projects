{
  "nbformat": 4,
  "nbformat_minor": 0,
  "metadata": {
    "colab": {
      "name": "aip2_assignment6_20182010.ipynb",
      "provenance": []
    },
    "kernelspec": {
      "name": "python3",
      "display_name": "Python 3"
    },
    "language_info": {
      "name": "python"
    }
  },
  "cells": [
    {
      "cell_type": "code",
      "metadata": {
        "colab": {
          "base_uri": "https://localhost:8080/",
          "height": 35
        },
        "id": "vT1PdbW8KF5C",
        "outputId": "46db0717-33bd-47ce-86da-f7e53f83dfaf"
      },
      "source": [
        "import sklearn as s\n",
        "s.__version__"
      ],
      "execution_count": 1,
      "outputs": [
        {
          "output_type": "execute_result",
          "data": {
            "application/vnd.google.colaboratory.intrinsic+json": {
              "type": "string"
            },
            "text/plain": [
              "'0.21.3'"
            ]
          },
          "metadata": {
            "tags": []
          },
          "execution_count": 1
        }
      ]
    },
    {
      "cell_type": "code",
      "metadata": {
        "colab": {
          "base_uri": "https://localhost:8080/",
          "height": 310
        },
        "id": "YM6RgLKBKdY1",
        "outputId": "6541acf2-4af2-4c9c-bed9-c289a6c3a9b3"
      },
      "source": [
        "!pip install scikit-learn==0.21.3"
      ],
      "execution_count": 2,
      "outputs": [
        {
          "output_type": "stream",
          "text": [
            "Collecting scikit-learn==0.21.3\n",
            "\u001b[?25l  Downloading https://files.pythonhosted.org/packages/9f/c5/e5267eb84994e9a92a2c6a6ee768514f255d036f3c8378acfa694e9f2c99/scikit_learn-0.21.3-cp37-cp37m-manylinux1_x86_64.whl (6.7MB)\n",
            "\u001b[K     |████████████████████████████████| 6.7MB 5.1MB/s \n",
            "\u001b[?25hRequirement already satisfied: scipy>=0.17.0 in /usr/local/lib/python3.7/dist-packages (from scikit-learn==0.21.3) (1.4.1)\n",
            "Requirement already satisfied: numpy>=1.11.0 in /usr/local/lib/python3.7/dist-packages (from scikit-learn==0.21.3) (1.19.5)\n",
            "Requirement already satisfied: joblib>=0.11 in /usr/local/lib/python3.7/dist-packages (from scikit-learn==0.21.3) (1.0.1)\n",
            "Installing collected packages: scikit-learn\n",
            "  Found existing installation: scikit-learn 0.22.2.post1\n",
            "    Uninstalling scikit-learn-0.22.2.post1:\n",
            "      Successfully uninstalled scikit-learn-0.22.2.post1\n",
            "Successfully installed scikit-learn-0.21.3\n"
          ],
          "name": "stdout"
        },
        {
          "output_type": "display_data",
          "data": {
            "application/vnd.colab-display-data+json": {
              "pip_warning": {
                "packages": [
                  "sklearn"
                ]
              }
            }
          },
          "metadata": {
            "tags": []
          }
        }
      ]
    },
    {
      "cell_type": "code",
      "metadata": {
        "colab": {
          "base_uri": "https://localhost:8080/",
          "height": 35
        },
        "id": "aSLpJoZNjHD_",
        "outputId": "cb838d32-53f4-447e-88ae-9631dced9ca3"
      },
      "source": [
        "import sklearn as s\n",
        "s.__version__"
      ],
      "execution_count": 2,
      "outputs": [
        {
          "output_type": "execute_result",
          "data": {
            "application/vnd.google.colaboratory.intrinsic+json": {
              "type": "string"
            },
            "text/plain": [
              "'0.21.3'"
            ]
          },
          "metadata": {
            "tags": []
          },
          "execution_count": 2
        }
      ]
    },
    {
      "cell_type": "code",
      "metadata": {
        "id": "2sh4JC1yKjW1"
      },
      "source": [
        "import tensorflow as tf\n",
        "from tensorflow import keras"
      ],
      "execution_count": 3,
      "outputs": []
    },
    {
      "cell_type": "code",
      "metadata": {
        "colab": {
          "base_uri": "https://localhost:8080/",
          "height": 35
        },
        "id": "-tdlhRtzKzCq",
        "outputId": "130e8144-688b-41c4-eb3e-1e63b8bc1d4e"
      },
      "source": [
        "tf.__version__"
      ],
      "execution_count": 4,
      "outputs": [
        {
          "output_type": "execute_result",
          "data": {
            "application/vnd.google.colaboratory.intrinsic+json": {
              "type": "string"
            },
            "text/plain": [
              "'2.4.1'"
            ]
          },
          "metadata": {
            "tags": []
          },
          "execution_count": 4
        }
      ]
    },
    {
      "cell_type": "code",
      "metadata": {
        "colab": {
          "base_uri": "https://localhost:8080/",
          "height": 35
        },
        "id": "5XRtXcu9K1JS",
        "outputId": "8b237a01-d304-4951-a07d-321f3292a3c5"
      },
      "source": [
        "keras.__version__"
      ],
      "execution_count": 5,
      "outputs": [
        {
          "output_type": "execute_result",
          "data": {
            "application/vnd.google.colaboratory.intrinsic+json": {
              "type": "string"
            },
            "text/plain": [
              "'2.4.0'"
            ]
          },
          "metadata": {
            "tags": []
          },
          "execution_count": 5
        }
      ]
    },
    {
      "cell_type": "code",
      "metadata": {
        "id": "NUSDyb4oK3eF",
        "colab": {
          "base_uri": "https://localhost:8080/"
        },
        "outputId": "ddbcf4e9-05a6-4255-f1e9-9d73524c4174"
      },
      "source": [
        "fashion_mnist = keras.datasets.fashion_mnist\n",
        "\n",
        "(X_train_full, y_train_full), (X_test, y_test) = fashion_mnist.load_data()"
      ],
      "execution_count": 6,
      "outputs": [
        {
          "output_type": "stream",
          "text": [
            "Downloading data from https://storage.googleapis.com/tensorflow/tf-keras-datasets/train-labels-idx1-ubyte.gz\n",
            "32768/29515 [=================================] - 0s 0us/step\n",
            "Downloading data from https://storage.googleapis.com/tensorflow/tf-keras-datasets/train-images-idx3-ubyte.gz\n",
            "26427392/26421880 [==============================] - 0s 0us/step\n",
            "Downloading data from https://storage.googleapis.com/tensorflow/tf-keras-datasets/t10k-labels-idx1-ubyte.gz\n",
            "8192/5148 [===============================================] - 0s 0us/step\n",
            "Downloading data from https://storage.googleapis.com/tensorflow/tf-keras-datasets/t10k-images-idx3-ubyte.gz\n",
            "4423680/4422102 [==============================] - 0s 0us/step\n"
          ],
          "name": "stdout"
        }
      ]
    },
    {
      "cell_type": "code",
      "metadata": {
        "colab": {
          "base_uri": "https://localhost:8080/"
        },
        "id": "Y5c5zx2_LOiT",
        "outputId": "d1fcc6c1-adc5-42a1-f642-94ec8e618b1b"
      },
      "source": [
        "X_train_full.shape"
      ],
      "execution_count": 7,
      "outputs": [
        {
          "output_type": "execute_result",
          "data": {
            "text/plain": [
              "(60000, 28, 28)"
            ]
          },
          "metadata": {
            "tags": []
          },
          "execution_count": 7
        }
      ]
    },
    {
      "cell_type": "code",
      "metadata": {
        "colab": {
          "base_uri": "https://localhost:8080/"
        },
        "id": "Le1N6bJGLP8H",
        "outputId": "90507f6f-ceb3-4dea-8a70-a210276e730e"
      },
      "source": [
        "X_train_full.dtype"
      ],
      "execution_count": 8,
      "outputs": [
        {
          "output_type": "execute_result",
          "data": {
            "text/plain": [
              "dtype('uint8')"
            ]
          },
          "metadata": {
            "tags": []
          },
          "execution_count": 8
        }
      ]
    },
    {
      "cell_type": "code",
      "metadata": {
        "id": "6POUJjOSLVbW"
      },
      "source": [
        "X_valid, X_train = X_train_full[:5000]/255.0, X_train_full[5000:]/255.0\n",
        "y_valid, y_train = y_train_full[:5000], y_train_full[5000:]"
      ],
      "execution_count": 9,
      "outputs": []
    },
    {
      "cell_type": "code",
      "metadata": {
        "id": "uyYdFo6bLlNf"
      },
      "source": [
        "class_names = ['T-shirt/top',\"Trouser\",\"Pullover\",\"Dress\",\"Coat\",\"Sandal\",\"Shirt\",\"Sneaker\",\"Bag\",\"Ankle boot\"]"
      ],
      "execution_count": 10,
      "outputs": []
    },
    {
      "cell_type": "code",
      "metadata": {
        "colab": {
          "base_uri": "https://localhost:8080/"
        },
        "id": "QTkM8ouUL0zP",
        "outputId": "3e1c33f8-068c-4d8f-f81c-a4750226e33f"
      },
      "source": [
        "y_train[0]"
      ],
      "execution_count": 11,
      "outputs": [
        {
          "output_type": "execute_result",
          "data": {
            "text/plain": [
              "4"
            ]
          },
          "metadata": {
            "tags": []
          },
          "execution_count": 11
        }
      ]
    },
    {
      "cell_type": "code",
      "metadata": {
        "colab": {
          "base_uri": "https://localhost:8080/",
          "height": 35
        },
        "id": "cRLJak5sL2aL",
        "outputId": "f263d73a-7924-4c05-d7d6-d2309e31b75f"
      },
      "source": [
        "class_names[y_train[0]]"
      ],
      "execution_count": 12,
      "outputs": [
        {
          "output_type": "execute_result",
          "data": {
            "application/vnd.google.colaboratory.intrinsic+json": {
              "type": "string"
            },
            "text/plain": [
              "'Coat'"
            ]
          },
          "metadata": {
            "tags": []
          },
          "execution_count": 12
        }
      ]
    },
    {
      "cell_type": "code",
      "metadata": {
        "id": "mdSZZ2PpMQFs"
      },
      "source": [
        "model = keras.models.Sequential()\n",
        "model.add(keras.layers.Flatten(input_shape=[28,28]))\n",
        "model.add(keras.layers.Dense(300,activation=\"relu\"))\n",
        "model.add(keras.layers.Dense(100,activation=\"relu\"))\n",
        "model.add(keras.layers.Dense(10,activation=\"softmax\"))"
      ],
      "execution_count": 13,
      "outputs": []
    },
    {
      "cell_type": "code",
      "metadata": {
        "colab": {
          "base_uri": "https://localhost:8080/"
        },
        "id": "nnvqba8-MqzS",
        "outputId": "4b3600cb-ede4-4181-8f4d-cc1e93ee658e"
      },
      "source": [
        "model.summary()"
      ],
      "execution_count": 14,
      "outputs": [
        {
          "output_type": "stream",
          "text": [
            "Model: \"sequential\"\n",
            "_________________________________________________________________\n",
            "Layer (type)                 Output Shape              Param #   \n",
            "=================================================================\n",
            "flatten (Flatten)            (None, 784)               0         \n",
            "_________________________________________________________________\n",
            "dense (Dense)                (None, 300)               235500    \n",
            "_________________________________________________________________\n",
            "dense_1 (Dense)              (None, 100)               30100     \n",
            "_________________________________________________________________\n",
            "dense_2 (Dense)              (None, 10)                1010      \n",
            "=================================================================\n",
            "Total params: 266,610\n",
            "Trainable params: 266,610\n",
            "Non-trainable params: 0\n",
            "_________________________________________________________________\n"
          ],
          "name": "stdout"
        }
      ]
    },
    {
      "cell_type": "code",
      "metadata": {
        "colab": {
          "base_uri": "https://localhost:8080/"
        },
        "id": "sfWzaX9DMr7q",
        "outputId": "a9017ae7-d333-427c-a9b1-d0f9d9329ba3"
      },
      "source": [
        "model.layers"
      ],
      "execution_count": 15,
      "outputs": [
        {
          "output_type": "execute_result",
          "data": {
            "text/plain": [
              "[<tensorflow.python.keras.layers.core.Flatten at 0x7f021a561190>,\n",
              " <tensorflow.python.keras.layers.core.Dense at 0x7f0212bdd610>,\n",
              " <tensorflow.python.keras.layers.core.Dense at 0x7f02140c4950>,\n",
              " <tensorflow.python.keras.layers.core.Dense at 0x7f02137bba50>]"
            ]
          },
          "metadata": {
            "tags": []
          },
          "execution_count": 15
        }
      ]
    },
    {
      "cell_type": "code",
      "metadata": {
        "id": "ty8aCW9FMyiZ"
      },
      "source": [
        "hidden1 = model.layers[1]"
      ],
      "execution_count": 16,
      "outputs": []
    },
    {
      "cell_type": "code",
      "metadata": {
        "colab": {
          "base_uri": "https://localhost:8080/",
          "height": 35
        },
        "id": "vxzeZzijM00s",
        "outputId": "5de28557-7504-4785-b4e7-d3333bb0942c"
      },
      "source": [
        "hidden1.name"
      ],
      "execution_count": 17,
      "outputs": [
        {
          "output_type": "execute_result",
          "data": {
            "application/vnd.google.colaboratory.intrinsic+json": {
              "type": "string"
            },
            "text/plain": [
              "'dense'"
            ]
          },
          "metadata": {
            "tags": []
          },
          "execution_count": 17
        }
      ]
    },
    {
      "cell_type": "code",
      "metadata": {
        "colab": {
          "base_uri": "https://localhost:8080/"
        },
        "id": "6H90hQHsM12F",
        "outputId": "6da07c8b-042f-4e75-bd4d-5506a0e870ac"
      },
      "source": [
        "model.get_layer(\"dense\") is hidden1"
      ],
      "execution_count": 18,
      "outputs": [
        {
          "output_type": "execute_result",
          "data": {
            "text/plain": [
              "True"
            ]
          },
          "metadata": {
            "tags": []
          },
          "execution_count": 18
        }
      ]
    },
    {
      "cell_type": "code",
      "metadata": {
        "colab": {
          "base_uri": "https://localhost:8080/"
        },
        "id": "fkvRn9ZOM4_d",
        "outputId": "6c975fb0-5f07-44a6-c1e7-8b1f6e765c4f"
      },
      "source": [
        "weights,biases = hidden1.get_weights()\n",
        "weights"
      ],
      "execution_count": 19,
      "outputs": [
        {
          "output_type": "execute_result",
          "data": {
            "text/plain": [
              "array([[-0.05457088,  0.0319718 ,  0.0367476 , ..., -0.04081459,\n",
              "        -0.00677052,  0.07353772],\n",
              "       [-0.07229841,  0.01777589,  0.05662283, ..., -0.03456216,\n",
              "         0.06335852,  0.07382195],\n",
              "       [ 0.00253075, -0.06401822,  0.02107484, ..., -0.04108284,\n",
              "        -0.0372709 ,  0.01640592],\n",
              "       ...,\n",
              "       [ 0.00402144, -0.04371849,  0.04514715, ...,  0.02100423,\n",
              "         0.06601891, -0.0204355 ],\n",
              "       [ 0.02522855, -0.07206877,  0.05593681, ..., -0.03174137,\n",
              "        -0.06885195,  0.06161398],\n",
              "       [ 0.01245089,  0.06628799, -0.01756227, ..., -0.01508306,\n",
              "         0.04981176, -0.04468637]], dtype=float32)"
            ]
          },
          "metadata": {
            "tags": []
          },
          "execution_count": 19
        }
      ]
    },
    {
      "cell_type": "code",
      "metadata": {
        "colab": {
          "base_uri": "https://localhost:8080/"
        },
        "id": "DDOc6mg0NEK7",
        "outputId": "a5b20fd3-1ae4-4fb7-8501-e1d098babea9"
      },
      "source": [
        "weights.shape"
      ],
      "execution_count": 20,
      "outputs": [
        {
          "output_type": "execute_result",
          "data": {
            "text/plain": [
              "(784, 300)"
            ]
          },
          "metadata": {
            "tags": []
          },
          "execution_count": 20
        }
      ]
    },
    {
      "cell_type": "code",
      "metadata": {
        "colab": {
          "base_uri": "https://localhost:8080/"
        },
        "id": "ZnXo-E5WNFkz",
        "outputId": "f9a0b15d-7c1a-4435-f7d8-cb517b88c947"
      },
      "source": [
        "biases"
      ],
      "execution_count": 21,
      "outputs": [
        {
          "output_type": "execute_result",
          "data": {
            "text/plain": [
              "array([0., 0., 0., 0., 0., 0., 0., 0., 0., 0., 0., 0., 0., 0., 0., 0., 0.,\n",
              "       0., 0., 0., 0., 0., 0., 0., 0., 0., 0., 0., 0., 0., 0., 0., 0., 0.,\n",
              "       0., 0., 0., 0., 0., 0., 0., 0., 0., 0., 0., 0., 0., 0., 0., 0., 0.,\n",
              "       0., 0., 0., 0., 0., 0., 0., 0., 0., 0., 0., 0., 0., 0., 0., 0., 0.,\n",
              "       0., 0., 0., 0., 0., 0., 0., 0., 0., 0., 0., 0., 0., 0., 0., 0., 0.,\n",
              "       0., 0., 0., 0., 0., 0., 0., 0., 0., 0., 0., 0., 0., 0., 0., 0., 0.,\n",
              "       0., 0., 0., 0., 0., 0., 0., 0., 0., 0., 0., 0., 0., 0., 0., 0., 0.,\n",
              "       0., 0., 0., 0., 0., 0., 0., 0., 0., 0., 0., 0., 0., 0., 0., 0., 0.,\n",
              "       0., 0., 0., 0., 0., 0., 0., 0., 0., 0., 0., 0., 0., 0., 0., 0., 0.,\n",
              "       0., 0., 0., 0., 0., 0., 0., 0., 0., 0., 0., 0., 0., 0., 0., 0., 0.,\n",
              "       0., 0., 0., 0., 0., 0., 0., 0., 0., 0., 0., 0., 0., 0., 0., 0., 0.,\n",
              "       0., 0., 0., 0., 0., 0., 0., 0., 0., 0., 0., 0., 0., 0., 0., 0., 0.,\n",
              "       0., 0., 0., 0., 0., 0., 0., 0., 0., 0., 0., 0., 0., 0., 0., 0., 0.,\n",
              "       0., 0., 0., 0., 0., 0., 0., 0., 0., 0., 0., 0., 0., 0., 0., 0., 0.,\n",
              "       0., 0., 0., 0., 0., 0., 0., 0., 0., 0., 0., 0., 0., 0., 0., 0., 0.,\n",
              "       0., 0., 0., 0., 0., 0., 0., 0., 0., 0., 0., 0., 0., 0., 0., 0., 0.,\n",
              "       0., 0., 0., 0., 0., 0., 0., 0., 0., 0., 0., 0., 0., 0., 0., 0., 0.,\n",
              "       0., 0., 0., 0., 0., 0., 0., 0., 0., 0., 0.], dtype=float32)"
            ]
          },
          "metadata": {
            "tags": []
          },
          "execution_count": 21
        }
      ]
    },
    {
      "cell_type": "code",
      "metadata": {
        "colab": {
          "base_uri": "https://localhost:8080/"
        },
        "id": "yQm-DFGsNGVk",
        "outputId": "ae5bb225-3ebb-4dab-8d90-9ada1a0826e5"
      },
      "source": [
        "biases.shape"
      ],
      "execution_count": 22,
      "outputs": [
        {
          "output_type": "execute_result",
          "data": {
            "text/plain": [
              "(300,)"
            ]
          },
          "metadata": {
            "tags": []
          },
          "execution_count": 22
        }
      ]
    },
    {
      "cell_type": "code",
      "metadata": {
        "id": "pDStK06fNHql"
      },
      "source": [
        "model.compile(loss = \"sparse_categorical_crossentropy\",optimizer=\"sgd\",metrics=['accuracy'])"
      ],
      "execution_count": 23,
      "outputs": []
    },
    {
      "cell_type": "code",
      "metadata": {
        "colab": {
          "base_uri": "https://localhost:8080/"
        },
        "id": "lCW5_KEUNUWw",
        "outputId": "50d28c51-0281-4938-80eb-3924e495d305"
      },
      "source": [
        "history = model.fit(X_train,y_train,epochs=30,validation_data=(X_valid,y_valid))"
      ],
      "execution_count": 24,
      "outputs": [
        {
          "output_type": "stream",
          "text": [
            "Epoch 1/30\n",
            "1719/1719 [==============================] - 8s 5ms/step - loss: 0.9746 - accuracy: 0.7000 - val_loss: 0.5373 - val_accuracy: 0.8058\n",
            "Epoch 2/30\n",
            "1719/1719 [==============================] - 7s 4ms/step - loss: 0.5043 - accuracy: 0.8240 - val_loss: 0.4813 - val_accuracy: 0.8304\n",
            "Epoch 3/30\n",
            "1719/1719 [==============================] - 7s 4ms/step - loss: 0.4509 - accuracy: 0.8438 - val_loss: 0.4350 - val_accuracy: 0.8490\n",
            "Epoch 4/30\n",
            "1719/1719 [==============================] - 7s 4ms/step - loss: 0.4278 - accuracy: 0.8494 - val_loss: 0.3935 - val_accuracy: 0.8614\n",
            "Epoch 5/30\n",
            "1719/1719 [==============================] - 7s 4ms/step - loss: 0.3955 - accuracy: 0.8619 - val_loss: 0.3875 - val_accuracy: 0.8662\n",
            "Epoch 6/30\n",
            "1719/1719 [==============================] - 7s 4ms/step - loss: 0.3821 - accuracy: 0.8634 - val_loss: 0.3764 - val_accuracy: 0.8706\n",
            "Epoch 7/30\n",
            "1719/1719 [==============================] - 7s 4ms/step - loss: 0.3620 - accuracy: 0.8724 - val_loss: 0.3637 - val_accuracy: 0.8736\n",
            "Epoch 8/30\n",
            "1719/1719 [==============================] - 7s 4ms/step - loss: 0.3563 - accuracy: 0.8728 - val_loss: 0.3652 - val_accuracy: 0.8686\n",
            "Epoch 9/30\n",
            "1719/1719 [==============================] - 7s 4ms/step - loss: 0.3431 - accuracy: 0.8773 - val_loss: 0.3534 - val_accuracy: 0.8740\n",
            "Epoch 10/30\n",
            "1719/1719 [==============================] - 7s 4ms/step - loss: 0.3383 - accuracy: 0.8790 - val_loss: 0.3552 - val_accuracy: 0.8758\n",
            "Epoch 11/30\n",
            "1719/1719 [==============================] - 7s 4ms/step - loss: 0.3247 - accuracy: 0.8824 - val_loss: 0.3430 - val_accuracy: 0.8788\n",
            "Epoch 12/30\n",
            "1719/1719 [==============================] - 7s 4ms/step - loss: 0.3209 - accuracy: 0.8856 - val_loss: 0.3321 - val_accuracy: 0.8850\n",
            "Epoch 13/30\n",
            "1719/1719 [==============================] - 7s 4ms/step - loss: 0.3106 - accuracy: 0.8875 - val_loss: 0.3245 - val_accuracy: 0.8854\n",
            "Epoch 14/30\n",
            "1719/1719 [==============================] - 7s 4ms/step - loss: 0.3027 - accuracy: 0.8899 - val_loss: 0.3348 - val_accuracy: 0.8842\n",
            "Epoch 15/30\n",
            "1719/1719 [==============================] - 7s 4ms/step - loss: 0.2998 - accuracy: 0.8915 - val_loss: 0.3212 - val_accuracy: 0.8880\n",
            "Epoch 16/30\n",
            "1719/1719 [==============================] - 7s 4ms/step - loss: 0.2954 - accuracy: 0.8935 - val_loss: 0.3364 - val_accuracy: 0.8776\n",
            "Epoch 17/30\n",
            "1719/1719 [==============================] - 5s 3ms/step - loss: 0.2850 - accuracy: 0.8974 - val_loss: 0.3150 - val_accuracy: 0.8874\n",
            "Epoch 18/30\n",
            "1719/1719 [==============================] - 5s 3ms/step - loss: 0.2829 - accuracy: 0.8990 - val_loss: 0.3110 - val_accuracy: 0.8914\n",
            "Epoch 19/30\n",
            "1719/1719 [==============================] - 5s 3ms/step - loss: 0.2756 - accuracy: 0.9014 - val_loss: 0.3161 - val_accuracy: 0.8904\n",
            "Epoch 20/30\n",
            "1719/1719 [==============================] - 5s 3ms/step - loss: 0.2725 - accuracy: 0.9007 - val_loss: 0.3163 - val_accuracy: 0.8876\n",
            "Epoch 21/30\n",
            "1719/1719 [==============================] - 5s 3ms/step - loss: 0.2584 - accuracy: 0.9065 - val_loss: 0.3060 - val_accuracy: 0.8926\n",
            "Epoch 22/30\n",
            "1719/1719 [==============================] - 5s 3ms/step - loss: 0.2675 - accuracy: 0.9026 - val_loss: 0.3212 - val_accuracy: 0.8838\n",
            "Epoch 23/30\n",
            "1719/1719 [==============================] - 5s 3ms/step - loss: 0.2549 - accuracy: 0.9075 - val_loss: 0.3099 - val_accuracy: 0.8894\n",
            "Epoch 24/30\n",
            "1719/1719 [==============================] - 5s 3ms/step - loss: 0.2527 - accuracy: 0.9085 - val_loss: 0.3172 - val_accuracy: 0.8894\n",
            "Epoch 25/30\n",
            "1719/1719 [==============================] - 5s 3ms/step - loss: 0.2463 - accuracy: 0.9123 - val_loss: 0.2959 - val_accuracy: 0.8930\n",
            "Epoch 26/30\n",
            "1719/1719 [==============================] - 5s 3ms/step - loss: 0.2454 - accuracy: 0.9120 - val_loss: 0.3073 - val_accuracy: 0.8902\n",
            "Epoch 27/30\n",
            "1719/1719 [==============================] - 5s 3ms/step - loss: 0.2364 - accuracy: 0.9155 - val_loss: 0.2963 - val_accuracy: 0.8934\n",
            "Epoch 28/30\n",
            "1719/1719 [==============================] - 5s 3ms/step - loss: 0.2321 - accuracy: 0.9168 - val_loss: 0.2938 - val_accuracy: 0.8954\n",
            "Epoch 29/30\n",
            "1719/1719 [==============================] - 5s 3ms/step - loss: 0.2315 - accuracy: 0.9175 - val_loss: 0.2931 - val_accuracy: 0.8950\n",
            "Epoch 30/30\n",
            "1719/1719 [==============================] - 5s 3ms/step - loss: 0.2271 - accuracy: 0.9192 - val_loss: 0.3033 - val_accuracy: 0.8936\n"
          ],
          "name": "stdout"
        }
      ]
    },
    {
      "cell_type": "code",
      "metadata": {
        "id": "itTO25SWNaDR"
      },
      "source": [
        "import pandas as pd\n",
        "import matplotlib.pyplot as plt"
      ],
      "execution_count": 25,
      "outputs": []
    },
    {
      "cell_type": "code",
      "metadata": {
        "colab": {
          "base_uri": "https://localhost:8080/",
          "height": 324
        },
        "id": "E9gU348NNgDl",
        "outputId": "3df9b613-c9c5-4a90-f6b0-59d564c2ac24"
      },
      "source": [
        "pd.DataFrame(history.history).plot(figsize=(8,5))\n",
        "plt.grid(True)\n",
        "plt.gca().set_ylim(0,1)\n",
        "plt.show()"
      ],
      "execution_count": 26,
      "outputs": [
        {
          "output_type": "display_data",
          "data": {
            "image/png": "[encoded data removed]",
            "text/plain": [
              "<Figure size 576x360 with 1 Axes>"
            ]
          },
          "metadata": {
            "tags": [],
            "needs_background": "light"
          }
        }
      ]
    },
    {
      "cell_type": "code",
      "metadata": {
        "colab": {
          "base_uri": "https://localhost:8080/"
        },
        "id": "W-ZbtHO_OHrI",
        "outputId": "338d48ee-a5f9-4c85-feeb-ac7db4141fd2"
      },
      "source": [
        "model.evaluate(X_test,y_test)"
      ],
      "execution_count": 27,
      "outputs": [
        {
          "output_type": "stream",
          "text": [
            "313/313 [==============================] - 1s 2ms/step - loss: 79.3401 - accuracy: 0.8317\n"
          ],
          "name": "stdout"
        },
        {
          "output_type": "execute_result",
          "data": {
            "text/plain": [
              "[79.34012603759766, 0.8317000269889832]"
            ]
          },
          "metadata": {
            "tags": []
          },
          "execution_count": 27
        }
      ]
    },
    {
      "cell_type": "code",
      "metadata": {
        "colab": {
          "base_uri": "https://localhost:8080/"
        },
        "id": "L8k99ngcOSXy",
        "outputId": "4f8d78b5-6622-48ca-880c-e44ca395c231"
      },
      "source": [
        "X_new = X_test[:3]\n",
        "y_proba = model.predict(X_new)\n",
        "y_proba.round(2)"
      ],
      "execution_count": 28,
      "outputs": [
        {
          "output_type": "execute_result",
          "data": {
            "text/plain": [
              "array([[0., 0., 0., 0., 0., 0., 0., 0., 0., 1.],\n",
              "       [0., 0., 1., 0., 0., 0., 0., 0., 0., 0.],\n",
              "       [0., 1., 0., 0., 0., 0., 0., 0., 0., 0.]], dtype=float32)"
            ]
          },
          "metadata": {
            "tags": []
          },
          "execution_count": 28
        }
      ]
    },
    {
      "cell_type": "code",
      "metadata": {
        "colab": {
          "base_uri": "https://localhost:8080/"
        },
        "id": "XENLdA1DOY1e",
        "outputId": "a3f47969-4b23-46f5-e954-8c2d35f7b82b"
      },
      "source": [
        "y_pred = model.predict_classes(X_new)\n",
        "y_pred"
      ],
      "execution_count": 29,
      "outputs": [
        {
          "output_type": "stream",
          "text": [
            "/usr/local/lib/python3.7/dist-packages/tensorflow/python/keras/engine/sequential.py:450: UserWarning: `model.predict_classes()` is deprecated and will be removed after 2021-01-01. Please use instead:* `np.argmax(model.predict(x), axis=-1)`,   if your model does multi-class classification   (e.g. if it uses a `softmax` last-layer activation).* `(model.predict(x) > 0.5).astype(\"int32\")`,   if your model does binary classification   (e.g. if it uses a `sigmoid` last-layer activation).\n",
            "  warnings.warn('`model.predict_classes()` is deprecated and '\n"
          ],
          "name": "stderr"
        },
        {
          "output_type": "execute_result",
          "data": {
            "text/plain": [
              "array([9, 2, 1])"
            ]
          },
          "metadata": {
            "tags": []
          },
          "execution_count": 29
        }
      ]
    },
    {
      "cell_type": "code",
      "metadata": {
        "colab": {
          "base_uri": "https://localhost:8080/"
        },
        "id": "cZHeeK_FOdbu",
        "outputId": "58d6e84f-ba54-4d6a-bb99-f8de2b21733a"
      },
      "source": [
        "import numpy as np\n",
        "np.array(class_names)[y_pred]"
      ],
      "execution_count": 30,
      "outputs": [
        {
          "output_type": "execute_result",
          "data": {
            "text/plain": [
              "array(['Ankle boot', 'Pullover', 'Trouser'], dtype='<U11')"
            ]
          },
          "metadata": {
            "tags": []
          },
          "execution_count": 30
        }
      ]
    },
    {
      "cell_type": "code",
      "metadata": {
        "colab": {
          "base_uri": "https://localhost:8080/"
        },
        "id": "KvVduMsoOjVS",
        "outputId": "318b1fa5-2dd8-4dad-d744-4b9341d282dc"
      },
      "source": [
        "y_new = y_test[:3]\n",
        "y_new"
      ],
      "execution_count": 31,
      "outputs": [
        {
          "output_type": "execute_result",
          "data": {
            "text/plain": [
              "array([9, 2, 1], dtype=uint8)"
            ]
          },
          "metadata": {
            "tags": []
          },
          "execution_count": 31
        }
      ]
    },
    {
      "cell_type": "code",
      "metadata": {
        "id": "BknCqEqQOuMd"
      },
      "source": [
        "from sklearn.datasets import fetch_california_housing\n",
        "from sklearn.model_selection import train_test_split\n",
        "from sklearn.preprocessing import StandardScaler\n",
        "housing = fetch_california_housing()"
      ],
      "execution_count": 32,
      "outputs": []
    },
    {
      "cell_type": "code",
      "metadata": {
        "id": "BCb9xCMcPJS2"
      },
      "source": [
        "X_train_full,X_test,y_train_full,y_test = train_test_split(housing.data,housing.target)\n",
        "X_train,X_valid,y_train,y_valid = train_test_split(X_train_full,y_train_full)\n",
        "scaler = StandardScaler()\n",
        "X_train = scaler.fit_transform(X_train)\n",
        "X_valid = scaler.transform(X_valid)\n",
        "X_test = scaler.transform(X_test)"
      ],
      "execution_count": 33,
      "outputs": []
    },
    {
      "cell_type": "code",
      "metadata": {
        "colab": {
          "base_uri": "https://localhost:8080/"
        },
        "id": "VNEp47pwPkDG",
        "outputId": "12d0efc6-ad92-46dc-e44c-057e94568c9f"
      },
      "source": [
        "model  = keras.models.Sequential([keras.layers.Dense(30,activation=\"relu\",input_shape=X_train.shape[1:]),keras.layers.Dense(1)])\n",
        "model.compile(loss=\"mean_squared_error\",optimizer=\"sgd\")\n",
        "history = model.fit(X_train,y_train,epochs = 20,validation_data=(X_valid,y_valid))\n",
        "mse_test = model.evaluate(X_test,y_test)\n",
        "X_new = X_test[:3]\n",
        "y_pred = model.predict(X_new)"
      ],
      "execution_count": 34,
      "outputs": [
        {
          "output_type": "stream",
          "text": [
            "Epoch 1/20\n",
            "363/363 [==============================] - 1s 2ms/step - loss: 3.0910 - val_loss: 2.2666\n",
            "Epoch 2/20\n",
            "363/363 [==============================] - 0s 1ms/step - loss: 0.9891 - val_loss: 0.4201\n",
            "Epoch 3/20\n",
            "363/363 [==============================] - 1s 1ms/step - loss: 0.4125 - val_loss: 0.3918\n",
            "Epoch 4/20\n",
            "363/363 [==============================] - 1s 1ms/step - loss: 0.4173 - val_loss: 0.3774\n",
            "Epoch 5/20\n",
            "363/363 [==============================] - 1s 1ms/step - loss: 0.3679 - val_loss: 0.3669\n",
            "Epoch 6/20\n",
            "363/363 [==============================] - 0s 1ms/step - loss: 0.3573 - val_loss: 0.3636\n",
            "Epoch 7/20\n",
            "363/363 [==============================] - 0s 1ms/step - loss: 0.3502 - val_loss: 0.3650\n",
            "Epoch 8/20\n",
            "363/363 [==============================] - 1s 1ms/step - loss: 0.3598 - val_loss: 0.3534\n",
            "Epoch 9/20\n",
            "363/363 [==============================] - 1s 1ms/step - loss: 0.3548 - val_loss: 0.3569\n",
            "Epoch 10/20\n",
            "363/363 [==============================] - 1s 1ms/step - loss: 0.3462 - val_loss: 0.3564\n",
            "Epoch 11/20\n",
            "363/363 [==============================] - 0s 1ms/step - loss: 0.3431 - val_loss: 0.3488\n",
            "Epoch 12/20\n",
            "363/363 [==============================] - 0s 1ms/step - loss: 0.3396 - val_loss: 0.3486\n",
            "Epoch 13/20\n",
            "363/363 [==============================] - 0s 1ms/step - loss: 0.3478 - val_loss: 0.3503\n",
            "Epoch 14/20\n",
            "363/363 [==============================] - 0s 1ms/step - loss: 0.3308 - val_loss: 0.3433\n",
            "Epoch 15/20\n",
            "363/363 [==============================] - 1s 1ms/step - loss: 0.3335 - val_loss: 0.3455\n",
            "Epoch 16/20\n",
            "363/363 [==============================] - 1s 1ms/step - loss: 0.3423 - val_loss: 0.3415\n",
            "Epoch 17/20\n",
            "363/363 [==============================] - 0s 1ms/step - loss: 0.3489 - val_loss: 0.3409\n",
            "Epoch 18/20\n",
            "363/363 [==============================] - 0s 1ms/step - loss: 0.3456 - val_loss: 0.3396\n",
            "Epoch 19/20\n",
            "363/363 [==============================] - 1s 1ms/step - loss: 0.3411 - val_loss: 0.3381\n",
            "Epoch 20/20\n",
            "363/363 [==============================] - 1s 1ms/step - loss: 0.3457 - val_loss: 0.3383\n",
            "162/162 [==============================] - 0s 821us/step - loss: 0.3054\n"
          ],
          "name": "stdout"
        }
      ]
    },
    {
      "cell_type": "code",
      "metadata": {
        "id": "PxymC0c9QFFW"
      },
      "source": [
        "input_ = keras.layers.Input(shape=X_train.shape[1:])\n",
        "hidden1 = keras.layers.Dense(30,activation=\"relu\")(input_)\n",
        "hidden2 = keras.layers.Dense(30,activation='relu')(hidden1)\n",
        "concat = keras.layers.Concatenate()([input_,hidden2])\n",
        "output = keras.layers.Dense(1)(concat)\n",
        "model = keras.Model(inputs = [input_],outputs = [output])"
      ],
      "execution_count": 35,
      "outputs": []
    },
    {
      "cell_type": "code",
      "metadata": {
        "id": "Z8oqothERDre"
      },
      "source": [
        "input_A = keras.layers.Input(shape=[5],name=\"wide_input\")\n",
        "input_B = keras.layers.Input(shape=[6],name=\"deep_input\")\n",
        "hidden1 = keras.layers.Dense(30,activation=\"relu\")(input_B)\n",
        "hidden2 = keras.layers.Dense(30,activation=\"relu\")(hidden1)\n",
        "concat = keras.layers.concatenate([input_A,hidden2])\n",
        "output = keras.layers.Dense(1,name='output')(concat)\n",
        "model = keras.Model(inputs = [input_A,input_B],outputs = [output])"
      ],
      "execution_count": 36,
      "outputs": []
    },
    {
      "cell_type": "code",
      "metadata": {
        "colab": {
          "base_uri": "https://localhost:8080/"
        },
        "id": "jqqsoc9oSHTb",
        "outputId": "be96a31b-72d1-4134-88c3-ce572bc23310"
      },
      "source": [
        "model.compile(loss=\"mse\",optimizer=keras.optimizers.SGD(lr=1e-3))\n",
        "X_train_A,X_train_B = X_train[:,:5],X_train[:,2:]\n",
        "X_valid_A,X_valid_B = X_valid[:,:5],X_valid[:,2:]\n",
        "X_test_A,X_test_B = X_test[:,:5],X_test[:,2:]\n",
        "X_new_A,X_new_B = X_test_A[:3],X_test_B[:3]\n",
        "history = model.fit((X_train_A,X_train_B),y_train,epochs=20,validation_data=((X_valid_A,X_valid_B),y_valid))\n",
        "mse_test = model.evaluate((X_test_A,X_test_B),y_test)\n",
        "y_pred = model.predict((X_new_A,X_new_B))"
      ],
      "execution_count": 37,
      "outputs": [
        {
          "output_type": "stream",
          "text": [
            "Epoch 1/20\n",
            "363/363 [==============================] - 1s 2ms/step - loss: 3.6495 - val_loss: 0.8890\n",
            "Epoch 2/20\n",
            "363/363 [==============================] - 1s 2ms/step - loss: 0.8382 - val_loss: 0.7208\n",
            "Epoch 3/20\n",
            "363/363 [==============================] - 1s 2ms/step - loss: 0.6967 - val_loss: 0.6718\n",
            "Epoch 4/20\n",
            "363/363 [==============================] - 1s 2ms/step - loss: 0.6605 - val_loss: 0.6402\n",
            "Epoch 5/20\n",
            "363/363 [==============================] - 1s 1ms/step - loss: 0.6271 - val_loss: 0.6197\n",
            "Epoch 6/20\n",
            "363/363 [==============================] - 1s 1ms/step - loss: 0.6105 - val_loss: 0.6006\n",
            "Epoch 7/20\n",
            "363/363 [==============================] - 1s 2ms/step - loss: 0.6048 - val_loss: 0.5860\n",
            "Epoch 8/20\n",
            "363/363 [==============================] - 1s 1ms/step - loss: 0.5743 - val_loss: 0.5672\n",
            "Epoch 9/20\n",
            "363/363 [==============================] - 1s 1ms/step - loss: 0.5502 - val_loss: 0.5543\n",
            "Epoch 10/20\n",
            "363/363 [==============================] - 1s 1ms/step - loss: 0.5250 - val_loss: 0.5431\n",
            "Epoch 11/20\n",
            "363/363 [==============================] - 1s 1ms/step - loss: 0.5170 - val_loss: 0.5353\n",
            "Epoch 12/20\n",
            "363/363 [==============================] - 1s 2ms/step - loss: 0.4967 - val_loss: 0.5316\n",
            "Epoch 13/20\n",
            "363/363 [==============================] - 1s 2ms/step - loss: 0.5010 - val_loss: 0.5161\n",
            "Epoch 14/20\n",
            "363/363 [==============================] - 1s 1ms/step - loss: 0.5028 - val_loss: 0.5084\n",
            "Epoch 15/20\n",
            "363/363 [==============================] - 1s 2ms/step - loss: 0.4845 - val_loss: 0.5014\n",
            "Epoch 16/20\n",
            "363/363 [==============================] - 1s 1ms/step - loss: 0.4814 - val_loss: 0.5004\n",
            "Epoch 17/20\n",
            "363/363 [==============================] - 1s 1ms/step - loss: 0.4869 - val_loss: 0.4962\n",
            "Epoch 18/20\n",
            "363/363 [==============================] - 1s 2ms/step - loss: 0.4977 - val_loss: 0.4942\n",
            "Epoch 19/20\n",
            "363/363 [==============================] - 1s 1ms/step - loss: 0.4817 - val_loss: 0.4817\n",
            "Epoch 20/20\n",
            "363/363 [==============================] - 1s 2ms/step - loss: 0.4496 - val_loss: 0.4782\n",
            "162/162 [==============================] - 0s 938us/step - loss: 0.4454\n"
          ],
          "name": "stdout"
        }
      ]
    },
    {
      "cell_type": "code",
      "metadata": {
        "id": "7rQF0b9ESybw"
      },
      "source": [
        "output = keras.layers.Dense(1,name=\"main_output\")(concat)\n",
        "aux_output = keras.layers.Dense(1,name=\"aux_output\")(hidden2)\n",
        "model = keras.Model(inputs=[input_A,input_B],outputs=[output,aux_output])"
      ],
      "execution_count": 38,
      "outputs": []
    },
    {
      "cell_type": "code",
      "metadata": {
        "colab": {
          "base_uri": "https://localhost:8080/"
        },
        "id": "SEiDOv-gTVZd",
        "outputId": "980c29af-9e91-4b7f-cfc9-24c5438dd520"
      },
      "source": [
        "model.compile(loss=[\"mse\",\"mse\"],loss_weights=[0.9,0.1],optimizer=\"sgd\")\n",
        "history = model.fit([X_train_A,X_train_B],[y_train,y_train],epochs=20,\n",
        "                    validation_data=([X_valid_A,X_valid_B],[y_valid,y_valid]))"
      ],
      "execution_count": 39,
      "outputs": [
        {
          "output_type": "stream",
          "text": [
            "Epoch 1/20\n",
            "363/363 [==============================] - 2s 2ms/step - loss: 1.3129 - main_output_loss: 1.1702 - aux_output_loss: 2.5970 - val_loss: 0.5465 - val_main_output_loss: 0.4800 - val_aux_output_loss: 1.1445\n",
            "Epoch 2/20\n",
            "363/363 [==============================] - 1s 2ms/step - loss: 0.5587 - main_output_loss: 0.4900 - aux_output_loss: 1.1766 - val_loss: 0.5051 - val_main_output_loss: 0.4480 - val_aux_output_loss: 1.0184\n",
            "Epoch 3/20\n",
            "363/363 [==============================] - 1s 2ms/step - loss: 0.5275 - main_output_loss: 0.4702 - aux_output_loss: 1.0432 - val_loss: 0.4880 - val_main_output_loss: 0.4404 - val_aux_output_loss: 0.9163\n",
            "Epoch 4/20\n",
            "363/363 [==============================] - 1s 2ms/step - loss: 0.4789 - main_output_loss: 0.4301 - aux_output_loss: 0.9184 - val_loss: 0.4687 - val_main_output_loss: 0.4270 - val_aux_output_loss: 0.8442\n",
            "Epoch 5/20\n",
            "363/363 [==============================] - 1s 2ms/step - loss: 0.4665 - main_output_loss: 0.4236 - aux_output_loss: 0.8519 - val_loss: 0.4506 - val_main_output_loss: 0.4150 - val_aux_output_loss: 0.7713\n",
            "Epoch 6/20\n",
            "363/363 [==============================] - 1s 2ms/step - loss: 0.4400 - main_output_loss: 0.4051 - aux_output_loss: 0.7542 - val_loss: 0.4676 - val_main_output_loss: 0.4382 - val_aux_output_loss: 0.7321\n",
            "Epoch 7/20\n",
            "363/363 [==============================] - 1s 2ms/step - loss: 0.4538 - main_output_loss: 0.4242 - aux_output_loss: 0.7202 - val_loss: 0.4375 - val_main_output_loss: 0.4116 - val_aux_output_loss: 0.6699\n",
            "Epoch 8/20\n",
            "363/363 [==============================] - 1s 2ms/step - loss: 0.4308 - main_output_loss: 0.4031 - aux_output_loss: 0.6796 - val_loss: 0.4301 - val_main_output_loss: 0.4069 - val_aux_output_loss: 0.6383\n",
            "Epoch 9/20\n",
            "363/363 [==============================] - 1s 2ms/step - loss: 0.4374 - main_output_loss: 0.4132 - aux_output_loss: 0.6553 - val_loss: 0.4330 - val_main_output_loss: 0.4139 - val_aux_output_loss: 0.6041\n",
            "Epoch 10/20\n",
            "363/363 [==============================] - 1s 2ms/step - loss: 0.4378 - main_output_loss: 0.4167 - aux_output_loss: 0.6277 - val_loss: 0.4114 - val_main_output_loss: 0.3910 - val_aux_output_loss: 0.5953\n",
            "Epoch 11/20\n",
            "363/363 [==============================] - 1s 2ms/step - loss: 0.4295 - main_output_loss: 0.4089 - aux_output_loss: 0.6151 - val_loss: 0.4137 - val_main_output_loss: 0.3938 - val_aux_output_loss: 0.5935\n",
            "Epoch 12/20\n",
            "363/363 [==============================] - 1s 2ms/step - loss: 0.3986 - main_output_loss: 0.3764 - aux_output_loss: 0.5981 - val_loss: 0.4047 - val_main_output_loss: 0.3868 - val_aux_output_loss: 0.5660\n",
            "Epoch 13/20\n",
            "363/363 [==============================] - 1s 2ms/step - loss: 0.3957 - main_output_loss: 0.3749 - aux_output_loss: 0.5836 - val_loss: 0.3956 - val_main_output_loss: 0.3787 - val_aux_output_loss: 0.5474\n",
            "Epoch 14/20\n",
            "363/363 [==============================] - 1s 2ms/step - loss: 0.4040 - main_output_loss: 0.3849 - aux_output_loss: 0.5757 - val_loss: 0.3885 - val_main_output_loss: 0.3723 - val_aux_output_loss: 0.5343\n",
            "Epoch 15/20\n",
            "363/363 [==============================] - 1s 2ms/step - loss: 0.4081 - main_output_loss: 0.3906 - aux_output_loss: 0.5652 - val_loss: 0.3825 - val_main_output_loss: 0.3668 - val_aux_output_loss: 0.5234\n",
            "Epoch 16/20\n",
            "363/363 [==============================] - 1s 2ms/step - loss: 0.3783 - main_output_loss: 0.3620 - aux_output_loss: 0.5251 - val_loss: 0.3878 - val_main_output_loss: 0.3730 - val_aux_output_loss: 0.5209\n",
            "Epoch 17/20\n",
            "363/363 [==============================] - 1s 2ms/step - loss: 0.3834 - main_output_loss: 0.3679 - aux_output_loss: 0.5237 - val_loss: 0.4130 - val_main_output_loss: 0.4006 - val_aux_output_loss: 0.5240\n",
            "Epoch 18/20\n",
            "363/363 [==============================] - 1s 2ms/step - loss: 0.4015 - main_output_loss: 0.3866 - aux_output_loss: 0.5357 - val_loss: 0.3773 - val_main_output_loss: 0.3631 - val_aux_output_loss: 0.5052\n",
            "Epoch 19/20\n",
            "363/363 [==============================] - 1s 2ms/step - loss: 0.3825 - main_output_loss: 0.3666 - aux_output_loss: 0.5253 - val_loss: 0.3754 - val_main_output_loss: 0.3617 - val_aux_output_loss: 0.4983\n",
            "Epoch 20/20\n",
            "363/363 [==============================] - 1s 2ms/step - loss: 0.4005 - main_output_loss: 0.3859 - aux_output_loss: 0.5325 - val_loss: 0.3767 - val_main_output_loss: 0.3637 - val_aux_output_loss: 0.4930\n"
          ],
          "name": "stdout"
        }
      ]
    },
    {
      "cell_type": "code",
      "metadata": {
        "colab": {
          "base_uri": "https://localhost:8080/"
        },
        "id": "BHxbgsFxTsx4",
        "outputId": "2b786b17-54cf-46e1-9cf8-415c0ace7ba9"
      },
      "source": [
        "total_loss,main_loss,aux_loss = model.evaluate([X_test_A,X_test_B],[y_test,y_test])"
      ],
      "execution_count": 40,
      "outputs": [
        {
          "output_type": "stream",
          "text": [
            "162/162 [==============================] - 0s 1ms/step - loss: 0.3579 - main_output_loss: 0.3445 - aux_output_loss: 0.4789\n"
          ],
          "name": "stdout"
        }
      ]
    },
    {
      "cell_type": "code",
      "metadata": {
        "id": "IYW_43q_T_KP"
      },
      "source": [
        "y_pred_main,y_pred_aux = model.predict([X_new_A,X_new_B])"
      ],
      "execution_count": 41,
      "outputs": []
    },
    {
      "cell_type": "code",
      "metadata": {
        "id": "MCyPzmF2UEFN"
      },
      "source": [
        ""
      ],
      "execution_count": 41,
      "outputs": []
    }
  ]
}