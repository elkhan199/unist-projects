{
  "nbformat": 4,
  "nbformat_minor": 0,
  "metadata": {
    "colab": {
      "name": "aip2_assingnment_lab10_RNN_20182010.ipynb",
      "provenance": [],
      "collapsed_sections": []
    },
    "kernelspec": {
      "name": "python3",
      "display_name": "Python 3"
    },
    "language_info": {
      "name": "python"
    },
    "accelerator": "GPU"
  },
  "cells": [
    {
      "cell_type": "code",
      "metadata": {
        "id": "3S3_QTGSjg30"
      },
      "source": [
        "import sys\n",
        "import sklearn\n",
        "\n",
        "import tensorflow as tf\n",
        "from tensorflow import keras\n",
        "assert tf.__version__>='2.0'\n",
        "\n",
        "import numpy as np\n",
        "import os\n",
        "from pathlib import Path\n",
        "\n",
        "from tensorflow.keras.utils import plot_model\n",
        "\n",
        "np.random.seed(42)\n",
        "tf.random.set_seed(42)\n",
        "\n",
        "%matplotlib inline\n",
        "import matplotlib.pyplot as plt\n",
        "import matplotlib as mpl\n",
        "mpl.rc(\"axes\",labelsize=14)\n",
        "mpl.rc(\"xtick\",labelsize=12)\n",
        "mpl.rc(\"ytick\",labelsize=12)"
      ],
      "execution_count": 1,
      "outputs": []
    },
    {
      "cell_type": "code",
      "metadata": {
        "id": "waN_5nD0uK3s"
      },
      "source": [
        "def generate_time_series(batch_size,n_steps):\n",
        "  freq1, freq2, offsets1, offsets2 = np.random.rand(4,batch_size,1)\n",
        "  time = np.linspace(0,1,n_steps)\n",
        "  series = 0.5*np.sin((time-offsets1)*(freq1*10+10))\n",
        "  series+=0.2*np.sin((time-offsets2)*(freq2*20+20))\n",
        "  series+=0.1*(np.random.rand(batch_size,n_steps)-0.5)\n",
        "  return series[...,np.newaxis].astype(np.float32)"
      ],
      "execution_count": 2,
      "outputs": []
    },
    {
      "cell_type": "code",
      "metadata": {
        "id": "KVKteNbUuwA9"
      },
      "source": [
        "np.random.seed(42)\n",
        "n_steps = 50\n",
        "series = generate_time_series(10000,n_steps+1)\n",
        "X_train,y_train = series[:7000,:n_steps],series[:7000,-1]\n",
        "X_valid,y_valid = series[7000:9000,:n_steps],series[7000:9000,-1]\n",
        "X_test,y_test = series[9000:,:n_steps], series[9000:,-1]"
      ],
      "execution_count": 3,
      "outputs": []
    },
    {
      "cell_type": "code",
      "metadata": {
        "colab": {
          "base_uri": "https://localhost:8080/"
        },
        "id": "nYcDzBTqvI_l",
        "outputId": "2f63b25f-f0c5-4806-9fca-a3ae1bd08c99"
      },
      "source": [
        "X_train.shape, y_train.shape"
      ],
      "execution_count": 4,
      "outputs": [
        {
          "output_type": "execute_result",
          "data": {
            "text/plain": [
              "((7000, 50, 1), (7000, 1))"
            ]
          },
          "metadata": {
            "tags": []
          },
          "execution_count": 4
        }
      ]
    },
    {
      "cell_type": "code",
      "metadata": {
        "colab": {
          "base_uri": "https://localhost:8080/"
        },
        "id": "XRTt_THWvLMU",
        "outputId": "61352487-0d13-478d-f43b-5652c6a7e238"
      },
      "source": [
        "X_valid.shape, y_valid.shape"
      ],
      "execution_count": 5,
      "outputs": [
        {
          "output_type": "execute_result",
          "data": {
            "text/plain": [
              "((2000, 50, 1), (2000, 1))"
            ]
          },
          "metadata": {
            "tags": []
          },
          "execution_count": 5
        }
      ]
    },
    {
      "cell_type": "code",
      "metadata": {
        "colab": {
          "base_uri": "https://localhost:8080/"
        },
        "id": "HFXR1-yIvNVk",
        "outputId": "2be7617e-8a2a-4a7c-f092-6d1b21e7f839"
      },
      "source": [
        "X_test.shape, y_test.shape"
      ],
      "execution_count": 6,
      "outputs": [
        {
          "output_type": "execute_result",
          "data": {
            "text/plain": [
              "((1000, 50, 1), (1000, 1))"
            ]
          },
          "metadata": {
            "tags": []
          },
          "execution_count": 6
        }
      ]
    },
    {
      "cell_type": "code",
      "metadata": {
        "id": "M-1loY2hvQGB"
      },
      "source": [
        "def plot_series(series,y=None,y_pred=None,x_label=\"$t$\",y_label=\"$x(t)$\"):\n",
        "  n_steps = series.shape[0]\n",
        "  plt.plot(series,\".-\", label='x')\n",
        "  if y is not None:\n",
        "    plt.plot(n_steps,y,\"bx\",label=\"actual y\", markersize=10)\n",
        "  if y_pred is not None:\n",
        "    plt.plot(n_steps,y_pred,\"ro\",label=\"predicted y\")\n",
        "  plt.grid(True)\n",
        "  if x_label:\n",
        "    plt.xlabel(x_label,fontsize=16)\n",
        "  if y_label:\n",
        "    plt.ylabel(y_label,fontsize=16,rotation=0)\n",
        "  plt.hlines(0,0,100,linewidth=1)\n",
        "  plt.axis([0,n_steps+1,None,None])\n",
        "  plt.legend()"
      ],
      "execution_count": 7,
      "outputs": []
    },
    {
      "cell_type": "code",
      "metadata": {
        "id": "VP47SYFYv8RG"
      },
      "source": [
        "def plot_multiple_forecasts(X,Y,Y_pred):\n",
        "  n_steps = X.shape[1]\n",
        "  ahead = Y.shape[1]\n",
        "  plot_series(X[0,:,0])\n",
        "  plt.plot(np.arange(n_steps,n_steps+ahead),Y[0,:,0],\"bx-\",label=\"Actual\")\n",
        "  plt.plot(np.arange(n_steps,n_steps+ahead),Y_pred[0,:,0],\"ro-\",label=\"Forecast\",markersize=10)\n",
        "  plt.axis([0,n_steps+ahead,None,None])\n",
        "  plt.legend(fontsize=14)"
      ],
      "execution_count": 8,
      "outputs": []
    },
    {
      "cell_type": "code",
      "metadata": {
        "id": "AtyLVEKPwbiU"
      },
      "source": [
        "def plot_learning_curves(loss,val_loss):\n",
        "  plt.plot(np.arange(len(loss))+0.5,loss,\"b.-\",label=\"Training loss\")\n",
        "  plt.plot(np.arange(len(val_loss))+1,val_loss,\"r.-\",label=\"Validation loss\")\n",
        "  plt.gca().xaxis.set_major_locator(mpl.ticker.MaxNLocator(integer=True))\n",
        "  plt.axis([1,20,None,None])\n",
        "  plt.legend(fontsize=14)\n",
        "  plt.xlabel(\"Epochs\")\n",
        "  plt.ylabel(\"Loss\")\n",
        "  plt.grid(True)"
      ],
      "execution_count": 9,
      "outputs": []
    },
    {
      "cell_type": "code",
      "metadata": {
        "colab": {
          "base_uri": "https://localhost:8080/"
        },
        "id": "UqVpG9EDyVM8",
        "outputId": "0d404a38-d4f4-4c16-ebcc-90dc8c6ac881"
      },
      "source": [
        "np.random.seed(42)\n",
        "tf.random.set_seed(42)\n",
        "\n",
        "simple_rnn = keras.models.Sequential([\n",
        "                                      keras.layers.SimpleRNN(1,input_shape=[None,1])\n",
        "])\n",
        "simple_rnn.compile(loss=\"mse\",optimizer=\"adam\")\n",
        "history = simple_rnn.fit(X_train,y_train,epochs=20,\n",
        "                         validation_data=(X_valid,y_valid))"
      ],
      "execution_count": 10,
      "outputs": [
        {
          "output_type": "stream",
          "text": [
            "Epoch 1/20\n",
            "219/219 [==============================] - 10s 30ms/step - loss: 0.2033 - val_loss: 0.1331\n",
            "Epoch 2/20\n",
            "219/219 [==============================] - 6s 29ms/step - loss: 0.1000 - val_loss: 0.0863\n",
            "Epoch 3/20\n",
            "219/219 [==============================] - 6s 29ms/step - loss: 0.0747 - val_loss: 0.0694\n",
            "Epoch 4/20\n",
            "219/219 [==============================] - 6s 29ms/step - loss: 0.0612 - val_loss: 0.0575\n",
            "Epoch 5/20\n",
            "219/219 [==============================] - 6s 30ms/step - loss: 0.0516 - val_loss: 0.0489\n",
            "Epoch 6/20\n",
            "219/219 [==============================] - 6s 29ms/step - loss: 0.0445 - val_loss: 0.0424\n",
            "Epoch 7/20\n",
            "219/219 [==============================] - 6s 29ms/step - loss: 0.0391 - val_loss: 0.0374\n",
            "Epoch 8/20\n",
            "219/219 [==============================] - 6s 29ms/step - loss: 0.0349 - val_loss: 0.0333\n",
            "Epoch 9/20\n",
            "219/219 [==============================] - 6s 30ms/step - loss: 0.0314 - val_loss: 0.0301\n",
            "Epoch 10/20\n",
            "219/219 [==============================] - 6s 29ms/step - loss: 0.0286 - val_loss: 0.0274\n",
            "Epoch 11/20\n",
            "219/219 [==============================] - 6s 29ms/step - loss: 0.0262 - val_loss: 0.0251\n",
            "Epoch 12/20\n",
            "219/219 [==============================] - 6s 30ms/step - loss: 0.0241 - val_loss: 0.0231\n",
            "Epoch 13/20\n",
            "219/219 [==============================] - 6s 29ms/step - loss: 0.0224 - val_loss: 0.0214\n",
            "Epoch 14/20\n",
            "219/219 [==============================] - 6s 29ms/step - loss: 0.0208 - val_loss: 0.0199\n",
            "Epoch 15/20\n",
            "219/219 [==============================] - 6s 29ms/step - loss: 0.0195 - val_loss: 0.0186\n",
            "Epoch 16/20\n",
            "219/219 [==============================] - 6s 29ms/step - loss: 0.0183 - val_loss: 0.0175\n",
            "Epoch 17/20\n",
            "219/219 [==============================] - 6s 30ms/step - loss: 0.0173 - val_loss: 0.0165\n",
            "Epoch 18/20\n",
            "219/219 [==============================] - 6s 29ms/step - loss: 0.0163 - val_loss: 0.0156\n",
            "Epoch 19/20\n",
            "219/219 [==============================] - 6s 29ms/step - loss: 0.0155 - val_loss: 0.0148\n",
            "Epoch 20/20\n",
            "219/219 [==============================] - 6s 29ms/step - loss: 0.0148 - val_loss: 0.0141\n"
          ],
          "name": "stdout"
        }
      ]
    },
    {
      "cell_type": "code",
      "metadata": {
        "colab": {
          "base_uri": "https://localhost:8080/",
          "height": 201
        },
        "id": "khdsJ8RMyrU_",
        "outputId": "2736e52c-2b04-48b9-ada2-4ff7eeeb34fe"
      },
      "source": [
        "plot_model(simple_rnn,to_file=\"model_shapes.png\",show_shapes=True)"
      ],
      "execution_count": 11,
      "outputs": [
        {
          "output_type": "execute_result",
          "data": {
            "image/png": "[encoded data removed]",
            "text/plain": [
              "<IPython.core.display.Image object>"
            ]
          },
          "metadata": {
            "tags": []
          },
          "execution_count": 11
        }
      ]
    },
    {
      "cell_type": "code",
      "metadata": {
        "colab": {
          "base_uri": "https://localhost:8080/"
        },
        "id": "QFeG4MCcy2_5",
        "outputId": "0b3b1487-2ad3-47c2-ae25-14c7278f0f2b"
      },
      "source": [
        "simple_rnn.evaluate(X_valid,y_valid)"
      ],
      "execution_count": 12,
      "outputs": [
        {
          "output_type": "stream",
          "text": [
            "63/63 [==============================] - 0s 4ms/step - loss: 0.0141\n"
          ],
          "name": "stdout"
        },
        {
          "output_type": "execute_result",
          "data": {
            "text/plain": [
              "0.014119226485490799"
            ]
          },
          "metadata": {
            "tags": []
          },
          "execution_count": 12
        }
      ]
    },
    {
      "cell_type": "code",
      "metadata": {
        "colab": {
          "base_uri": "https://localhost:8080/",
          "height": 286
        },
        "id": "iChhJTKIy7Gx",
        "outputId": "e917bed7-63b0-45c9-d4e3-7d73eabc6b4c"
      },
      "source": [
        "plot_learning_curves(history.history[\"loss\"],history.history[\"val_loss\"])\n",
        "plt.show()"
      ],
      "execution_count": 13,
      "outputs": [
        {
          "output_type": "display_data",
          "data": {
            "image/png": "[encoded data removed]",
            "text/plain": [
              "<Figure size 432x288 with 1 Axes>"
            ]
          },
          "metadata": {
            "tags": [],
            "needs_background": "light"
          }
        }
      ]
    },
    {
      "cell_type": "code",
      "metadata": {
        "colab": {
          "base_uri": "https://localhost:8080/",
          "height": 288
        },
        "id": "o-teewy3zBE1",
        "outputId": "01eccc2b-9bf0-4aa4-acc1-0db51937866f"
      },
      "source": [
        "y_pred=simple_rnn.predict(X_test)\n",
        "plot_series(X_test[0,:,0],y_test[0,:],y_pred[0,:])\n",
        "plt.show()"
      ],
      "execution_count": 14,
      "outputs": [
        {
          "output_type": "display_data",
          "data": {
            "image/png": "[encoded data removed]",
            "text/plain": [
              "<Figure size 432x288 with 1 Axes>"
            ]
          },
          "metadata": {
            "tags": [],
            "needs_background": "light"
          }
        }
      ]
    },
    {
      "cell_type": "code",
      "metadata": {
        "colab": {
          "base_uri": "https://localhost:8080/"
        },
        "id": "UU3Ybt0pzKt2",
        "outputId": "22a8fc8b-360a-40c9-c0f8-38465c681bc7"
      },
      "source": [
        "np.random.seed(42)\n",
        "tf.random.set_seed(42)\n",
        "\n",
        "deep_rnn = keras.models.Sequential([\n",
        "                                    keras.layers.SimpleRNN(20,return_sequences=True,input_shape=[None,1]),\n",
        "                                    keras.layers.SimpleRNN(20,return_sequences=True),\n",
        "                                    keras.layers.SimpleRNN(1)\n",
        "])\n",
        "\n",
        "deep_rnn.compile(loss=\"mse\",optimizer=\"adam\")\n",
        "history=deep_rnn.fit(X_train,y_train,epochs=20,\n",
        "                     validation_data=(X_valid,y_valid))"
      ],
      "execution_count": 15,
      "outputs": [
        {
          "output_type": "stream",
          "text": [
            "Epoch 1/20\n",
            "219/219 [==============================] - 24s 102ms/step - loss: 0.0492 - val_loss: 0.0090\n",
            "Epoch 2/20\n",
            "219/219 [==============================] - 22s 100ms/step - loss: 0.0070 - val_loss: 0.0065\n",
            "Epoch 3/20\n",
            "219/219 [==============================] - 22s 101ms/step - loss: 0.0053 - val_loss: 0.0045\n",
            "Epoch 4/20\n",
            "219/219 [==============================] - 22s 102ms/step - loss: 0.0045 - val_loss: 0.0040\n",
            "Epoch 5/20\n",
            "219/219 [==============================] - 22s 102ms/step - loss: 0.0042 - val_loss: 0.0040\n",
            "Epoch 6/20\n",
            "219/219 [==============================] - 22s 101ms/step - loss: 0.0038 - val_loss: 0.0036\n",
            "Epoch 7/20\n",
            "219/219 [==============================] - 22s 102ms/step - loss: 0.0038 - val_loss: 0.0040\n",
            "Epoch 8/20\n",
            "219/219 [==============================] - 22s 101ms/step - loss: 0.0037 - val_loss: 0.0033\n",
            "Epoch 9/20\n",
            "219/219 [==============================] - 22s 100ms/step - loss: 0.0036 - val_loss: 0.0032\n",
            "Epoch 10/20\n",
            "219/219 [==============================] - 22s 100ms/step - loss: 0.0035 - val_loss: 0.0031\n",
            "Epoch 11/20\n",
            "219/219 [==============================] - 22s 100ms/step - loss: 0.0034 - val_loss: 0.0030\n",
            "Epoch 12/20\n",
            "219/219 [==============================] - 22s 100ms/step - loss: 0.0033 - val_loss: 0.0031\n",
            "Epoch 13/20\n",
            "219/219 [==============================] - 22s 100ms/step - loss: 0.0034 - val_loss: 0.0031\n",
            "Epoch 14/20\n",
            "219/219 [==============================] - 22s 100ms/step - loss: 0.0033 - val_loss: 0.0032\n",
            "Epoch 15/20\n",
            "219/219 [==============================] - 22s 100ms/step - loss: 0.0034 - val_loss: 0.0033\n",
            "Epoch 16/20\n",
            "219/219 [==============================] - 22s 101ms/step - loss: 0.0035 - val_loss: 0.0030\n",
            "Epoch 17/20\n",
            "219/219 [==============================] - 22s 99ms/step - loss: 0.0033 - val_loss: 0.0029\n",
            "Epoch 18/20\n",
            "219/219 [==============================] - 22s 101ms/step - loss: 0.0033 - val_loss: 0.0030\n",
            "Epoch 19/20\n",
            "219/219 [==============================] - 22s 99ms/step - loss: 0.0032 - val_loss: 0.0029\n",
            "Epoch 20/20\n",
            "219/219 [==============================] - 22s 99ms/step - loss: 0.0032 - val_loss: 0.0029\n"
          ],
          "name": "stdout"
        }
      ]
    },
    {
      "cell_type": "code",
      "metadata": {
        "colab": {
          "base_uri": "https://localhost:8080/"
        },
        "id": "vqMK3xDy242R",
        "outputId": "d4e274ae-ade4-46a7-b585-3cc95e5f8227"
      },
      "source": [
        "deep_rnn.summary()"
      ],
      "execution_count": 16,
      "outputs": [
        {
          "output_type": "stream",
          "text": [
            "Model: \"sequential_1\"\n",
            "_________________________________________________________________\n",
            "Layer (type)                 Output Shape              Param #   \n",
            "=================================================================\n",
            "simple_rnn_1 (SimpleRNN)     (None, None, 20)          440       \n",
            "_________________________________________________________________\n",
            "simple_rnn_2 (SimpleRNN)     (None, None, 20)          820       \n",
            "_________________________________________________________________\n",
            "simple_rnn_3 (SimpleRNN)     (None, 1)                 22        \n",
            "=================================================================\n",
            "Total params: 1,282\n",
            "Trainable params: 1,282\n",
            "Non-trainable params: 0\n",
            "_________________________________________________________________\n"
          ],
          "name": "stdout"
        }
      ]
    },
    {
      "cell_type": "code",
      "metadata": {
        "colab": {
          "base_uri": "https://localhost:8080/",
          "height": 286
        },
        "id": "j9FZlNBe0Esf",
        "outputId": "11abe95a-9862-4123-a1b0-9b579cb7bdc5"
      },
      "source": [
        "plot_learning_curves(history.history[\"loss\"],history.history[\"val_loss\"])\n",
        "plt.show()"
      ],
      "execution_count": 17,
      "outputs": [
        {
          "output_type": "display_data",
          "data": {
            "image/png": "[encoded data removed]",
            "text/plain": [
              "<Figure size 432x288 with 1 Axes>"
            ]
          },
          "metadata": {
            "tags": [],
            "needs_background": "light"
          }
        }
      ]
    },
    {
      "cell_type": "code",
      "metadata": {
        "colab": {
          "base_uri": "https://localhost:8080/",
          "height": 288
        },
        "id": "XOi5E3-30Koh",
        "outputId": "e3a226ac-e67d-420b-f711-0dea302b354a"
      },
      "source": [
        "y_pred=deep_rnn.predict(X_test)\n",
        "plot_series(X_test[0,:,0],y_test[0,0],y_pred[0,0])\n",
        "plt.show()"
      ],
      "execution_count": 18,
      "outputs": [
        {
          "output_type": "display_data",
          "data": {
            "image/png": "[encoded data removed]",
            "text/plain": [
              "<Figure size 432x288 with 1 Axes>"
            ]
          },
          "metadata": {
            "tags": [],
            "needs_background": "light"
          }
        }
      ]
    },
    {
      "cell_type": "code",
      "metadata": {
        "colab": {
          "base_uri": "https://localhost:8080/"
        },
        "id": "5ku1yNnj0UT3",
        "outputId": "31995dc0-1ee8-499f-968e-c1f5b21dd49e"
      },
      "source": [
        "deep_rnn_dense = keras.models.Sequential([\n",
        "                                    keras.layers.SimpleRNN(20,return_sequences=True,input_shape=[None,1]),\n",
        "                                    keras.layers.SimpleRNN(20),\n",
        "                                    keras.layers.Dense(1)\n",
        "])\n",
        "deep_rnn_dense.compile(loss=\"mse\",optimizer=\"adam\")\n",
        "history=deep_rnn_dense.fit(X_train,y_train,epochs=20,\n",
        "                     validation_data=(X_valid,y_valid))"
      ],
      "execution_count": 19,
      "outputs": [
        {
          "output_type": "stream",
          "text": [
            "Epoch 1/20\n",
            "219/219 [==============================] - 15s 66ms/step - loss: 0.0096 - val_loss: 0.0038\n",
            "Epoch 2/20\n",
            "219/219 [==============================] - 14s 65ms/step - loss: 0.0034 - val_loss: 0.0032\n",
            "Epoch 3/20\n",
            "219/219 [==============================] - 15s 67ms/step - loss: 0.0032 - val_loss: 0.0032\n",
            "Epoch 4/20\n",
            "219/219 [==============================] - 14s 65ms/step - loss: 0.0031 - val_loss: 0.0030\n",
            "Epoch 5/20\n",
            "219/219 [==============================] - 14s 65ms/step - loss: 0.0031 - val_loss: 0.0030\n",
            "Epoch 6/20\n",
            "219/219 [==============================] - 14s 65ms/step - loss: 0.0031 - val_loss: 0.0030\n",
            "Epoch 7/20\n",
            "219/219 [==============================] - 14s 65ms/step - loss: 0.0030 - val_loss: 0.0030\n",
            "Epoch 8/20\n",
            "219/219 [==============================] - 14s 65ms/step - loss: 0.0031 - val_loss: 0.0028\n",
            "Epoch 9/20\n",
            "219/219 [==============================] - 14s 65ms/step - loss: 0.0030 - val_loss: 0.0027\n",
            "Epoch 10/20\n",
            "219/219 [==============================] - 14s 65ms/step - loss: 0.0029 - val_loss: 0.0029\n",
            "Epoch 11/20\n",
            "219/219 [==============================] - 14s 65ms/step - loss: 0.0028 - val_loss: 0.0027\n",
            "Epoch 12/20\n",
            "219/219 [==============================] - 14s 64ms/step - loss: 0.0029 - val_loss: 0.0027\n",
            "Epoch 13/20\n",
            "219/219 [==============================] - 14s 65ms/step - loss: 0.0029 - val_loss: 0.0027\n",
            "Epoch 14/20\n",
            "219/219 [==============================] - 14s 64ms/step - loss: 0.0028 - val_loss: 0.0026\n",
            "Epoch 15/20\n",
            "219/219 [==============================] - 14s 65ms/step - loss: 0.0028 - val_loss: 0.0028\n",
            "Epoch 16/20\n",
            "219/219 [==============================] - 14s 65ms/step - loss: 0.0028 - val_loss: 0.0025\n",
            "Epoch 17/20\n",
            "219/219 [==============================] - 14s 64ms/step - loss: 0.0027 - val_loss: 0.0025\n",
            "Epoch 18/20\n",
            "219/219 [==============================] - 14s 65ms/step - loss: 0.0027 - val_loss: 0.0026\n",
            "Epoch 19/20\n",
            "219/219 [==============================] - 14s 65ms/step - loss: 0.0027 - val_loss: 0.0025\n",
            "Epoch 20/20\n",
            "219/219 [==============================] - 14s 65ms/step - loss: 0.0027 - val_loss: 0.0025\n"
          ],
          "name": "stdout"
        }
      ]
    },
    {
      "cell_type": "code",
      "metadata": {
        "colab": {
          "base_uri": "https://localhost:8080/",
          "height": 286
        },
        "id": "32O7bODS3Gca",
        "outputId": "0205e3da-b835-406e-96cf-ce2453de945a"
      },
      "source": [
        "plot_learning_curves(history.history[\"loss\"],history.history[\"val_loss\"])\n",
        "plt.show()"
      ],
      "execution_count": 20,
      "outputs": [
        {
          "output_type": "display_data",
          "data": {
            "image/png": "[encoded data removed]",
            "text/plain": [
              "<Figure size 432x288 with 1 Axes>"
            ]
          },
          "metadata": {
            "tags": [],
            "needs_background": "light"
          }
        }
      ]
    },
    {
      "cell_type": "code",
      "metadata": {
        "colab": {
          "base_uri": "https://localhost:8080/",
          "height": 293
        },
        "id": "VPmUs08o3LQf",
        "outputId": "d9d6dabf-4cc1-4f0d-da62-ec19732e6739"
      },
      "source": [
        "y_pred=deep_rnn_dense.predict(X_valid)\n",
        "plot_series(X_valid[0,:,0],y_valid[0,0],y_pred[0,0])\n",
        "plt.show()"
      ],
      "execution_count": 21,
      "outputs": [
        {
          "output_type": "display_data",
          "data": {
            "image/png": "[encoded data removed]",
            "text/plain": [
              "<Figure size 432x288 with 1 Axes>"
            ]
          },
          "metadata": {
            "tags": [],
            "needs_background": "light"
          }
        }
      ]
    },
    {
      "cell_type": "code",
      "metadata": {
        "colab": {
          "base_uri": "https://localhost:8080/"
        },
        "id": "usiq86Oc3UUz",
        "outputId": "284d82d3-be6e-4140-a5ba-b7ba318e072e"
      },
      "source": [
        "np.random.seed(43)\n",
        "\n",
        "series = generate_time_series(1,n_steps+10)\n",
        "X_new, Y_new = series[:,:n_steps], series[:,n_steps:]\n",
        "X = X_new\n",
        "print(\"Original X shape: \",X.shape)\n",
        "\n",
        "for step_ahead in range(10):\n",
        "  print(\"{}\".format(step_ahead),\"iteration's X shape: \",X.shape, \"Used data index : \",\"{} - {}\".format(step_ahead,X.shape[1]-1))\n",
        "  y_pred_one = deep_rnn_dense.predict(X[:,step_ahead:])[:,np.newaxis,:]\n",
        "  X = np.concatenate([X,y_pred_one],axis=1)"
      ],
      "execution_count": 22,
      "outputs": [
        {
          "output_type": "stream",
          "text": [
            "Original X shape:  (1, 50, 1)\n",
            "0 iteration's X shape:  (1, 50, 1) Used data index :  0 - 49\n",
            "1 iteration's X shape:  (1, 51, 1) Used data index :  1 - 50\n",
            "2 iteration's X shape:  (1, 52, 1) Used data index :  2 - 51\n",
            "3 iteration's X shape:  (1, 53, 1) Used data index :  3 - 52\n",
            "4 iteration's X shape:  (1, 54, 1) Used data index :  4 - 53\n",
            "5 iteration's X shape:  (1, 55, 1) Used data index :  5 - 54\n",
            "6 iteration's X shape:  (1, 56, 1) Used data index :  6 - 55\n",
            "7 iteration's X shape:  (1, 57, 1) Used data index :  7 - 56\n",
            "8 iteration's X shape:  (1, 58, 1) Used data index :  8 - 57\n",
            "9 iteration's X shape:  (1, 59, 1) Used data index :  9 - 58\n"
          ],
          "name": "stdout"
        }
      ]
    },
    {
      "cell_type": "code",
      "metadata": {
        "id": "nljnFOzy5zGa"
      },
      "source": [
        "Y_pred = X[:,n_steps:]"
      ],
      "execution_count": 23,
      "outputs": []
    },
    {
      "cell_type": "code",
      "metadata": {
        "colab": {
          "base_uri": "https://localhost:8080/",
          "height": 291
        },
        "id": "4sHAspXw5t7X",
        "outputId": "bbdbc276-447a-481c-c6f1-7679b3ef52e1"
      },
      "source": [
        "plot_multiple_forecasts(X_new,Y_new,Y_pred)\n",
        "plt.show()"
      ],
      "execution_count": 24,
      "outputs": [
        {
          "output_type": "display_data",
          "data": {
            "image/png": "[encoded data removed]",
            "text/plain": [
              "<Figure size 432x288 with 1 Axes>"
            ]
          },
          "metadata": {
            "tags": [],
            "needs_background": "light"
          }
        }
      ]
    },
    {
      "cell_type": "code",
      "metadata": {
        "id": "YqSplowI4Srk"
      },
      "source": [
        "np.random.seed(42)\n",
        "tf.random.set_seed(42)\n",
        "\n",
        "n_steps = 50\n",
        "series = generate_time_series(10000,n_steps+10)\n",
        "\n",
        "X_train, Y_train = series[:7000,:n_steps], series[:7000,-10:,0]\n",
        "X_valid, Y_valid = series[7000:9000,:n_steps],series[7000:9000,-10:,0]\n",
        "X_test, Y_test = series[9000:,:n_steps],series[9000:,-10:,0]"
      ],
      "execution_count": 25,
      "outputs": []
    },
    {
      "cell_type": "code",
      "metadata": {
        "colab": {
          "base_uri": "https://localhost:8080/"
        },
        "id": "0Rp720Z_4sEl",
        "outputId": "93ad5462-c85e-4b9c-becc-9cf5a77a8ee2"
      },
      "source": [
        "print(X_train.shape,Y_train.shape)\n",
        "print(X_valid.shape,Y_valid.shape)\n",
        "print(X_test.shape,Y_test.shape)"
      ],
      "execution_count": 26,
      "outputs": [
        {
          "output_type": "stream",
          "text": [
            "(7000, 50, 1) (7000, 10)\n",
            "(2000, 50, 1) (2000, 10)\n",
            "(1000, 50, 1) (1000, 10)\n"
          ],
          "name": "stdout"
        }
      ]
    },
    {
      "cell_type": "code",
      "metadata": {
        "colab": {
          "base_uri": "https://localhost:8080/"
        },
        "id": "QmFRiOmg4yQN",
        "outputId": "204a0a9d-08d6-4ded-841d-43910c94b14d"
      },
      "source": [
        "way2 = keras.models.Sequential([\n",
        "                                keras.layers.SimpleRNN(20,return_sequences=True,input_shape=[None,1]),\n",
        "                                    keras.layers.SimpleRNN(20),\n",
        "                                    keras.layers.Dense(10)\n",
        "])\n",
        "way2.compile(loss=\"mse\",optimizer=\"adam\")\n",
        "history=way2.fit(X_train,Y_train,epochs=20,\n",
        "                     validation_data=(X_valid,Y_valid))"
      ],
      "execution_count": 27,
      "outputs": [
        {
          "output_type": "stream",
          "text": [
            "Epoch 1/20\n",
            "219/219 [==============================] - 16s 66ms/step - loss: 0.0669 - val_loss: 0.0317\n",
            "Epoch 2/20\n",
            "219/219 [==============================] - 14s 66ms/step - loss: 0.0265 - val_loss: 0.0200\n",
            "Epoch 3/20\n",
            "219/219 [==============================] - 14s 65ms/step - loss: 0.0183 - val_loss: 0.0160\n",
            "Epoch 4/20\n",
            "219/219 [==============================] - 15s 67ms/step - loss: 0.0155 - val_loss: 0.0144\n",
            "Epoch 5/20\n",
            "219/219 [==============================] - 15s 67ms/step - loss: 0.0139 - val_loss: 0.0118\n",
            "Epoch 6/20\n",
            "219/219 [==============================] - 14s 65ms/step - loss: 0.0128 - val_loss: 0.0112\n",
            "Epoch 7/20\n",
            "219/219 [==============================] - 14s 65ms/step - loss: 0.0122 - val_loss: 0.0110\n",
            "Epoch 8/20\n",
            "219/219 [==============================] - 14s 66ms/step - loss: 0.0115 - val_loss: 0.0103\n",
            "Epoch 9/20\n",
            "219/219 [==============================] - 14s 66ms/step - loss: 0.0111 - val_loss: 0.0112\n",
            "Epoch 10/20\n",
            "219/219 [==============================] - 15s 67ms/step - loss: 0.0110 - val_loss: 0.0100\n",
            "Epoch 11/20\n",
            "219/219 [==============================] - 15s 67ms/step - loss: 0.0108 - val_loss: 0.0103\n",
            "Epoch 12/20\n",
            "219/219 [==============================] - 15s 67ms/step - loss: 0.0102 - val_loss: 0.0096\n",
            "Epoch 13/20\n",
            "219/219 [==============================] - 15s 67ms/step - loss: 0.0104 - val_loss: 0.0100\n",
            "Epoch 14/20\n",
            "219/219 [==============================] - 14s 66ms/step - loss: 0.0098 - val_loss: 0.0103\n",
            "Epoch 15/20\n",
            "219/219 [==============================] - 14s 65ms/step - loss: 0.0095 - val_loss: 0.0107\n",
            "Epoch 16/20\n",
            "219/219 [==============================] - 15s 66ms/step - loss: 0.0092 - val_loss: 0.0089\n",
            "Epoch 17/20\n",
            "219/219 [==============================] - 14s 65ms/step - loss: 0.0094 - val_loss: 0.0111\n",
            "Epoch 18/20\n",
            "219/219 [==============================] - 14s 66ms/step - loss: 0.0095 - val_loss: 0.0094\n",
            "Epoch 19/20\n",
            "219/219 [==============================] - 14s 66ms/step - loss: 0.0093 - val_loss: 0.0083\n",
            "Epoch 20/20\n",
            "219/219 [==============================] - 14s 66ms/step - loss: 0.0094 - val_loss: 0.0085\n"
          ],
          "name": "stdout"
        }
      ]
    },
    {
      "cell_type": "code",
      "metadata": {
        "colab": {
          "base_uri": "https://localhost:8080/"
        },
        "id": "nq6gnPBe-X0K",
        "outputId": "3d1e3f30-b339-4d2c-f911-c9ba14f3cfbb"
      },
      "source": [
        "way2.summary()"
      ],
      "execution_count": 28,
      "outputs": [
        {
          "output_type": "stream",
          "text": [
            "Model: \"sequential_3\"\n",
            "_________________________________________________________________\n",
            "Layer (type)                 Output Shape              Param #   \n",
            "=================================================================\n",
            "simple_rnn_6 (SimpleRNN)     (None, None, 20)          440       \n",
            "_________________________________________________________________\n",
            "simple_rnn_7 (SimpleRNN)     (None, 20)                820       \n",
            "_________________________________________________________________\n",
            "dense_1 (Dense)              (None, 10)                210       \n",
            "=================================================================\n",
            "Total params: 1,470\n",
            "Trainable params: 1,470\n",
            "Non-trainable params: 0\n",
            "_________________________________________________________________\n"
          ],
          "name": "stdout"
        }
      ]
    },
    {
      "cell_type": "code",
      "metadata": {
        "colab": {
          "base_uri": "https://localhost:8080/"
        },
        "id": "SgmLRmRw-ZAO",
        "outputId": "db69dc14-9fd5-4e60-ba8c-ba522f11d4ae"
      },
      "source": [
        "way2.evaluate(X_test,Y_test)"
      ],
      "execution_count": 29,
      "outputs": [
        {
          "output_type": "stream",
          "text": [
            "32/32 [==============================] - 0s 7ms/step - loss: 0.0081\n"
          ],
          "name": "stdout"
        },
        {
          "output_type": "execute_result",
          "data": {
            "text/plain": [
              "0.008137843571603298"
            ]
          },
          "metadata": {
            "tags": []
          },
          "execution_count": 29
        }
      ]
    },
    {
      "cell_type": "code",
      "metadata": {
        "colab": {
          "base_uri": "https://localhost:8080/",
          "height": 422
        },
        "id": "ZJqgjQYH-ccz",
        "outputId": "6f20e2ea-36f9-4b00-c870-92ae3057bb71"
      },
      "source": [
        "plot_model(way2,to_file=\"model_shapes.png\",show_shapes=True)"
      ],
      "execution_count": 30,
      "outputs": [
        {
          "output_type": "execute_result",
          "data": {
            "image/png": "[encoded data removed]",
            "text/plain": [
              "<IPython.core.display.Image object>"
            ]
          },
          "metadata": {
            "tags": []
          },
          "execution_count": 30
        }
      ]
    },
    {
      "cell_type": "code",
      "metadata": {
        "id": "S8KtCwUS-iUz"
      },
      "source": [
        "np.random.seed(43)\n",
        "series = generate_time_series(1,50+10)\n",
        "X_new, y_new = series[:,:50,:], series[:,-10,:]\n",
        "Y_pred = way2.predict(X_new)[...,np.newaxis]"
      ],
      "execution_count": 31,
      "outputs": []
    },
    {
      "cell_type": "code",
      "metadata": {
        "colab": {
          "base_uri": "https://localhost:8080/",
          "height": 291
        },
        "id": "VichxO7i-4rP",
        "outputId": "0418bc1f-4ac2-4595-c66f-f90626c04c3e"
      },
      "source": [
        "plot_multiple_forecasts(X_new,Y_new,Y_pred)\n",
        "plt.show()"
      ],
      "execution_count": 32,
      "outputs": [
        {
          "output_type": "display_data",
          "data": {
            "image/png": "[encoded data removed]",
            "text/plain": [
              "<Figure size 432x288 with 1 Axes>"
            ]
          },
          "metadata": {
            "tags": [],
            "needs_background": "light"
          }
        }
      ]
    },
    {
      "cell_type": "code",
      "metadata": {
        "id": "Q5YUarUR-9aD"
      },
      "source": [
        "def last_time_step_mse(Y_true,Y_pred):\n",
        "  return keras.metrics.mean_squared_error(Y_true[:,-1],Y_pred[:,-1])"
      ],
      "execution_count": 33,
      "outputs": []
    },
    {
      "cell_type": "code",
      "metadata": {
        "id": "nZWAr-KZ_ICV"
      },
      "source": [
        "np.random.seed(42)\n",
        "tf.random.set_seed(42)\n",
        "\n",
        "way3 = keras.models.Sequential([\n",
        "                                    keras.layers.SimpleRNN(20,return_sequences=True,input_shape=[None,1]),\n",
        "                                    keras.layers.SimpleRNN(20,return_sequences=True),\n",
        "                                    keras.layers.TimeDistributed(keras.layers.Dense(10))\n",
        "])"
      ],
      "execution_count": 34,
      "outputs": []
    },
    {
      "cell_type": "code",
      "metadata": {
        "colab": {
          "base_uri": "https://localhost:8080/"
        },
        "id": "s0sxChkv_c8W",
        "outputId": "6cb8f9be-f405-4bfb-9fdd-c4d33552e27a"
      },
      "source": [
        "np.random.seed(42)\n",
        "\n",
        "n_steps = 50\n",
        "series = generate_time_series(10000,n_steps+10)\n",
        "\n",
        "X_train = series[:7000,:n_steps]\n",
        "X_valid = series[7000:9000,:n_steps]\n",
        "X_test = series[9000:,:n_steps]\n",
        "Y = np.empty((10000,n_steps,10))\n",
        "\n",
        "for step_ahead in range(1,10+1):\n",
        "  Y[:,:,step_ahead-1] = series[:,step_ahead:step_ahead+n_steps,0]\n",
        "Y_train = Y[:7000]\n",
        "Y_valid = Y[7000:9000]\n",
        "Y_test = Y[9000:]\n",
        "\n",
        "X_train.shape, Y_train.shape"
      ],
      "execution_count": 35,
      "outputs": [
        {
          "output_type": "execute_result",
          "data": {
            "text/plain": [
              "((7000, 50, 1), (7000, 50, 10))"
            ]
          },
          "metadata": {
            "tags": []
          },
          "execution_count": 35
        }
      ]
    },
    {
      "cell_type": "code",
      "metadata": {
        "colab": {
          "base_uri": "https://localhost:8080/"
        },
        "id": "BtF_VCpTAWgp",
        "outputId": "6f346f74-6e68-4de1-c817-03db3e0913c6"
      },
      "source": [
        "way3.compile(loss=\"mse\",optimizer=\"adam\")\n",
        "history=way3.fit(X_train,Y_train,epochs=20,\n",
        "                     validation_data=(X_valid,Y_valid))"
      ],
      "execution_count": 36,
      "outputs": [
        {
          "output_type": "stream",
          "text": [
            "Epoch 1/20\n",
            "219/219 [==============================] - 16s 66ms/step - loss: 0.0742 - val_loss: 0.0472\n",
            "Epoch 2/20\n",
            "219/219 [==============================] - 14s 65ms/step - loss: 0.0441 - val_loss: 0.0411\n",
            "Epoch 3/20\n",
            "219/219 [==============================] - 14s 64ms/step - loss: 0.0397 - val_loss: 0.0407\n",
            "Epoch 4/20\n",
            "219/219 [==============================] - 14s 65ms/step - loss: 0.0375 - val_loss: 0.0360\n",
            "Epoch 5/20\n",
            "219/219 [==============================] - 14s 64ms/step - loss: 0.0357 - val_loss: 0.0348\n",
            "Epoch 6/20\n",
            "219/219 [==============================] - 14s 65ms/step - loss: 0.0344 - val_loss: 0.0344\n",
            "Epoch 7/20\n",
            "219/219 [==============================] - 14s 65ms/step - loss: 0.0337 - val_loss: 0.0327\n",
            "Epoch 8/20\n",
            "219/219 [==============================] - 14s 65ms/step - loss: 0.0327 - val_loss: 0.0316\n",
            "Epoch 9/20\n",
            "219/219 [==============================] - 14s 65ms/step - loss: 0.0319 - val_loss: 0.0313\n",
            "Epoch 10/20\n",
            "219/219 [==============================] - 14s 65ms/step - loss: 0.0312 - val_loss: 0.0308\n",
            "Epoch 11/20\n",
            "219/219 [==============================] - 14s 65ms/step - loss: 0.0306 - val_loss: 0.0298\n",
            "Epoch 12/20\n",
            "219/219 [==============================] - 14s 65ms/step - loss: 0.0299 - val_loss: 0.0293\n",
            "Epoch 13/20\n",
            "219/219 [==============================] - 14s 65ms/step - loss: 0.0292 - val_loss: 0.0283\n",
            "Epoch 14/20\n",
            "219/219 [==============================] - 14s 65ms/step - loss: 0.0287 - val_loss: 0.0289\n",
            "Epoch 15/20\n",
            "219/219 [==============================] - 14s 65ms/step - loss: 0.0282 - val_loss: 0.0277\n",
            "Epoch 16/20\n",
            "219/219 [==============================] - 14s 65ms/step - loss: 0.0278 - val_loss: 0.0273\n",
            "Epoch 17/20\n",
            "219/219 [==============================] - 14s 65ms/step - loss: 0.0271 - val_loss: 0.0271\n",
            "Epoch 18/20\n",
            "219/219 [==============================] - 14s 65ms/step - loss: 0.0268 - val_loss: 0.0263\n",
            "Epoch 19/20\n",
            "219/219 [==============================] - 14s 64ms/step - loss: 0.0265 - val_loss: 0.0258\n",
            "Epoch 20/20\n",
            "219/219 [==============================] - 14s 64ms/step - loss: 0.0262 - val_loss: 0.0261\n"
          ],
          "name": "stdout"
        }
      ]
    },
    {
      "cell_type": "code",
      "metadata": {
        "id": "-N0c3hAxA2Tk"
      },
      "source": [
        "np.random.seed(43)\n",
        "\n",
        "series = generate_time_series(1,50+10)\n",
        "X_new, Y_new = series[:,:50,:],series[:,50:,:]\n",
        "Y_pred = way3.predict(X_new)[:,-1][...,np.newaxis]"
      ],
      "execution_count": 37,
      "outputs": []
    },
    {
      "cell_type": "code",
      "metadata": {
        "id": "1TpCaVH3BDY7"
      },
      "source": [
        "Y_pred = X[:,n_steps:]"
      ],
      "execution_count": 38,
      "outputs": []
    },
    {
      "cell_type": "code",
      "metadata": {
        "colab": {
          "base_uri": "https://localhost:8080/",
          "height": 291
        },
        "id": "nTKNVoysBLYd",
        "outputId": "0f8cdd72-806c-4c6a-dbbd-e2a3354ed3fd"
      },
      "source": [
        "plot_multiple_forecasts(X_new,Y_new,Y_pred)\n",
        "plt.show()"
      ],
      "execution_count": 39,
      "outputs": [
        {
          "output_type": "display_data",
          "data": {
            "image/png": "[encoded data removed]",
            "text/plain": [
              "<Figure size 432x288 with 1 Axes>"
            ]
          },
          "metadata": {
            "tags": [],
            "needs_background": "light"
          }
        }
      ]
    },
    {
      "cell_type": "code",
      "metadata": {
        "colab": {
          "base_uri": "https://localhost:8080/"
        },
        "id": "RvaIXfVzBNxC",
        "outputId": "868c730b-366e-49c6-d222-4f861fef31b5"
      },
      "source": [
        "np.random.seed(42)\n",
        "tf.random.set_seed(42)\n",
        "\n",
        "lstm = keras.models.Sequential([\n",
        "                                keras.layers.LSTM(20,return_sequences=True,input_shape=[None,1]),\n",
        "                                keras.layers.LSTM(20,return_sequences=True),\n",
        "                                keras.layers.TimeDistributed(keras.layers.Dense(10))\n",
        "])\n",
        "\n",
        "lstm.compile(loss=\"mse\",optimizer=\"adam\",metrics=[last_time_step_mse])\n",
        "history = lstm.fit(X_train,Y_train,epochs=20,\n",
        "                   validation_data=(X_valid,Y_valid))"
      ],
      "execution_count": 40,
      "outputs": [
        {
          "output_type": "stream",
          "text": [
            "Epoch 1/20\n",
            "219/219 [==============================] - 8s 10ms/step - loss: 0.0760 - last_time_step_mse: 0.0615 - val_loss: 0.0554 - val_last_time_step_mse: 0.0364\n",
            "Epoch 2/20\n",
            "219/219 [==============================] - 2s 8ms/step - loss: 0.0480 - last_time_step_mse: 0.0283 - val_loss: 0.0427 - val_last_time_step_mse: 0.0222\n",
            "Epoch 3/20\n",
            "219/219 [==============================] - 2s 7ms/step - loss: 0.0391 - last_time_step_mse: 0.0181 - val_loss: 0.0367 - val_last_time_step_mse: 0.0157\n",
            "Epoch 4/20\n",
            "219/219 [==============================] - 2s 7ms/step - loss: 0.0350 - last_time_step_mse: 0.0151 - val_loss: 0.0334 - val_last_time_step_mse: 0.0132\n",
            "Epoch 5/20\n",
            "219/219 [==============================] - 2s 7ms/step - loss: 0.0325 - last_time_step_mse: 0.0133 - val_loss: 0.0314 - val_last_time_step_mse: 0.0121\n",
            "Epoch 6/20\n",
            "219/219 [==============================] - 2s 7ms/step - loss: 0.0308 - last_time_step_mse: 0.0122 - val_loss: 0.0298 - val_last_time_step_mse: 0.0112\n",
            "Epoch 7/20\n",
            "219/219 [==============================] - 2s 7ms/step - loss: 0.0297 - last_time_step_mse: 0.0118 - val_loss: 0.0291 - val_last_time_step_mse: 0.0120\n",
            "Epoch 8/20\n",
            "219/219 [==============================] - 2s 7ms/step - loss: 0.0286 - last_time_step_mse: 0.0109 - val_loss: 0.0278 - val_last_time_step_mse: 0.0099\n",
            "Epoch 9/20\n",
            "219/219 [==============================] - 2s 7ms/step - loss: 0.0280 - last_time_step_mse: 0.0108 - val_loss: 0.0278 - val_last_time_step_mse: 0.0113\n",
            "Epoch 10/20\n",
            "219/219 [==============================] - 2s 7ms/step - loss: 0.0273 - last_time_step_mse: 0.0105 - val_loss: 0.0268 - val_last_time_step_mse: 0.0101\n",
            "Epoch 11/20\n",
            "219/219 [==============================] - 2s 7ms/step - loss: 0.0269 - last_time_step_mse: 0.0102 - val_loss: 0.0263 - val_last_time_step_mse: 0.0096\n",
            "Epoch 12/20\n",
            "219/219 [==============================] - 2s 7ms/step - loss: 0.0264 - last_time_step_mse: 0.0101 - val_loss: 0.0263 - val_last_time_step_mse: 0.0105\n",
            "Epoch 13/20\n",
            "219/219 [==============================] - 2s 7ms/step - loss: 0.0259 - last_time_step_mse: 0.0097 - val_loss: 0.0257 - val_last_time_step_mse: 0.0100\n",
            "Epoch 14/20\n",
            "219/219 [==============================] - 2s 7ms/step - loss: 0.0257 - last_time_step_mse: 0.0096 - val_loss: 0.0252 - val_last_time_step_mse: 0.0091\n",
            "Epoch 15/20\n",
            "219/219 [==============================] - 2s 7ms/step - loss: 0.0253 - last_time_step_mse: 0.0095 - val_loss: 0.0251 - val_last_time_step_mse: 0.0092\n",
            "Epoch 16/20\n",
            "219/219 [==============================] - 2s 7ms/step - loss: 0.0251 - last_time_step_mse: 0.0095 - val_loss: 0.0248 - val_last_time_step_mse: 0.0089\n",
            "Epoch 17/20\n",
            "219/219 [==============================] - 2s 8ms/step - loss: 0.0248 - last_time_step_mse: 0.0094 - val_loss: 0.0248 - val_last_time_step_mse: 0.0098\n",
            "Epoch 18/20\n",
            "219/219 [==============================] - 2s 7ms/step - loss: 0.0245 - last_time_step_mse: 0.0093 - val_loss: 0.0246 - val_last_time_step_mse: 0.0091\n",
            "Epoch 19/20\n",
            "219/219 [==============================] - 2s 7ms/step - loss: 0.0242 - last_time_step_mse: 0.0091 - val_loss: 0.0238 - val_last_time_step_mse: 0.0085\n",
            "Epoch 20/20\n",
            "219/219 [==============================] - 2s 7ms/step - loss: 0.0239 - last_time_step_mse: 0.0089 - val_loss: 0.0238 - val_last_time_step_mse: 0.0086\n"
          ],
          "name": "stdout"
        }
      ]
    },
    {
      "cell_type": "code",
      "metadata": {
        "id": "gjdrakTwB-cA"
      },
      "source": [
        "np.random.seed(43)\n",
        "\n",
        "series = generate_time_series(1,50+10)\n",
        "X_new, Y_new = series[:,:50,:], series[:,50:,:]\n",
        "Y_pred = lstm.predict(X_new)[:,-1][...,np.newaxis]"
      ],
      "execution_count": 41,
      "outputs": []
    },
    {
      "cell_type": "code",
      "metadata": {
        "colab": {
          "base_uri": "https://localhost:8080/",
          "height": 291
        },
        "id": "V2a1EL9ECpKG",
        "outputId": "9489c5c1-f237-4f73-9894-7b85b88c09c6"
      },
      "source": [
        "plot_multiple_forecasts(X_new,Y_new,Y_pred)\n",
        "plt.show()"
      ],
      "execution_count": 42,
      "outputs": [
        {
          "output_type": "display_data",
          "data": {
            "image/png": "[encoded data removed]",
            "text/plain": [
              "<Figure size 432x288 with 1 Axes>"
            ]
          },
          "metadata": {
            "tags": [],
            "needs_background": "light"
          }
        }
      ]
    },
    {
      "cell_type": "code",
      "metadata": {
        "id": "tOGzzkICCulG",
        "colab": {
          "base_uri": "https://localhost:8080/"
        },
        "outputId": "b9134a0b-f11e-4ad3-c751-96f377474e63"
      },
      "source": [
        "shakespeare_url = \"https://homl.info/shakespeare\"\n",
        "filepath = keras.utils.get_file(\"shakespeare.txt\",shakespeare_url)\n",
        "with open(filepath) as f:\n",
        "  shakespeare_text = f.read()"
      ],
      "execution_count": 43,
      "outputs": [
        {
          "output_type": "stream",
          "text": [
            "Downloading data from https://homl.info/shakespeare\n",
            "1122304/1115394 [==============================] - 0s 0us/step\n"
          ],
          "name": "stdout"
        }
      ]
    },
    {
      "cell_type": "code",
      "metadata": {
        "colab": {
          "base_uri": "https://localhost:8080/"
        },
        "id": "TsVVoU0HDl1S",
        "outputId": "bc304288-9ad7-48be-9467-8912e078e078"
      },
      "source": [
        "print(shakespeare_text[1000:1500])"
      ],
      "execution_count": 44,
      "outputs": [
        {
          "output_type": "stream",
          "text": [
            "Second Citizen:\n",
            "Would you proceed especially against Caius Marcius?\n",
            "\n",
            "All:\n",
            "Against him first: he's a very dog to the commonalty.\n",
            "\n",
            "Second Citizen:\n",
            "Consider you what services he has done for his country?\n",
            "\n",
            "First Citizen:\n",
            "Very well; and could be content to give him good\n",
            "report fort, but that he pays himself with being proud.\n",
            "\n",
            "Second Citizen:\n",
            "Nay, but speak not maliciously.\n",
            "\n",
            "First Citizen:\n",
            "I say unto you, what he hath done famously, he did\n",
            "it to that end: though soft-conscienced men can be\n",
            "content to \n"
          ],
          "name": "stdout"
        }
      ]
    },
    {
      "cell_type": "code",
      "metadata": {
        "colab": {
          "base_uri": "https://localhost:8080/"
        },
        "id": "W5_8sIzbDqW3",
        "outputId": "1b7923ae-74f0-47cf-c738-852f85140b78"
      },
      "source": [
        "len(shakespeare_text)"
      ],
      "execution_count": 45,
      "outputs": [
        {
          "output_type": "execute_result",
          "data": {
            "text/plain": [
              "1115394"
            ]
          },
          "metadata": {
            "tags": []
          },
          "execution_count": 45
        }
      ]
    },
    {
      "cell_type": "code",
      "metadata": {
        "id": "e05eAM17DsVS"
      },
      "source": [
        "tokenizer = keras.preprocessing.text.Tokenizer(char_level=True)\n",
        "tokenizer.fit_on_texts(shakespeare_text)"
      ],
      "execution_count": 46,
      "outputs": []
    },
    {
      "cell_type": "code",
      "metadata": {
        "colab": {
          "base_uri": "https://localhost:8080/"
        },
        "id": "pl7SFnJdD2km",
        "outputId": "8cfe6a9b-b701-4af9-e512-387d6c9b381e"
      },
      "source": [
        "tokenizer.texts_to_sequences([\"First\"])"
      ],
      "execution_count": 47,
      "outputs": [
        {
          "output_type": "execute_result",
          "data": {
            "text/plain": [
              "[[20, 6, 9, 8, 3]]"
            ]
          },
          "metadata": {
            "tags": []
          },
          "execution_count": 47
        }
      ]
    },
    {
      "cell_type": "code",
      "metadata": {
        "colab": {
          "base_uri": "https://localhost:8080/"
        },
        "id": "LROSv0g1D8jb",
        "outputId": "c70926b9-020b-45d1-b2b7-da9f5e7a474a"
      },
      "source": [
        "tokenizer.sequences_to_texts([[20,6,9,8,3]])"
      ],
      "execution_count": 48,
      "outputs": [
        {
          "output_type": "execute_result",
          "data": {
            "text/plain": [
              "['f i r s t']"
            ]
          },
          "metadata": {
            "tags": []
          },
          "execution_count": 48
        }
      ]
    },
    {
      "cell_type": "code",
      "metadata": {
        "colab": {
          "base_uri": "https://localhost:8080/"
        },
        "id": "9N3gbgxdD_rH",
        "outputId": "17d11885-ea5d-4ea7-d436-12115c2f0ac3"
      },
      "source": [
        "tokenizer.texts_to_sequences([\"abcde\"])"
      ],
      "execution_count": 49,
      "outputs": [
        {
          "output_type": "execute_result",
          "data": {
            "text/plain": [
              "[[5, 22, 19, 13, 2]]"
            ]
          },
          "metadata": {
            "tags": []
          },
          "execution_count": 49
        }
      ]
    },
    {
      "cell_type": "code",
      "metadata": {
        "id": "u49hGgPIECWW"
      },
      "source": [
        "[encoded] = np.array(tokenizer.texts_to_sequences([shakespeare_text]))-1"
      ],
      "execution_count": 50,
      "outputs": []
    },
    {
      "cell_type": "code",
      "metadata": {
        "id": "k9fmWTV-EZLz"
      },
      "source": [
        "max_id = len(tokenizer.word_index)\n",
        "dataset_size = tokenizer.document_count"
      ],
      "execution_count": 51,
      "outputs": []
    },
    {
      "cell_type": "code",
      "metadata": {
        "id": "GocrrCqREIpQ"
      },
      "source": [
        "train_size = dataset_size*40 // 100\n",
        "dataset = tf.data.Dataset.from_tensor_slices(encoded[:train_size])"
      ],
      "execution_count": 52,
      "outputs": []
    },
    {
      "cell_type": "code",
      "metadata": {
        "id": "AfhgVcv3ERGy"
      },
      "source": [
        "n_steps = 100\n",
        "window_length = n_steps+1\n",
        "dataset = dataset.window(window_length,shift=1,drop_remainder=True)"
      ],
      "execution_count": 53,
      "outputs": []
    },
    {
      "cell_type": "code",
      "metadata": {
        "id": "MeSeWDBfEnov"
      },
      "source": [
        "dataset = dataset.flat_map(lambda window: window.batch(window_length))"
      ],
      "execution_count": 54,
      "outputs": []
    },
    {
      "cell_type": "code",
      "metadata": {
        "id": "6gFNpkpwEsoW"
      },
      "source": [
        "batch_size = 32\n",
        "dataset = dataset.shuffle(10000).batch(batch_size)\n",
        "dataset = dataset.map(lambda windows: (windows[:,:-1],windows[:,1:]))"
      ],
      "execution_count": 55,
      "outputs": []
    },
    {
      "cell_type": "code",
      "metadata": {
        "id": "UvccKEMsE3m9"
      },
      "source": [
        "dataset = dataset.map(lambda X_batch, Y_batch: (tf.one_hot(X_batch,depth=max_id),Y_batch))"
      ],
      "execution_count": 56,
      "outputs": []
    },
    {
      "cell_type": "code",
      "metadata": {
        "id": "zKJNj8DgE_GX"
      },
      "source": [
        "dataset = dataset.prefetch(1)"
      ],
      "execution_count": 57,
      "outputs": []
    },
    {
      "cell_type": "code",
      "metadata": {
        "colab": {
          "base_uri": "https://localhost:8080/"
        },
        "id": "S7GCugzkFA0m",
        "outputId": "a8a08b4b-8cdd-4c5d-db3a-4fa2713f5edf"
      },
      "source": [
        "model = keras.models.Sequential([\n",
        "                                 keras.layers.LSTM(64,return_sequences=True,input_shape=[None,max_id],\n",
        "                                                   dropout=0.2,recurrent_dropout=0),\n",
        "                                 keras.layers.LSTM(64,return_sequences=True,\n",
        "                                                   dropout=0.2,recurrent_dropout=0),\n",
        "                                 keras.layers.TimeDistributed(keras.layers.Dense(max_id,\n",
        "                                                                                 activation=\"softmax\"))\n",
        "                          \n",
        "])\n",
        "model.compile(loss=\"sparse_categorical_crossentropy\",optimizer=\"adam\")\n",
        "history = model.fit(dataset,epochs=5)"
      ],
      "execution_count": 58,
      "outputs": [
        {
          "output_type": "stream",
          "text": [
            "Epoch 1/5\n",
            "13940/13940 [==============================] - 165s 12ms/step - loss: 1.9953\n",
            "Epoch 2/5\n",
            "13940/13940 [==============================] - 163s 12ms/step - loss: 1.7760\n",
            "Epoch 3/5\n",
            "13940/13940 [==============================] - 165s 12ms/step - loss: 1.7327\n",
            "Epoch 4/5\n",
            "13940/13940 [==============================] - 164s 12ms/step - loss: 1.7133\n",
            "Epoch 5/5\n",
            "13940/13940 [==============================] - 166s 12ms/step - loss: 1.7014\n"
          ],
          "name": "stdout"
        }
      ]
    },
    {
      "cell_type": "code",
      "metadata": {
        "id": "FNg1uJr5Fp-6"
      },
      "source": [
        "def preprocess(texts):\n",
        "  X = np.array(tokenizer.texts_to_sequences(texts))-1\n",
        "  return tf.one_hot(X,max_id)"
      ],
      "execution_count": 59,
      "outputs": []
    },
    {
      "cell_type": "code",
      "metadata": {
        "id": "pbZsubqRGRKK"
      },
      "source": [
        "def next_char(text,temperature=1):\n",
        "  X_new = preprocess([text])\n",
        "  y_proba = model.predict(X_new)[0,-1:,:]\n",
        "  rescaled_logits = tf.math.log(y_proba)/temperature\n",
        "  char_id = tf.random.categorical(rescaled_logits,num_samples=1)+1\n",
        "  return tokenizer.sequences_to_texts(char_id.numpy())[0]"
      ],
      "execution_count": 60,
      "outputs": []
    },
    {
      "cell_type": "code",
      "metadata": {
        "id": "bzFk3GmFGmEI"
      },
      "source": [
        "def complete_text(text,n_chars=50,temperature=1):\n",
        "  for _ in range(n_chars):\n",
        "    text+=next_char(text,temperature)\n",
        "  return text"
      ],
      "execution_count": 61,
      "outputs": []
    },
    {
      "cell_type": "code",
      "metadata": {
        "colab": {
          "base_uri": "https://localhost:8080/",
          "height": 106
        },
        "id": "pEHClSvAUXx5",
        "outputId": "c1141e04-b24c-4951-c1a0-14e5d2a55aff"
      },
      "source": [
        "X_new = preprocess([\"How are yo\"])\n",
        "Y_pred = model.predict_classes(X_new)\n",
        "tokenizer.sequences_to_texts(Y_pred+1)[0][-1]"
      ],
      "execution_count": 62,
      "outputs": [
        {
          "output_type": "stream",
          "text": [
            "/usr/local/lib/python3.7/dist-packages/tensorflow/python/keras/engine/sequential.py:455: UserWarning: `model.predict_classes()` is deprecated and will be removed after 2021-01-01. Please use instead:* `np.argmax(model.predict(x), axis=-1)`,   if your model does multi-class classification   (e.g. if it uses a `softmax` last-layer activation).* `(model.predict(x) > 0.5).astype(\"int32\")`,   if your model does binary classification   (e.g. if it uses a `sigmoid` last-layer activation).\n",
            "  warnings.warn('`model.predict_classes()` is deprecated and '\n"
          ],
          "name": "stderr"
        },
        {
          "output_type": "stream",
          "text": [
            "WARNING:tensorflow:5 out of the last 77 calls to <function Model.make_predict_function.<locals>.predict_function at 0x7f93dab58290> triggered tf.function retracing. Tracing is expensive and the excessive number of tracings could be due to (1) creating @tf.function repeatedly in a loop, (2) passing tensors with different shapes, (3) passing Python objects instead of tensors. For (1), please define your @tf.function outside of the loop. For (2), @tf.function has experimental_relax_shapes=True option that relaxes argument shapes that can avoid unnecessary retracing. For (3), please refer to https://www.tensorflow.org/guide/function#controlling_retracing and https://www.tensorflow.org/api_docs/python/tf/function for  more details.\n"
          ],
          "name": "stdout"
        },
        {
          "output_type": "execute_result",
          "data": {
            "application/vnd.google.colaboratory.intrinsic+json": {
              "type": "string"
            },
            "text/plain": [
              "'u'"
            ]
          },
          "metadata": {
            "tags": []
          },
          "execution_count": 62
        }
      ]
    },
    {
      "cell_type": "code",
      "metadata": {
        "colab": {
          "base_uri": "https://localhost:8080/"
        },
        "id": "utme-xgsUCLW",
        "outputId": "4fa39c6d-ba23-46d4-801a-db5454516a98"
      },
      "source": [
        "print(complete_text(\"t\",temperature=0.2))"
      ],
      "execution_count": 63,
      "outputs": [
        {
          "output_type": "stream",
          "text": [
            "WARNING:tensorflow:6 out of the last 78 calls to <function Model.make_predict_function.<locals>.predict_function at 0x7f93dab58290> triggered tf.function retracing. Tracing is expensive and the excessive number of tracings could be due to (1) creating @tf.function repeatedly in a loop, (2) passing tensors with different shapes, (3) passing Python objects instead of tensors. For (1), please define your @tf.function outside of the loop. For (2), @tf.function has experimental_relax_shapes=True option that relaxes argument shapes that can avoid unnecessary retracing. For (3), please refer to https://www.tensorflow.org/guide/function#controlling_retracing and https://www.tensorflow.org/api_docs/python/tf/function for  more details.\n",
            "the word of the words\n",
            "that thou words the words in \n"
          ],
          "name": "stdout"
        }
      ]
    },
    {
      "cell_type": "code",
      "metadata": {
        "colab": {
          "base_uri": "https://localhost:8080/"
        },
        "id": "-MXRzzitUKv6",
        "outputId": "1effacee-2a9e-413d-d088-4923f779820e"
      },
      "source": [
        "print(complete_text(\"w\",temperature=0.2))"
      ],
      "execution_count": 64,
      "outputs": [
        {
          "output_type": "stream",
          "text": [
            "with the heads of the king,\n",
            "that the words of the m\n"
          ],
          "name": "stdout"
        }
      ]
    },
    {
      "cell_type": "code",
      "metadata": {
        "colab": {
          "base_uri": "https://localhost:8080/"
        },
        "id": "MjqSIuCFUNue",
        "outputId": "60041fa6-c052-4010-9f6b-7fb6af4a76b0"
      },
      "source": [
        "print(complete_text(\"w\",temperature=0.8))"
      ],
      "execution_count": 65,
      "outputs": [
        {
          "output_type": "stream",
          "text": [
            "way?\n",
            "\n",
            "sampson:\n",
            "they are heart of the eemp'd hands e\n"
          ],
          "name": "stdout"
        }
      ]
    },
    {
      "cell_type": "code",
      "metadata": {
        "id": "wZkW8VUUHfq0"
      },
      "source": [
        "import keras\n",
        "import os\n",
        "import numpy as np\n",
        "import pandas as pd\n",
        "import matplotlib.pyplot as plt"
      ],
      "execution_count": 66,
      "outputs": []
    },
    {
      "cell_type": "code",
      "metadata": {
        "id": "1bQxTjppGuJS"
      },
      "source": [
        "df = pd.read_csv(\"https://raw.githubusercontent.com/eepLearning/AIP2_RNN_LAB_Activity/main/Ulsan_temp_201905_202105.csv\")"
      ],
      "execution_count": 67,
      "outputs": []
    },
    {
      "cell_type": "code",
      "metadata": {
        "colab": {
          "base_uri": "https://localhost:8080/",
          "height": 359
        },
        "id": "7PpjevZOHCqx",
        "outputId": "757a28bc-6179-4630-f91c-257fd4eb57be"
      },
      "source": [
        "df.tail(10)"
      ],
      "execution_count": 68,
      "outputs": [
        {
          "output_type": "execute_result",
          "data": {
            "text/html": [
              "<div>\n",
              "<style scoped>\n",
              "    .dataframe tbody tr th:only-of-type {\n",
              "        vertical-align: middle;\n",
              "    }\n",
              "\n",
              "    .dataframe tbody tr th {\n",
              "        vertical-align: top;\n",
              "    }\n",
              "\n",
              "    .dataframe thead th {\n",
              "        text-align: right;\n",
              "    }\n",
              "</style>\n",
              "<table border=\"1\" class=\"dataframe\">\n",
              "  <thead>\n",
              "    <tr style=\"text-align: right;\">\n",
              "      <th></th>\n",
              "      <th>Date</th>\n",
              "      <th>Temperature(M)</th>\n",
              "      <th>Temperature(L)</th>\n",
              "      <th>Temperature(H)</th>\n",
              "    </tr>\n",
              "  </thead>\n",
              "  <tbody>\n",
              "    <tr>\n",
              "      <th>752</th>\n",
              "      <td>2021-05-23</td>\n",
              "      <td>23.7</td>\n",
              "      <td>16.3</td>\n",
              "      <td>30.5</td>\n",
              "    </tr>\n",
              "    <tr>\n",
              "      <th>753</th>\n",
              "      <td>2021-05-24</td>\n",
              "      <td>19.6</td>\n",
              "      <td>17.4</td>\n",
              "      <td>24.2</td>\n",
              "    </tr>\n",
              "    <tr>\n",
              "      <th>754</th>\n",
              "      <td>2021-05-25</td>\n",
              "      <td>19.0</td>\n",
              "      <td>13.9</td>\n",
              "      <td>24.3</td>\n",
              "    </tr>\n",
              "    <tr>\n",
              "      <th>755</th>\n",
              "      <td>2021-05-26</td>\n",
              "      <td>18.3</td>\n",
              "      <td>12.1</td>\n",
              "      <td>23.7</td>\n",
              "    </tr>\n",
              "    <tr>\n",
              "      <th>756</th>\n",
              "      <td>2021-05-27</td>\n",
              "      <td>19.1</td>\n",
              "      <td>14.9</td>\n",
              "      <td>24.4</td>\n",
              "    </tr>\n",
              "    <tr>\n",
              "      <th>757</th>\n",
              "      <td>2021-05-28</td>\n",
              "      <td>17.5</td>\n",
              "      <td>12.1</td>\n",
              "      <td>26.0</td>\n",
              "    </tr>\n",
              "    <tr>\n",
              "      <th>758</th>\n",
              "      <td>2021-05-29</td>\n",
              "      <td>19.3</td>\n",
              "      <td>12.1</td>\n",
              "      <td>25.9</td>\n",
              "    </tr>\n",
              "    <tr>\n",
              "      <th>759</th>\n",
              "      <td>2021-05-30</td>\n",
              "      <td>19.2</td>\n",
              "      <td>14.3</td>\n",
              "      <td>24.1</td>\n",
              "    </tr>\n",
              "    <tr>\n",
              "      <th>760</th>\n",
              "      <td>2021-05-31</td>\n",
              "      <td>19.0</td>\n",
              "      <td>15.2</td>\n",
              "      <td>25.1</td>\n",
              "    </tr>\n",
              "    <tr>\n",
              "      <th>761</th>\n",
              "      <td>2021-06-01</td>\n",
              "      <td>20.3</td>\n",
              "      <td>14.1</td>\n",
              "      <td>25.8</td>\n",
              "    </tr>\n",
              "  </tbody>\n",
              "</table>\n",
              "</div>"
            ],
            "text/plain": [
              "           Date  Temperature(M)  Temperature(L)  Temperature(H)\n",
              "752  2021-05-23            23.7            16.3            30.5\n",
              "753  2021-05-24            19.6            17.4            24.2\n",
              "754  2021-05-25            19.0            13.9            24.3\n",
              "755  2021-05-26            18.3            12.1            23.7\n",
              "756  2021-05-27            19.1            14.9            24.4\n",
              "757  2021-05-28            17.5            12.1            26.0\n",
              "758  2021-05-29            19.3            12.1            25.9\n",
              "759  2021-05-30            19.2            14.3            24.1\n",
              "760  2021-05-31            19.0            15.2            25.1\n",
              "761  2021-06-01            20.3            14.1            25.8"
            ]
          },
          "metadata": {
            "tags": []
          },
          "execution_count": 68
        }
      ]
    },
    {
      "cell_type": "code",
      "metadata": {
        "colab": {
          "base_uri": "https://localhost:8080/"
        },
        "id": "Z0USr9uMKZvt",
        "outputId": "ae242698-907e-44ca-c97b-416e72220661"
      },
      "source": [
        "n_step = 5\n",
        "temperature = df[\"Temperature(H)\"].values\n",
        "print(temperature.shape)"
      ],
      "execution_count": 69,
      "outputs": [
        {
          "output_type": "stream",
          "text": [
            "(762,)\n"
          ],
          "name": "stdout"
        }
      ]
    },
    {
      "cell_type": "code",
      "metadata": {
        "colab": {
          "base_uri": "https://localhost:8080/"
        },
        "id": "61efUQoVLa8I",
        "outputId": "6443b929-c407-4d49-e2e4-6d28343b023b"
      },
      "source": [
        "temperature = temperature[:(temperature.shape[0]//(n_step+1))*(n_step+1)].reshape(-1,(n_step+1))\n",
        "\n",
        "r = temperature.shape[0]\n",
        "\n",
        "r"
      ],
      "execution_count": 70,
      "outputs": [
        {
          "output_type": "execute_result",
          "data": {
            "text/plain": [
              "127"
            ]
          },
          "metadata": {
            "tags": []
          },
          "execution_count": 70
        }
      ]
    },
    {
      "cell_type": "code",
      "metadata": {
        "colab": {
          "base_uri": "https://localhost:8080/"
        },
        "id": "CAgDamaGL9GT",
        "outputId": "95a42a21-b13f-457c-8c65-d292581de7af"
      },
      "source": [
        "X_train,y_train = temperature[:int(r*0.8),:n_step,np.newaxis],temperature[:int(r*0.8),-1,np.newaxis]\n",
        "X_valid, y_valid = temperature[int(r*0.8):int(r*0.9),:n_step,np.newaxis],temperature[int(r*0.8):int(r*0.9),-1,np.newaxis]\n",
        "X_test, y_test = temperature[int(r*0.9):-1,:n_step,np.newaxis],temperature[int(r*0.9):-1,-1,np.newaxis]\n",
        "\n",
        "print(X_train.shape,y_train.shape)\n",
        "print(X_valid.shape,y_valid.shape)\n",
        "print(X_test.shape,y_test.shape)"
      ],
      "execution_count": 71,
      "outputs": [
        {
          "output_type": "stream",
          "text": [
            "(101, 5, 1) (101, 1)\n",
            "(13, 5, 1) (13, 1)\n",
            "(12, 5, 1) (12, 1)\n"
          ],
          "name": "stdout"
        }
      ]
    },
    {
      "cell_type": "code",
      "metadata": {
        "colab": {
          "base_uri": "https://localhost:8080/"
        },
        "id": "pch_64_xJRNZ",
        "outputId": "b7997966-1e04-4500-ac83-5927cba797fc"
      },
      "source": [
        "np.random.seed(42)\n",
        "tf.random.set_seed(42)\n",
        "model = keras.models.Sequential([\n",
        "                                 keras.layers.LSTM(64,return_sequences=True, input_shape=[None,1]),\n",
        "                                 keras.layers.LSTM(128,return_sequences=True),\n",
        "                                 keras.layers.LSTM(256,return_sequences=True),\n",
        "                                 keras.layers.LSTM(512, return_sequences=False),\n",
        "                                keras.layers.Dense(1)\n",
        "\n",
        "])\n",
        "\n",
        "model.compile(loss=\"mse\",optimizer=\"adam\")\n",
        "history = model.fit(X_train,y_train,epochs=500,\n",
        "                    validation_data=(X_valid,y_valid))"
      ],
      "execution_count": 72,
      "outputs": [
        {
          "output_type": "stream",
          "text": [
            "Epoch 1/500\n",
            "4/4 [==============================] - 18s 488ms/step - loss: 468.9529 - val_loss: 124.2506\n",
            "Epoch 2/500\n",
            "4/4 [==============================] - 0s 13ms/step - loss: 324.9093 - val_loss: 82.7509\n",
            "Epoch 3/500\n",
            "4/4 [==============================] - 0s 13ms/step - loss: 61.1964 - val_loss: 246.7825\n",
            "Epoch 4/500\n",
            "4/4 [==============================] - 0s 13ms/step - loss: 89.2961 - val_loss: 132.3772\n",
            "Epoch 5/500\n",
            "4/4 [==============================] - 0s 12ms/step - loss: 62.1923 - val_loss: 69.7956\n",
            "Epoch 6/500\n",
            "4/4 [==============================] - 0s 12ms/step - loss: 66.4076 - val_loss: 86.7707\n",
            "Epoch 7/500\n",
            "4/4 [==============================] - 0s 14ms/step - loss: 59.9201 - val_loss: 114.0331\n",
            "Epoch 8/500\n",
            "4/4 [==============================] - 0s 14ms/step - loss: 58.2237 - val_loss: 119.6629\n",
            "Epoch 9/500\n",
            "4/4 [==============================] - 0s 13ms/step - loss: 53.6259 - val_loss: 104.9979\n",
            "Epoch 10/500\n",
            "4/4 [==============================] - 0s 13ms/step - loss: 55.4648 - val_loss: 82.1930\n",
            "Epoch 11/500\n",
            "4/4 [==============================] - 0s 13ms/step - loss: 56.7298 - val_loss: 72.1398\n",
            "Epoch 12/500\n",
            "4/4 [==============================] - 0s 12ms/step - loss: 47.2410 - val_loss: 72.2840\n",
            "Epoch 13/500\n",
            "4/4 [==============================] - 0s 13ms/step - loss: 44.5436 - val_loss: 60.8976\n",
            "Epoch 14/500\n",
            "4/4 [==============================] - 0s 12ms/step - loss: 32.5107 - val_loss: 42.3973\n",
            "Epoch 15/500\n",
            "4/4 [==============================] - 0s 12ms/step - loss: 28.7048 - val_loss: 51.1155\n",
            "Epoch 16/500\n",
            "4/4 [==============================] - 0s 12ms/step - loss: 26.6687 - val_loss: 52.0449\n",
            "Epoch 17/500\n",
            "4/4 [==============================] - 0s 13ms/step - loss: 26.1153 - val_loss: 59.0069\n",
            "Epoch 18/500\n",
            "4/4 [==============================] - 0s 12ms/step - loss: 27.1064 - val_loss: 39.8729\n",
            "Epoch 19/500\n",
            "4/4 [==============================] - 0s 14ms/step - loss: 21.1288 - val_loss: 38.1360\n",
            "Epoch 20/500\n",
            "4/4 [==============================] - 0s 12ms/step - loss: 21.6134 - val_loss: 43.7733\n",
            "Epoch 21/500\n",
            "4/4 [==============================] - 0s 12ms/step - loss: 17.8688 - val_loss: 40.3056\n",
            "Epoch 22/500\n",
            "4/4 [==============================] - 0s 13ms/step - loss: 17.2899 - val_loss: 41.0072\n",
            "Epoch 23/500\n",
            "4/4 [==============================] - 0s 13ms/step - loss: 17.7627 - val_loss: 43.5195\n",
            "Epoch 24/500\n",
            "4/4 [==============================] - 0s 14ms/step - loss: 17.4947 - val_loss: 38.4580\n",
            "Epoch 25/500\n",
            "4/4 [==============================] - 0s 12ms/step - loss: 15.3811 - val_loss: 40.2453\n",
            "Epoch 26/500\n",
            "4/4 [==============================] - 0s 12ms/step - loss: 15.7731 - val_loss: 40.8265\n",
            "Epoch 27/500\n",
            "4/4 [==============================] - 0s 13ms/step - loss: 14.4111 - val_loss: 36.2683\n",
            "Epoch 28/500\n",
            "4/4 [==============================] - 0s 14ms/step - loss: 16.0560 - val_loss: 37.1363\n",
            "Epoch 29/500\n",
            "4/4 [==============================] - 0s 13ms/step - loss: 13.2393 - val_loss: 36.9555\n",
            "Epoch 30/500\n",
            "4/4 [==============================] - 0s 13ms/step - loss: 12.4360 - val_loss: 37.0664\n",
            "Epoch 31/500\n",
            "4/4 [==============================] - 0s 14ms/step - loss: 14.0929 - val_loss: 39.0836\n",
            "Epoch 32/500\n",
            "4/4 [==============================] - 0s 14ms/step - loss: 14.9338 - val_loss: 35.3644\n",
            "Epoch 33/500\n",
            "4/4 [==============================] - 0s 12ms/step - loss: 16.1505 - val_loss: 36.4737\n",
            "Epoch 34/500\n",
            "4/4 [==============================] - 0s 12ms/step - loss: 12.5264 - val_loss: 36.6062\n",
            "Epoch 35/500\n",
            "4/4 [==============================] - 0s 12ms/step - loss: 13.7974 - val_loss: 36.7385\n",
            "Epoch 36/500\n",
            "4/4 [==============================] - 0s 12ms/step - loss: 15.8505 - val_loss: 38.5211\n",
            "Epoch 37/500\n",
            "4/4 [==============================] - 0s 13ms/step - loss: 13.0747 - val_loss: 34.4880\n",
            "Epoch 38/500\n",
            "4/4 [==============================] - 0s 13ms/step - loss: 15.1967 - val_loss: 37.2727\n",
            "Epoch 39/500\n",
            "4/4 [==============================] - 0s 12ms/step - loss: 14.8352 - val_loss: 35.8359\n",
            "Epoch 40/500\n",
            "4/4 [==============================] - 0s 13ms/step - loss: 13.0482 - val_loss: 34.4551\n",
            "Epoch 41/500\n",
            "4/4 [==============================] - 0s 13ms/step - loss: 13.3800 - val_loss: 35.6947\n",
            "Epoch 42/500\n",
            "4/4 [==============================] - 0s 12ms/step - loss: 13.9732 - val_loss: 37.0853\n",
            "Epoch 43/500\n",
            "4/4 [==============================] - 0s 13ms/step - loss: 12.5015 - val_loss: 36.3964\n",
            "Epoch 44/500\n",
            "4/4 [==============================] - 0s 13ms/step - loss: 12.1807 - val_loss: 37.4749\n",
            "Epoch 45/500\n",
            "4/4 [==============================] - 0s 13ms/step - loss: 16.9337 - val_loss: 34.5785\n",
            "Epoch 46/500\n",
            "4/4 [==============================] - 0s 13ms/step - loss: 13.5668 - val_loss: 34.3549\n",
            "Epoch 47/500\n",
            "4/4 [==============================] - 0s 13ms/step - loss: 12.3211 - val_loss: 34.1234\n",
            "Epoch 48/500\n",
            "4/4 [==============================] - 0s 13ms/step - loss: 10.7187 - val_loss: 33.5063\n",
            "Epoch 49/500\n",
            "4/4 [==============================] - 0s 13ms/step - loss: 12.5638 - val_loss: 33.8128\n",
            "Epoch 50/500\n",
            "4/4 [==============================] - 0s 13ms/step - loss: 11.7542 - val_loss: 33.4661\n",
            "Epoch 51/500\n",
            "4/4 [==============================] - 0s 13ms/step - loss: 11.6411 - val_loss: 32.9200\n",
            "Epoch 52/500\n",
            "4/4 [==============================] - 0s 13ms/step - loss: 12.0025 - val_loss: 32.7704\n",
            "Epoch 53/500\n",
            "4/4 [==============================] - 0s 14ms/step - loss: 12.2610 - val_loss: 32.7493\n",
            "Epoch 54/500\n",
            "4/4 [==============================] - 0s 13ms/step - loss: 13.9634 - val_loss: 32.4899\n",
            "Epoch 55/500\n",
            "4/4 [==============================] - 0s 13ms/step - loss: 11.4618 - val_loss: 31.8076\n",
            "Epoch 56/500\n",
            "4/4 [==============================] - 0s 12ms/step - loss: 10.4368 - val_loss: 31.8870\n",
            "Epoch 57/500\n",
            "4/4 [==============================] - 0s 12ms/step - loss: 11.9501 - val_loss: 31.2571\n",
            "Epoch 58/500\n",
            "4/4 [==============================] - 0s 12ms/step - loss: 12.5292 - val_loss: 31.6638\n",
            "Epoch 59/500\n",
            "4/4 [==============================] - 0s 13ms/step - loss: 11.8593 - val_loss: 31.7719\n",
            "Epoch 60/500\n",
            "4/4 [==============================] - 0s 13ms/step - loss: 12.2881 - val_loss: 31.8570\n",
            "Epoch 61/500\n",
            "4/4 [==============================] - 0s 12ms/step - loss: 11.5546 - val_loss: 30.4671\n",
            "Epoch 62/500\n",
            "4/4 [==============================] - 0s 13ms/step - loss: 11.4015 - val_loss: 29.9303\n",
            "Epoch 63/500\n",
            "4/4 [==============================] - 0s 13ms/step - loss: 10.6678 - val_loss: 29.6774\n",
            "Epoch 64/500\n",
            "4/4 [==============================] - 0s 13ms/step - loss: 9.4432 - val_loss: 29.2350\n",
            "Epoch 65/500\n",
            "4/4 [==============================] - 0s 16ms/step - loss: 9.3216 - val_loss: 29.0056\n",
            "Epoch 66/500\n",
            "4/4 [==============================] - 0s 13ms/step - loss: 9.1423 - val_loss: 29.8423\n",
            "Epoch 67/500\n",
            "4/4 [==============================] - 0s 15ms/step - loss: 9.8698 - val_loss: 29.3086\n",
            "Epoch 68/500\n",
            "4/4 [==============================] - 0s 12ms/step - loss: 9.3763 - val_loss: 30.5280\n",
            "Epoch 69/500\n",
            "4/4 [==============================] - 0s 12ms/step - loss: 10.3083 - val_loss: 26.4266\n",
            "Epoch 70/500\n",
            "4/4 [==============================] - 0s 13ms/step - loss: 14.4282 - val_loss: 31.1623\n",
            "Epoch 71/500\n",
            "4/4 [==============================] - 0s 13ms/step - loss: 15.1531 - val_loss: 26.4120\n",
            "Epoch 72/500\n",
            "4/4 [==============================] - 0s 13ms/step - loss: 12.0452 - val_loss: 28.1313\n",
            "Epoch 73/500\n",
            "4/4 [==============================] - 0s 13ms/step - loss: 9.1168 - val_loss: 26.6343\n",
            "Epoch 74/500\n",
            "4/4 [==============================] - 0s 13ms/step - loss: 8.4248 - val_loss: 28.3941\n",
            "Epoch 75/500\n",
            "4/4 [==============================] - 0s 13ms/step - loss: 9.4246 - val_loss: 27.2198\n",
            "Epoch 76/500\n",
            "4/4 [==============================] - 0s 13ms/step - loss: 9.0323 - val_loss: 27.4249\n",
            "Epoch 77/500\n",
            "4/4 [==============================] - 0s 14ms/step - loss: 7.2828 - val_loss: 25.7318\n",
            "Epoch 78/500\n",
            "4/4 [==============================] - 0s 14ms/step - loss: 9.6902 - val_loss: 26.6742\n",
            "Epoch 79/500\n",
            "4/4 [==============================] - 0s 15ms/step - loss: 8.1661 - val_loss: 25.5929\n",
            "Epoch 80/500\n",
            "4/4 [==============================] - 0s 13ms/step - loss: 9.8500 - val_loss: 25.6335\n",
            "Epoch 81/500\n",
            "4/4 [==============================] - 0s 13ms/step - loss: 8.7161 - val_loss: 25.0539\n",
            "Epoch 82/500\n",
            "4/4 [==============================] - 0s 13ms/step - loss: 10.4630 - val_loss: 25.0705\n",
            "Epoch 83/500\n",
            "4/4 [==============================] - 0s 14ms/step - loss: 7.8375 - val_loss: 25.4873\n",
            "Epoch 84/500\n",
            "4/4 [==============================] - 0s 12ms/step - loss: 7.8813 - val_loss: 24.3013\n",
            "Epoch 85/500\n",
            "4/4 [==============================] - 0s 12ms/step - loss: 9.2570 - val_loss: 26.0635\n",
            "Epoch 86/500\n",
            "4/4 [==============================] - 0s 14ms/step - loss: 11.4862 - val_loss: 25.3671\n",
            "Epoch 87/500\n",
            "4/4 [==============================] - 0s 13ms/step - loss: 11.4997 - val_loss: 26.3658\n",
            "Epoch 88/500\n",
            "4/4 [==============================] - 0s 13ms/step - loss: 10.5420 - val_loss: 26.3313\n",
            "Epoch 89/500\n",
            "4/4 [==============================] - 0s 14ms/step - loss: 7.6972 - val_loss: 23.9341\n",
            "Epoch 90/500\n",
            "4/4 [==============================] - 0s 13ms/step - loss: 11.2357 - val_loss: 26.1930\n",
            "Epoch 91/500\n",
            "4/4 [==============================] - 0s 14ms/step - loss: 9.0898 - val_loss: 24.4890\n",
            "Epoch 92/500\n",
            "4/4 [==============================] - 0s 13ms/step - loss: 8.5888 - val_loss: 24.4726\n",
            "Epoch 93/500\n",
            "4/4 [==============================] - 0s 12ms/step - loss: 7.6726 - val_loss: 24.4037\n",
            "Epoch 94/500\n",
            "4/4 [==============================] - 0s 13ms/step - loss: 7.8863 - val_loss: 24.4431\n",
            "Epoch 95/500\n",
            "4/4 [==============================] - 0s 14ms/step - loss: 8.3005 - val_loss: 24.4710\n",
            "Epoch 96/500\n",
            "4/4 [==============================] - 0s 13ms/step - loss: 7.6742 - val_loss: 23.6402\n",
            "Epoch 97/500\n",
            "4/4 [==============================] - 0s 13ms/step - loss: 7.8510 - val_loss: 23.3966\n",
            "Epoch 98/500\n",
            "4/4 [==============================] - 0s 14ms/step - loss: 7.7916 - val_loss: 24.0396\n",
            "Epoch 99/500\n",
            "4/4 [==============================] - 0s 13ms/step - loss: 7.4326 - val_loss: 25.7650\n",
            "Epoch 100/500\n",
            "4/4 [==============================] - 0s 15ms/step - loss: 8.1892 - val_loss: 24.6475\n",
            "Epoch 101/500\n",
            "4/4 [==============================] - 0s 13ms/step - loss: 8.4474 - val_loss: 24.0351\n",
            "Epoch 102/500\n",
            "4/4 [==============================] - 0s 13ms/step - loss: 7.9095 - val_loss: 23.0299\n",
            "Epoch 103/500\n",
            "4/4 [==============================] - 0s 13ms/step - loss: 8.8775 - val_loss: 22.4297\n",
            "Epoch 104/500\n",
            "4/4 [==============================] - 0s 13ms/step - loss: 9.1186 - val_loss: 24.0769\n",
            "Epoch 105/500\n",
            "4/4 [==============================] - 0s 13ms/step - loss: 7.4296 - val_loss: 26.3109\n",
            "Epoch 106/500\n",
            "4/4 [==============================] - 0s 16ms/step - loss: 8.2574 - val_loss: 23.5575\n",
            "Epoch 107/500\n",
            "4/4 [==============================] - 0s 14ms/step - loss: 9.7100 - val_loss: 22.9097\n",
            "Epoch 108/500\n",
            "4/4 [==============================] - 0s 14ms/step - loss: 7.4368 - val_loss: 22.7020\n",
            "Epoch 109/500\n",
            "4/4 [==============================] - 0s 13ms/step - loss: 8.0329 - val_loss: 22.3286\n",
            "Epoch 110/500\n",
            "4/4 [==============================] - 0s 13ms/step - loss: 6.8502 - val_loss: 22.1202\n",
            "Epoch 111/500\n",
            "4/4 [==============================] - 0s 14ms/step - loss: 7.2094 - val_loss: 22.1512\n",
            "Epoch 112/500\n",
            "4/4 [==============================] - 0s 13ms/step - loss: 8.6196 - val_loss: 23.1457\n",
            "Epoch 113/500\n",
            "4/4 [==============================] - 0s 13ms/step - loss: 7.5835 - val_loss: 23.1191\n",
            "Epoch 114/500\n",
            "4/4 [==============================] - 0s 12ms/step - loss: 7.8875 - val_loss: 21.5327\n",
            "Epoch 115/500\n",
            "4/4 [==============================] - 0s 12ms/step - loss: 7.7724 - val_loss: 21.9027\n",
            "Epoch 116/500\n",
            "4/4 [==============================] - 0s 13ms/step - loss: 7.0921 - val_loss: 22.1953\n",
            "Epoch 117/500\n",
            "4/4 [==============================] - 0s 13ms/step - loss: 7.5909 - val_loss: 23.1348\n",
            "Epoch 118/500\n",
            "4/4 [==============================] - 0s 13ms/step - loss: 7.5048 - val_loss: 22.5071\n",
            "Epoch 119/500\n",
            "4/4 [==============================] - 0s 14ms/step - loss: 7.3617 - val_loss: 23.8914\n",
            "Epoch 120/500\n",
            "4/4 [==============================] - 0s 13ms/step - loss: 8.3092 - val_loss: 23.0785\n",
            "Epoch 121/500\n",
            "4/4 [==============================] - 0s 12ms/step - loss: 7.7107 - val_loss: 22.4857\n",
            "Epoch 122/500\n",
            "4/4 [==============================] - 0s 13ms/step - loss: 7.7908 - val_loss: 22.0277\n",
            "Epoch 123/500\n",
            "4/4 [==============================] - 0s 12ms/step - loss: 7.2928 - val_loss: 23.5266\n",
            "Epoch 124/500\n",
            "4/4 [==============================] - 0s 12ms/step - loss: 8.3333 - val_loss: 21.4109\n",
            "Epoch 125/500\n",
            "4/4 [==============================] - 0s 14ms/step - loss: 11.6616 - val_loss: 21.9488\n",
            "Epoch 126/500\n",
            "4/4 [==============================] - 0s 13ms/step - loss: 8.1553 - val_loss: 21.6736\n",
            "Epoch 127/500\n",
            "4/4 [==============================] - 0s 13ms/step - loss: 6.6225 - val_loss: 24.8496\n",
            "Epoch 128/500\n",
            "4/4 [==============================] - 0s 13ms/step - loss: 9.5970 - val_loss: 27.1204\n",
            "Epoch 129/500\n",
            "4/4 [==============================] - 0s 14ms/step - loss: 8.7173 - val_loss: 22.1645\n",
            "Epoch 130/500\n",
            "4/4 [==============================] - 0s 13ms/step - loss: 8.3768 - val_loss: 22.9510\n",
            "Epoch 131/500\n",
            "4/4 [==============================] - 0s 13ms/step - loss: 9.0009 - val_loss: 22.6859\n",
            "Epoch 132/500\n",
            "4/4 [==============================] - 0s 12ms/step - loss: 8.7589 - val_loss: 22.5108\n",
            "Epoch 133/500\n",
            "4/4 [==============================] - 0s 13ms/step - loss: 8.7034 - val_loss: 22.2500\n",
            "Epoch 134/500\n",
            "4/4 [==============================] - 0s 14ms/step - loss: 8.8419 - val_loss: 22.1276\n",
            "Epoch 135/500\n",
            "4/4 [==============================] - 0s 13ms/step - loss: 8.1509 - val_loss: 22.9244\n",
            "Epoch 136/500\n",
            "4/4 [==============================] - 0s 14ms/step - loss: 6.8883 - val_loss: 21.8478\n",
            "Epoch 137/500\n",
            "4/4 [==============================] - 0s 13ms/step - loss: 11.7727 - val_loss: 22.4000\n",
            "Epoch 138/500\n",
            "4/4 [==============================] - 0s 13ms/step - loss: 7.1447 - val_loss: 22.0509\n",
            "Epoch 139/500\n",
            "4/4 [==============================] - 0s 13ms/step - loss: 7.0569 - val_loss: 21.2226\n",
            "Epoch 140/500\n",
            "4/4 [==============================] - 0s 13ms/step - loss: 7.1153 - val_loss: 23.7605\n",
            "Epoch 141/500\n",
            "4/4 [==============================] - 0s 13ms/step - loss: 7.2087 - val_loss: 20.8482\n",
            "Epoch 142/500\n",
            "4/4 [==============================] - 0s 13ms/step - loss: 6.8951 - val_loss: 20.5769\n",
            "Epoch 143/500\n",
            "4/4 [==============================] - 0s 13ms/step - loss: 7.5463 - val_loss: 20.4368\n",
            "Epoch 144/500\n",
            "4/4 [==============================] - 0s 12ms/step - loss: 6.9529 - val_loss: 22.8568\n",
            "Epoch 145/500\n",
            "4/4 [==============================] - 0s 15ms/step - loss: 7.0146 - val_loss: 21.5211\n",
            "Epoch 146/500\n",
            "4/4 [==============================] - 0s 13ms/step - loss: 8.1135 - val_loss: 21.3201\n",
            "Epoch 147/500\n",
            "4/4 [==============================] - 0s 13ms/step - loss: 7.3913 - val_loss: 20.7824\n",
            "Epoch 148/500\n",
            "4/4 [==============================] - 0s 13ms/step - loss: 7.8671 - val_loss: 21.0483\n",
            "Epoch 149/500\n",
            "4/4 [==============================] - 0s 13ms/step - loss: 7.6444 - val_loss: 20.7440\n",
            "Epoch 150/500\n",
            "4/4 [==============================] - 0s 13ms/step - loss: 8.1569 - val_loss: 21.3378\n",
            "Epoch 151/500\n",
            "4/4 [==============================] - 0s 15ms/step - loss: 7.0082 - val_loss: 21.6368\n",
            "Epoch 152/500\n",
            "4/4 [==============================] - 0s 13ms/step - loss: 6.6750 - val_loss: 22.8086\n",
            "Epoch 153/500\n",
            "4/4 [==============================] - 0s 14ms/step - loss: 7.4307 - val_loss: 21.4352\n",
            "Epoch 154/500\n",
            "4/4 [==============================] - 0s 13ms/step - loss: 7.4278 - val_loss: 22.4334\n",
            "Epoch 155/500\n",
            "4/4 [==============================] - 0s 13ms/step - loss: 6.7067 - val_loss: 21.7771\n",
            "Epoch 156/500\n",
            "4/4 [==============================] - 0s 14ms/step - loss: 6.4863 - val_loss: 21.6471\n",
            "Epoch 157/500\n",
            "4/4 [==============================] - 0s 13ms/step - loss: 8.0249 - val_loss: 22.1450\n",
            "Epoch 158/500\n",
            "4/4 [==============================] - 0s 13ms/step - loss: 6.7577 - val_loss: 21.4872\n",
            "Epoch 159/500\n",
            "4/4 [==============================] - 0s 13ms/step - loss: 6.7396 - val_loss: 21.2593\n",
            "Epoch 160/500\n",
            "4/4 [==============================] - 0s 14ms/step - loss: 6.2225 - val_loss: 20.8338\n",
            "Epoch 161/500\n",
            "4/4 [==============================] - 0s 13ms/step - loss: 7.4203 - val_loss: 22.8347\n",
            "Epoch 162/500\n",
            "4/4 [==============================] - 0s 13ms/step - loss: 7.1979 - val_loss: 20.5829\n",
            "Epoch 163/500\n",
            "4/4 [==============================] - 0s 13ms/step - loss: 7.5792 - val_loss: 22.0875\n",
            "Epoch 164/500\n",
            "4/4 [==============================] - 0s 13ms/step - loss: 7.8017 - val_loss: 21.6780\n",
            "Epoch 165/500\n",
            "4/4 [==============================] - 0s 13ms/step - loss: 7.3516 - val_loss: 21.5255\n",
            "Epoch 166/500\n",
            "4/4 [==============================] - 0s 13ms/step - loss: 7.1781 - val_loss: 22.3829\n",
            "Epoch 167/500\n",
            "4/4 [==============================] - 0s 13ms/step - loss: 8.1642 - val_loss: 21.4416\n",
            "Epoch 168/500\n",
            "4/4 [==============================] - 0s 16ms/step - loss: 7.5150 - val_loss: 25.3763\n",
            "Epoch 169/500\n",
            "4/4 [==============================] - 0s 13ms/step - loss: 8.4346 - val_loss: 22.6353\n",
            "Epoch 170/500\n",
            "4/4 [==============================] - 0s 13ms/step - loss: 6.8038 - val_loss: 21.5798\n",
            "Epoch 171/500\n",
            "4/4 [==============================] - 0s 12ms/step - loss: 6.6958 - val_loss: 22.5678\n",
            "Epoch 172/500\n",
            "4/4 [==============================] - 0s 13ms/step - loss: 6.5697 - val_loss: 21.2206\n",
            "Epoch 173/500\n",
            "4/4 [==============================] - 0s 15ms/step - loss: 6.4834 - val_loss: 21.3904\n",
            "Epoch 174/500\n",
            "4/4 [==============================] - 0s 14ms/step - loss: 6.6634 - val_loss: 21.1949\n",
            "Epoch 175/500\n",
            "4/4 [==============================] - 0s 14ms/step - loss: 6.3011 - val_loss: 21.4908\n",
            "Epoch 176/500\n",
            "4/4 [==============================] - 0s 13ms/step - loss: 6.3669 - val_loss: 21.7142\n",
            "Epoch 177/500\n",
            "4/4 [==============================] - 0s 13ms/step - loss: 6.4554 - val_loss: 21.4770\n",
            "Epoch 178/500\n",
            "4/4 [==============================] - 0s 14ms/step - loss: 6.2303 - val_loss: 21.0632\n",
            "Epoch 179/500\n",
            "4/4 [==============================] - 0s 14ms/step - loss: 7.0593 - val_loss: 22.2103\n",
            "Epoch 180/500\n",
            "4/4 [==============================] - 0s 19ms/step - loss: 6.6097 - val_loss: 21.0980\n",
            "Epoch 181/500\n",
            "4/4 [==============================] - 0s 14ms/step - loss: 7.0977 - val_loss: 21.8843\n",
            "Epoch 182/500\n",
            "4/4 [==============================] - 0s 14ms/step - loss: 7.1372 - val_loss: 21.2244\n",
            "Epoch 183/500\n",
            "4/4 [==============================] - 0s 13ms/step - loss: 7.3078 - val_loss: 21.8780\n",
            "Epoch 184/500\n",
            "4/4 [==============================] - 0s 15ms/step - loss: 6.9261 - val_loss: 21.2242\n",
            "Epoch 185/500\n",
            "4/4 [==============================] - 0s 14ms/step - loss: 6.5289 - val_loss: 20.9822\n",
            "Epoch 186/500\n",
            "4/4 [==============================] - 0s 13ms/step - loss: 7.1977 - val_loss: 21.6133\n",
            "Epoch 187/500\n",
            "4/4 [==============================] - 0s 13ms/step - loss: 6.9883 - val_loss: 22.8901\n",
            "Epoch 188/500\n",
            "4/4 [==============================] - 0s 12ms/step - loss: 6.9410 - val_loss: 21.0382\n",
            "Epoch 189/500\n",
            "4/4 [==============================] - 0s 12ms/step - loss: 7.0800 - val_loss: 21.0945\n",
            "Epoch 190/500\n",
            "4/4 [==============================] - 0s 13ms/step - loss: 6.8002 - val_loss: 22.3397\n",
            "Epoch 191/500\n",
            "4/4 [==============================] - 0s 14ms/step - loss: 6.5788 - val_loss: 20.7244\n",
            "Epoch 192/500\n",
            "4/4 [==============================] - 0s 13ms/step - loss: 5.8964 - val_loss: 22.4218\n",
            "Epoch 193/500\n",
            "4/4 [==============================] - 0s 13ms/step - loss: 8.4987 - val_loss: 21.3790\n",
            "Epoch 194/500\n",
            "4/4 [==============================] - 0s 13ms/step - loss: 6.8286 - val_loss: 20.7109\n",
            "Epoch 195/500\n",
            "4/4 [==============================] - 0s 13ms/step - loss: 5.9560 - val_loss: 21.8835\n",
            "Epoch 196/500\n",
            "4/4 [==============================] - 0s 14ms/step - loss: 6.4173 - val_loss: 21.3778\n",
            "Epoch 197/500\n",
            "4/4 [==============================] - 0s 14ms/step - loss: 5.7808 - val_loss: 21.0334\n",
            "Epoch 198/500\n",
            "4/4 [==============================] - 0s 13ms/step - loss: 5.9810 - val_loss: 21.8500\n",
            "Epoch 199/500\n",
            "4/4 [==============================] - 0s 13ms/step - loss: 6.5285 - val_loss: 21.5511\n",
            "Epoch 200/500\n",
            "4/4 [==============================] - 0s 13ms/step - loss: 6.7628 - val_loss: 21.3102\n",
            "Epoch 201/500\n",
            "4/4 [==============================] - 0s 14ms/step - loss: 6.8568 - val_loss: 20.8302\n",
            "Epoch 202/500\n",
            "4/4 [==============================] - 0s 14ms/step - loss: 6.4430 - val_loss: 22.9272\n",
            "Epoch 203/500\n",
            "4/4 [==============================] - 0s 14ms/step - loss: 6.5184 - val_loss: 20.4570\n",
            "Epoch 204/500\n",
            "4/4 [==============================] - 0s 15ms/step - loss: 7.3001 - val_loss: 21.4114\n",
            "Epoch 205/500\n",
            "4/4 [==============================] - 0s 12ms/step - loss: 7.0584 - val_loss: 21.1719\n",
            "Epoch 206/500\n",
            "4/4 [==============================] - 0s 13ms/step - loss: 7.0453 - val_loss: 20.5559\n",
            "Epoch 207/500\n",
            "4/4 [==============================] - 0s 19ms/step - loss: 7.3394 - val_loss: 21.5418\n",
            "Epoch 208/500\n",
            "4/4 [==============================] - 0s 13ms/step - loss: 8.0535 - val_loss: 21.4492\n",
            "Epoch 209/500\n",
            "4/4 [==============================] - 0s 13ms/step - loss: 6.7807 - val_loss: 22.4679\n",
            "Epoch 210/500\n",
            "4/4 [==============================] - 0s 13ms/step - loss: 6.3202 - val_loss: 20.9332\n",
            "Epoch 211/500\n",
            "4/4 [==============================] - 0s 13ms/step - loss: 7.0190 - val_loss: 20.7360\n",
            "Epoch 212/500\n",
            "4/4 [==============================] - 0s 13ms/step - loss: 6.0718 - val_loss: 21.3555\n",
            "Epoch 213/500\n",
            "4/4 [==============================] - 0s 13ms/step - loss: 5.9701 - val_loss: 19.9012\n",
            "Epoch 214/500\n",
            "4/4 [==============================] - 0s 16ms/step - loss: 7.3091 - val_loss: 20.8501\n",
            "Epoch 215/500\n",
            "4/4 [==============================] - 0s 14ms/step - loss: 7.4473 - val_loss: 21.2221\n",
            "Epoch 216/500\n",
            "4/4 [==============================] - 0s 13ms/step - loss: 6.3645 - val_loss: 22.2330\n",
            "Epoch 217/500\n",
            "4/4 [==============================] - 0s 15ms/step - loss: 6.4611 - val_loss: 21.6144\n",
            "Epoch 218/500\n",
            "4/4 [==============================] - 0s 13ms/step - loss: 6.0775 - val_loss: 20.9072\n",
            "Epoch 219/500\n",
            "4/4 [==============================] - 0s 14ms/step - loss: 6.7766 - val_loss: 20.2781\n",
            "Epoch 220/500\n",
            "4/4 [==============================] - 0s 15ms/step - loss: 6.4718 - val_loss: 21.9939\n",
            "Epoch 221/500\n",
            "4/4 [==============================] - 0s 13ms/step - loss: 5.8523 - val_loss: 19.0438\n",
            "Epoch 222/500\n",
            "4/4 [==============================] - 0s 13ms/step - loss: 9.0624 - val_loss: 19.1316\n",
            "Epoch 223/500\n",
            "4/4 [==============================] - 0s 13ms/step - loss: 8.1332 - val_loss: 20.9901\n",
            "Epoch 224/500\n",
            "4/4 [==============================] - 0s 14ms/step - loss: 8.0550 - val_loss: 19.6218\n",
            "Epoch 225/500\n",
            "4/4 [==============================] - 0s 13ms/step - loss: 5.7641 - val_loss: 19.9913\n",
            "Epoch 226/500\n",
            "4/4 [==============================] - 0s 13ms/step - loss: 7.0367 - val_loss: 19.8642\n",
            "Epoch 227/500\n",
            "4/4 [==============================] - 0s 13ms/step - loss: 5.5006 - val_loss: 21.8108\n",
            "Epoch 228/500\n",
            "4/4 [==============================] - 0s 14ms/step - loss: 5.7966 - val_loss: 22.6267\n",
            "Epoch 229/500\n",
            "4/4 [==============================] - 0s 15ms/step - loss: 6.2397 - val_loss: 20.4821\n",
            "Epoch 230/500\n",
            "4/4 [==============================] - 0s 13ms/step - loss: 5.8620 - val_loss: 20.5765\n",
            "Epoch 231/500\n",
            "4/4 [==============================] - 0s 13ms/step - loss: 6.8003 - val_loss: 20.6023\n",
            "Epoch 232/500\n",
            "4/4 [==============================] - 0s 13ms/step - loss: 6.4870 - val_loss: 23.5942\n",
            "Epoch 233/500\n",
            "4/4 [==============================] - 0s 14ms/step - loss: 6.5821 - val_loss: 22.0044\n",
            "Epoch 234/500\n",
            "4/4 [==============================] - 0s 14ms/step - loss: 6.5013 - val_loss: 20.5354\n",
            "Epoch 235/500\n",
            "4/4 [==============================] - 0s 13ms/step - loss: 6.1754 - val_loss: 20.7979\n",
            "Epoch 236/500\n",
            "4/4 [==============================] - 0s 13ms/step - loss: 6.2137 - val_loss: 20.5823\n",
            "Epoch 237/500\n",
            "4/4 [==============================] - 0s 13ms/step - loss: 5.5494 - val_loss: 22.2042\n",
            "Epoch 238/500\n",
            "4/4 [==============================] - 0s 13ms/step - loss: 6.2821 - val_loss: 22.3103\n",
            "Epoch 239/500\n",
            "4/4 [==============================] - 0s 15ms/step - loss: 5.1165 - val_loss: 20.3445\n",
            "Epoch 240/500\n",
            "4/4 [==============================] - 0s 14ms/step - loss: 5.8014 - val_loss: 19.9896\n",
            "Epoch 241/500\n",
            "4/4 [==============================] - 0s 14ms/step - loss: 5.1388 - val_loss: 22.1542\n",
            "Epoch 242/500\n",
            "4/4 [==============================] - 0s 13ms/step - loss: 6.1545 - val_loss: 24.7204\n",
            "Epoch 243/500\n",
            "4/4 [==============================] - 0s 13ms/step - loss: 7.0160 - val_loss: 20.6747\n",
            "Epoch 244/500\n",
            "4/4 [==============================] - 0s 14ms/step - loss: 6.5345 - val_loss: 19.4718\n",
            "Epoch 245/500\n",
            "4/4 [==============================] - 0s 13ms/step - loss: 6.0528 - val_loss: 24.1382\n",
            "Epoch 246/500\n",
            "4/4 [==============================] - 0s 14ms/step - loss: 7.1122 - val_loss: 22.0713\n",
            "Epoch 247/500\n",
            "4/4 [==============================] - 0s 13ms/step - loss: 5.5412 - val_loss: 21.0062\n",
            "Epoch 248/500\n",
            "4/4 [==============================] - 0s 12ms/step - loss: 5.5034 - val_loss: 21.1790\n",
            "Epoch 249/500\n",
            "4/4 [==============================] - 0s 13ms/step - loss: 5.5091 - val_loss: 22.0691\n",
            "Epoch 250/500\n",
            "4/4 [==============================] - 0s 15ms/step - loss: 5.7332 - val_loss: 22.2831\n",
            "Epoch 251/500\n",
            "4/4 [==============================] - 0s 15ms/step - loss: 5.7915 - val_loss: 22.9135\n",
            "Epoch 252/500\n",
            "4/4 [==============================] - 0s 13ms/step - loss: 5.2562 - val_loss: 22.5561\n",
            "Epoch 253/500\n",
            "4/4 [==============================] - 0s 14ms/step - loss: 4.8965 - val_loss: 24.3443\n",
            "Epoch 254/500\n",
            "4/4 [==============================] - 0s 14ms/step - loss: 5.8087 - val_loss: 22.6607\n",
            "Epoch 255/500\n",
            "4/4 [==============================] - 0s 13ms/step - loss: 5.1154 - val_loss: 22.7315\n",
            "Epoch 256/500\n",
            "4/4 [==============================] - 0s 13ms/step - loss: 5.7633 - val_loss: 24.0893\n",
            "Epoch 257/500\n",
            "4/4 [==============================] - 0s 15ms/step - loss: 5.5070 - val_loss: 25.9538\n",
            "Epoch 258/500\n",
            "4/4 [==============================] - 0s 13ms/step - loss: 5.1463 - val_loss: 22.4031\n",
            "Epoch 259/500\n",
            "4/4 [==============================] - 0s 15ms/step - loss: 5.3200 - val_loss: 20.5460\n",
            "Epoch 260/500\n",
            "4/4 [==============================] - 0s 13ms/step - loss: 6.2793 - val_loss: 20.8986\n",
            "Epoch 261/500\n",
            "4/4 [==============================] - 0s 13ms/step - loss: 5.6082 - val_loss: 21.0749\n",
            "Epoch 262/500\n",
            "4/4 [==============================] - 0s 13ms/step - loss: 6.3924 - val_loss: 21.8863\n",
            "Epoch 263/500\n",
            "4/4 [==============================] - 0s 19ms/step - loss: 5.1404 - val_loss: 22.0625\n",
            "Epoch 264/500\n",
            "4/4 [==============================] - 0s 13ms/step - loss: 5.1657 - val_loss: 20.7094\n",
            "Epoch 265/500\n",
            "4/4 [==============================] - 0s 13ms/step - loss: 5.5124 - val_loss: 22.3718\n",
            "Epoch 266/500\n",
            "4/4 [==============================] - 0s 13ms/step - loss: 5.6641 - val_loss: 23.0028\n",
            "Epoch 267/500\n",
            "4/4 [==============================] - 0s 14ms/step - loss: 5.9351 - val_loss: 21.7487\n",
            "Epoch 268/500\n",
            "4/4 [==============================] - 0s 15ms/step - loss: 4.8311 - val_loss: 20.5945\n",
            "Epoch 269/500\n",
            "4/4 [==============================] - 0s 14ms/step - loss: 5.6353 - val_loss: 21.8955\n",
            "Epoch 270/500\n",
            "4/4 [==============================] - 0s 14ms/step - loss: 5.8100 - val_loss: 23.3052\n",
            "Epoch 271/500\n",
            "4/4 [==============================] - 0s 15ms/step - loss: 5.5112 - val_loss: 22.2467\n",
            "Epoch 272/500\n",
            "4/4 [==============================] - 0s 14ms/step - loss: 6.6295 - val_loss: 24.1150\n",
            "Epoch 273/500\n",
            "4/4 [==============================] - 0s 13ms/step - loss: 5.1116 - val_loss: 25.7254\n",
            "Epoch 274/500\n",
            "4/4 [==============================] - 0s 13ms/step - loss: 4.8617 - val_loss: 21.8062\n",
            "Epoch 275/500\n",
            "4/4 [==============================] - 0s 15ms/step - loss: 6.5654 - val_loss: 21.2660\n",
            "Epoch 276/500\n",
            "4/4 [==============================] - 0s 14ms/step - loss: 5.7236 - val_loss: 22.2418\n",
            "Epoch 277/500\n",
            "4/4 [==============================] - 0s 13ms/step - loss: 4.8425 - val_loss: 22.5992\n",
            "Epoch 278/500\n",
            "4/4 [==============================] - 0s 14ms/step - loss: 5.3621 - val_loss: 24.0439\n",
            "Epoch 279/500\n",
            "4/4 [==============================] - 0s 14ms/step - loss: 5.6956 - val_loss: 24.5498\n",
            "Epoch 280/500\n",
            "4/4 [==============================] - 0s 13ms/step - loss: 5.7053 - val_loss: 22.7339\n",
            "Epoch 281/500\n",
            "4/4 [==============================] - 0s 13ms/step - loss: 4.7749 - val_loss: 23.0119\n",
            "Epoch 282/500\n",
            "4/4 [==============================] - 0s 13ms/step - loss: 5.2906 - val_loss: 21.6966\n",
            "Epoch 283/500\n",
            "4/4 [==============================] - 0s 14ms/step - loss: 4.8351 - val_loss: 21.6934\n",
            "Epoch 284/500\n",
            "4/4 [==============================] - 0s 13ms/step - loss: 5.0544 - val_loss: 23.0680\n",
            "Epoch 285/500\n",
            "4/4 [==============================] - 0s 14ms/step - loss: 5.3046 - val_loss: 20.8285\n",
            "Epoch 286/500\n",
            "4/4 [==============================] - 0s 14ms/step - loss: 5.2852 - val_loss: 23.5293\n",
            "Epoch 287/500\n",
            "4/4 [==============================] - 0s 13ms/step - loss: 5.0197 - val_loss: 25.5043\n",
            "Epoch 288/500\n",
            "4/4 [==============================] - 0s 14ms/step - loss: 4.4770 - val_loss: 23.4717\n",
            "Epoch 289/500\n",
            "4/4 [==============================] - 0s 15ms/step - loss: 5.0277 - val_loss: 20.9196\n",
            "Epoch 290/500\n",
            "4/4 [==============================] - 0s 13ms/step - loss: 5.8828 - val_loss: 23.6622\n",
            "Epoch 291/500\n",
            "4/4 [==============================] - 0s 13ms/step - loss: 5.6467 - val_loss: 22.3880\n",
            "Epoch 292/500\n",
            "4/4 [==============================] - 0s 16ms/step - loss: 5.2409 - val_loss: 22.5898\n",
            "Epoch 293/500\n",
            "4/4 [==============================] - 0s 13ms/step - loss: 6.1280 - val_loss: 25.3259\n",
            "Epoch 294/500\n",
            "4/4 [==============================] - 0s 16ms/step - loss: 5.2940 - val_loss: 27.4561\n",
            "Epoch 295/500\n",
            "4/4 [==============================] - 0s 18ms/step - loss: 6.2850 - val_loss: 25.9035\n",
            "Epoch 296/500\n",
            "4/4 [==============================] - 0s 13ms/step - loss: 5.2417 - val_loss: 23.3161\n",
            "Epoch 297/500\n",
            "4/4 [==============================] - 0s 13ms/step - loss: 5.3711 - val_loss: 21.3876\n",
            "Epoch 298/500\n",
            "4/4 [==============================] - 0s 13ms/step - loss: 5.0545 - val_loss: 22.4118\n",
            "Epoch 299/500\n",
            "4/4 [==============================] - 0s 14ms/step - loss: 4.3370 - val_loss: 24.7009\n",
            "Epoch 300/500\n",
            "4/4 [==============================] - 0s 14ms/step - loss: 4.2086 - val_loss: 24.7078\n",
            "Epoch 301/500\n",
            "4/4 [==============================] - 0s 13ms/step - loss: 5.7825 - val_loss: 25.1976\n",
            "Epoch 302/500\n",
            "4/4 [==============================] - 0s 14ms/step - loss: 6.6700 - val_loss: 24.8455\n",
            "Epoch 303/500\n",
            "4/4 [==============================] - 0s 13ms/step - loss: 5.6288 - val_loss: 28.4870\n",
            "Epoch 304/500\n",
            "4/4 [==============================] - 0s 16ms/step - loss: 5.6398 - val_loss: 24.6363\n",
            "Epoch 305/500\n",
            "4/4 [==============================] - 0s 14ms/step - loss: 4.9273 - val_loss: 23.6314\n",
            "Epoch 306/500\n",
            "4/4 [==============================] - 0s 14ms/step - loss: 5.0888 - val_loss: 24.2948\n",
            "Epoch 307/500\n",
            "4/4 [==============================] - 0s 15ms/step - loss: 4.9073 - val_loss: 24.2292\n",
            "Epoch 308/500\n",
            "4/4 [==============================] - 0s 13ms/step - loss: 4.6554 - val_loss: 24.4726\n",
            "Epoch 309/500\n",
            "4/4 [==============================] - 0s 14ms/step - loss: 5.2830 - val_loss: 24.1035\n",
            "Epoch 310/500\n",
            "4/4 [==============================] - 0s 14ms/step - loss: 5.1438 - val_loss: 24.2731\n",
            "Epoch 311/500\n",
            "4/4 [==============================] - 0s 14ms/step - loss: 5.2927 - val_loss: 24.1969\n",
            "Epoch 312/500\n",
            "4/4 [==============================] - 0s 15ms/step - loss: 4.4652 - val_loss: 23.7466\n",
            "Epoch 313/500\n",
            "4/4 [==============================] - 0s 13ms/step - loss: 4.6579 - val_loss: 23.5661\n",
            "Epoch 314/500\n",
            "4/4 [==============================] - 0s 14ms/step - loss: 4.3753 - val_loss: 25.0530\n",
            "Epoch 315/500\n",
            "4/4 [==============================] - 0s 13ms/step - loss: 4.1849 - val_loss: 23.5579\n",
            "Epoch 316/500\n",
            "4/4 [==============================] - 0s 13ms/step - loss: 4.6740 - val_loss: 23.4594\n",
            "Epoch 317/500\n",
            "4/4 [==============================] - 0s 15ms/step - loss: 5.5662 - val_loss: 24.7776\n",
            "Epoch 318/500\n",
            "4/4 [==============================] - 0s 13ms/step - loss: 4.9421 - val_loss: 22.2012\n",
            "Epoch 319/500\n",
            "4/4 [==============================] - 0s 13ms/step - loss: 4.5942 - val_loss: 23.2623\n",
            "Epoch 320/500\n",
            "4/4 [==============================] - 0s 13ms/step - loss: 4.9778 - val_loss: 23.1906\n",
            "Epoch 321/500\n",
            "4/4 [==============================] - 0s 13ms/step - loss: 4.4495 - val_loss: 25.4383\n",
            "Epoch 322/500\n",
            "4/4 [==============================] - 0s 14ms/step - loss: 4.8423 - val_loss: 26.8945\n",
            "Epoch 323/500\n",
            "4/4 [==============================] - 0s 14ms/step - loss: 4.5552 - val_loss: 23.1057\n",
            "Epoch 324/500\n",
            "4/4 [==============================] - 0s 13ms/step - loss: 5.0470 - val_loss: 22.4962\n",
            "Epoch 325/500\n",
            "4/4 [==============================] - 0s 14ms/step - loss: 4.7203 - val_loss: 22.3888\n",
            "Epoch 326/500\n",
            "4/4 [==============================] - 0s 13ms/step - loss: 4.7598 - val_loss: 21.6913\n",
            "Epoch 327/500\n",
            "4/4 [==============================] - 0s 13ms/step - loss: 4.4877 - val_loss: 22.4257\n",
            "Epoch 328/500\n",
            "4/4 [==============================] - 0s 14ms/step - loss: 5.5090 - val_loss: 24.1310\n",
            "Epoch 329/500\n",
            "4/4 [==============================] - 0s 13ms/step - loss: 5.4205 - val_loss: 24.9753\n",
            "Epoch 330/500\n",
            "4/4 [==============================] - 0s 13ms/step - loss: 4.5569 - val_loss: 23.3166\n",
            "Epoch 331/500\n",
            "4/4 [==============================] - 0s 13ms/step - loss: 4.6859 - val_loss: 24.1653\n",
            "Epoch 332/500\n",
            "4/4 [==============================] - 0s 13ms/step - loss: 5.2814 - val_loss: 24.6294\n",
            "Epoch 333/500\n",
            "4/4 [==============================] - 0s 13ms/step - loss: 5.2829 - val_loss: 23.1105\n",
            "Epoch 334/500\n",
            "4/4 [==============================] - 0s 15ms/step - loss: 4.5273 - val_loss: 23.4147\n",
            "Epoch 335/500\n",
            "4/4 [==============================] - 0s 13ms/step - loss: 4.9131 - val_loss: 23.4127\n",
            "Epoch 336/500\n",
            "4/4 [==============================] - 0s 13ms/step - loss: 4.9293 - val_loss: 23.8945\n",
            "Epoch 337/500\n",
            "4/4 [==============================] - 0s 13ms/step - loss: 4.5568 - val_loss: 23.5561\n",
            "Epoch 338/500\n",
            "4/4 [==============================] - 0s 13ms/step - loss: 3.9132 - val_loss: 23.9805\n",
            "Epoch 339/500\n",
            "4/4 [==============================] - 0s 15ms/step - loss: 5.0589 - val_loss: 24.4623\n",
            "Epoch 340/500\n",
            "4/4 [==============================] - 0s 14ms/step - loss: 4.4432 - val_loss: 23.6768\n",
            "Epoch 341/500\n",
            "4/4 [==============================] - 0s 15ms/step - loss: 5.8963 - val_loss: 25.3351\n",
            "Epoch 342/500\n",
            "4/4 [==============================] - 0s 14ms/step - loss: 5.1242 - val_loss: 25.0173\n",
            "Epoch 343/500\n",
            "4/4 [==============================] - 0s 13ms/step - loss: 4.7196 - val_loss: 23.1032\n",
            "Epoch 344/500\n",
            "4/4 [==============================] - 0s 13ms/step - loss: 4.2606 - val_loss: 24.2813\n",
            "Epoch 345/500\n",
            "4/4 [==============================] - 0s 14ms/step - loss: 5.8292 - val_loss: 23.7645\n",
            "Epoch 346/500\n",
            "4/4 [==============================] - 0s 13ms/step - loss: 4.7737 - val_loss: 24.3611\n",
            "Epoch 347/500\n",
            "4/4 [==============================] - 0s 13ms/step - loss: 5.0404 - val_loss: 26.9684\n",
            "Epoch 348/500\n",
            "4/4 [==============================] - 0s 14ms/step - loss: 6.7846 - val_loss: 22.4487\n",
            "Epoch 349/500\n",
            "4/4 [==============================] - 0s 16ms/step - loss: 4.7165 - val_loss: 22.3228\n",
            "Epoch 350/500\n",
            "4/4 [==============================] - 0s 15ms/step - loss: 4.6122 - val_loss: 24.6763\n",
            "Epoch 351/500\n",
            "4/4 [==============================] - 0s 14ms/step - loss: 4.6938 - val_loss: 24.3684\n",
            "Epoch 352/500\n",
            "4/4 [==============================] - 0s 13ms/step - loss: 4.1623 - val_loss: 23.0900\n",
            "Epoch 353/500\n",
            "4/4 [==============================] - 0s 13ms/step - loss: 4.9349 - val_loss: 22.5419\n",
            "Epoch 354/500\n",
            "4/4 [==============================] - 0s 15ms/step - loss: 4.0371 - val_loss: 25.0133\n",
            "Epoch 355/500\n",
            "4/4 [==============================] - 0s 14ms/step - loss: 5.1349 - val_loss: 24.8058\n",
            "Epoch 356/500\n",
            "4/4 [==============================] - 0s 16ms/step - loss: 5.1504 - val_loss: 25.5065\n",
            "Epoch 357/500\n",
            "4/4 [==============================] - 0s 14ms/step - loss: 5.3093 - val_loss: 22.4354\n",
            "Epoch 358/500\n",
            "4/4 [==============================] - 0s 13ms/step - loss: 4.2634 - val_loss: 23.4307\n",
            "Epoch 359/500\n",
            "4/4 [==============================] - 0s 14ms/step - loss: 4.2257 - val_loss: 23.8266\n",
            "Epoch 360/500\n",
            "4/4 [==============================] - 0s 13ms/step - loss: 4.7508 - val_loss: 22.8280\n",
            "Epoch 361/500\n",
            "4/4 [==============================] - 0s 14ms/step - loss: 4.2990 - val_loss: 23.8555\n",
            "Epoch 362/500\n",
            "4/4 [==============================] - 0s 14ms/step - loss: 4.6030 - val_loss: 26.6829\n",
            "Epoch 363/500\n",
            "4/4 [==============================] - 0s 14ms/step - loss: 4.2145 - val_loss: 23.4038\n",
            "Epoch 364/500\n",
            "4/4 [==============================] - 0s 14ms/step - loss: 4.8108 - val_loss: 23.1473\n",
            "Epoch 365/500\n",
            "4/4 [==============================] - 0s 13ms/step - loss: 6.6141 - val_loss: 24.8786\n",
            "Epoch 366/500\n",
            "4/4 [==============================] - 0s 13ms/step - loss: 8.1130 - val_loss: 24.0820\n",
            "Epoch 367/500\n",
            "4/4 [==============================] - 0s 14ms/step - loss: 5.6405 - val_loss: 28.0128\n",
            "Epoch 368/500\n",
            "4/4 [==============================] - 0s 15ms/step - loss: 5.4949 - val_loss: 27.2387\n",
            "Epoch 369/500\n",
            "4/4 [==============================] - 0s 13ms/step - loss: 4.8189 - val_loss: 22.0893\n",
            "Epoch 370/500\n",
            "4/4 [==============================] - 0s 13ms/step - loss: 5.4097 - val_loss: 23.7948\n",
            "Epoch 371/500\n",
            "4/4 [==============================] - 0s 13ms/step - loss: 5.8906 - val_loss: 28.1902\n",
            "Epoch 372/500\n",
            "4/4 [==============================] - 0s 16ms/step - loss: 6.8197 - val_loss: 22.2283\n",
            "Epoch 373/500\n",
            "4/4 [==============================] - 0s 14ms/step - loss: 4.8246 - val_loss: 22.8122\n",
            "Epoch 374/500\n",
            "4/4 [==============================] - 0s 14ms/step - loss: 4.3527 - val_loss: 25.2307\n",
            "Epoch 375/500\n",
            "4/4 [==============================] - 0s 14ms/step - loss: 4.4890 - val_loss: 25.3934\n",
            "Epoch 376/500\n",
            "4/4 [==============================] - 0s 13ms/step - loss: 3.9212 - val_loss: 23.0701\n",
            "Epoch 377/500\n",
            "4/4 [==============================] - 0s 16ms/step - loss: 4.1587 - val_loss: 23.1459\n",
            "Epoch 378/500\n",
            "4/4 [==============================] - 0s 14ms/step - loss: 3.9724 - val_loss: 23.8492\n",
            "Epoch 379/500\n",
            "4/4 [==============================] - 0s 17ms/step - loss: 4.9047 - val_loss: 23.7770\n",
            "Epoch 380/500\n",
            "4/4 [==============================] - 0s 14ms/step - loss: 4.6524 - val_loss: 24.7798\n",
            "Epoch 381/500\n",
            "4/4 [==============================] - 0s 14ms/step - loss: 3.8987 - val_loss: 24.5134\n",
            "Epoch 382/500\n",
            "4/4 [==============================] - 0s 15ms/step - loss: 4.3217 - val_loss: 23.9547\n",
            "Epoch 383/500\n",
            "4/4 [==============================] - 0s 14ms/step - loss: 4.8453 - val_loss: 22.9974\n",
            "Epoch 384/500\n",
            "4/4 [==============================] - 0s 14ms/step - loss: 4.5232 - val_loss: 23.9154\n",
            "Epoch 385/500\n",
            "4/4 [==============================] - 0s 13ms/step - loss: 4.5417 - val_loss: 24.8146\n",
            "Epoch 386/500\n",
            "4/4 [==============================] - 0s 14ms/step - loss: 3.8963 - val_loss: 25.2581\n",
            "Epoch 387/500\n",
            "4/4 [==============================] - 0s 14ms/step - loss: 3.6074 - val_loss: 24.0865\n",
            "Epoch 388/500\n",
            "4/4 [==============================] - 0s 15ms/step - loss: 4.1240 - val_loss: 24.1790\n",
            "Epoch 389/500\n",
            "4/4 [==============================] - 0s 14ms/step - loss: 3.7167 - val_loss: 26.3281\n",
            "Epoch 390/500\n",
            "4/4 [==============================] - 0s 13ms/step - loss: 3.7574 - val_loss: 25.6029\n",
            "Epoch 391/500\n",
            "4/4 [==============================] - 0s 13ms/step - loss: 4.0088 - val_loss: 22.5162\n",
            "Epoch 392/500\n",
            "4/4 [==============================] - 0s 14ms/step - loss: 4.8190 - val_loss: 23.7064\n",
            "Epoch 393/500\n",
            "4/4 [==============================] - 0s 14ms/step - loss: 4.7111 - val_loss: 28.0890\n",
            "Epoch 394/500\n",
            "4/4 [==============================] - 0s 14ms/step - loss: 4.6713 - val_loss: 25.7572\n",
            "Epoch 395/500\n",
            "4/4 [==============================] - 0s 14ms/step - loss: 4.0290 - val_loss: 23.9805\n",
            "Epoch 396/500\n",
            "4/4 [==============================] - 0s 13ms/step - loss: 3.9209 - val_loss: 24.8619\n",
            "Epoch 397/500\n",
            "4/4 [==============================] - 0s 13ms/step - loss: 4.4153 - val_loss: 26.8828\n",
            "Epoch 398/500\n",
            "4/4 [==============================] - 0s 13ms/step - loss: 3.8322 - val_loss: 25.6981\n",
            "Epoch 399/500\n",
            "4/4 [==============================] - 0s 14ms/step - loss: 3.5274 - val_loss: 23.3215\n",
            "Epoch 400/500\n",
            "4/4 [==============================] - 0s 15ms/step - loss: 4.6111 - val_loss: 24.4752\n",
            "Epoch 401/500\n",
            "4/4 [==============================] - 0s 13ms/step - loss: 3.8409 - val_loss: 26.6341\n",
            "Epoch 402/500\n",
            "4/4 [==============================] - 0s 15ms/step - loss: 4.0173 - val_loss: 25.2116\n",
            "Epoch 403/500\n",
            "4/4 [==============================] - 0s 13ms/step - loss: 3.8810 - val_loss: 27.0541\n",
            "Epoch 404/500\n",
            "4/4 [==============================] - 0s 18ms/step - loss: 4.1063 - val_loss: 27.5609\n",
            "Epoch 405/500\n",
            "4/4 [==============================] - 0s 14ms/step - loss: 4.0646 - val_loss: 26.3205\n",
            "Epoch 406/500\n",
            "4/4 [==============================] - 0s 13ms/step - loss: 3.8240 - val_loss: 27.0705\n",
            "Epoch 407/500\n",
            "4/4 [==============================] - 0s 14ms/step - loss: 3.3317 - val_loss: 26.9637\n",
            "Epoch 408/500\n",
            "4/4 [==============================] - 0s 13ms/step - loss: 3.9684 - val_loss: 25.7686\n",
            "Epoch 409/500\n",
            "4/4 [==============================] - 0s 14ms/step - loss: 4.1720 - val_loss: 25.7247\n",
            "Epoch 410/500\n",
            "4/4 [==============================] - 0s 14ms/step - loss: 3.4473 - val_loss: 26.1358\n",
            "Epoch 411/500\n",
            "4/4 [==============================] - 0s 13ms/step - loss: 3.2318 - val_loss: 25.6335\n",
            "Epoch 412/500\n",
            "4/4 [==============================] - 0s 14ms/step - loss: 3.2576 - val_loss: 23.8455\n",
            "Epoch 413/500\n",
            "4/4 [==============================] - 0s 13ms/step - loss: 3.9719 - val_loss: 22.7951\n",
            "Epoch 414/500\n",
            "4/4 [==============================] - 0s 13ms/step - loss: 3.9746 - val_loss: 27.0162\n",
            "Epoch 415/500\n",
            "4/4 [==============================] - 0s 15ms/step - loss: 3.5153 - val_loss: 24.3136\n",
            "Epoch 416/500\n",
            "4/4 [==============================] - 0s 14ms/step - loss: 4.9941 - val_loss: 26.8765\n",
            "Epoch 417/500\n",
            "4/4 [==============================] - 0s 14ms/step - loss: 4.6825 - val_loss: 25.0548\n",
            "Epoch 418/500\n",
            "4/4 [==============================] - 0s 14ms/step - loss: 4.4216 - val_loss: 21.5263\n",
            "Epoch 419/500\n",
            "4/4 [==============================] - 0s 15ms/step - loss: 5.4263 - val_loss: 27.7587\n",
            "Epoch 420/500\n",
            "4/4 [==============================] - 0s 16ms/step - loss: 4.1883 - val_loss: 30.4081\n",
            "Epoch 421/500\n",
            "4/4 [==============================] - 0s 14ms/step - loss: 3.8710 - val_loss: 27.5059\n",
            "Epoch 422/500\n",
            "4/4 [==============================] - 0s 15ms/step - loss: 4.2956 - val_loss: 27.4109\n",
            "Epoch 423/500\n",
            "4/4 [==============================] - 0s 14ms/step - loss: 4.1786 - val_loss: 27.6370\n",
            "Epoch 424/500\n",
            "4/4 [==============================] - 0s 15ms/step - loss: 3.9724 - val_loss: 25.5411\n",
            "Epoch 425/500\n",
            "4/4 [==============================] - 0s 14ms/step - loss: 4.7381 - val_loss: 26.6666\n",
            "Epoch 426/500\n",
            "4/4 [==============================] - 0s 15ms/step - loss: 3.8997 - val_loss: 29.5273\n",
            "Epoch 427/500\n",
            "4/4 [==============================] - 0s 13ms/step - loss: 4.2470 - val_loss: 27.3832\n",
            "Epoch 428/500\n",
            "4/4 [==============================] - 0s 14ms/step - loss: 4.6792 - val_loss: 26.8240\n",
            "Epoch 429/500\n",
            "4/4 [==============================] - 0s 13ms/step - loss: 3.9089 - val_loss: 26.2020\n",
            "Epoch 430/500\n",
            "4/4 [==============================] - 0s 14ms/step - loss: 2.8090 - val_loss: 25.0250\n",
            "Epoch 431/500\n",
            "4/4 [==============================] - 0s 13ms/step - loss: 4.8709 - val_loss: 26.8704\n",
            "Epoch 432/500\n",
            "4/4 [==============================] - 0s 14ms/step - loss: 3.8553 - val_loss: 27.2718\n",
            "Epoch 433/500\n",
            "4/4 [==============================] - 0s 14ms/step - loss: 3.4379 - val_loss: 24.7445\n",
            "Epoch 434/500\n",
            "4/4 [==============================] - 0s 14ms/step - loss: 4.2015 - val_loss: 25.0478\n",
            "Epoch 435/500\n",
            "4/4 [==============================] - 0s 13ms/step - loss: 3.0841 - val_loss: 26.2259\n",
            "Epoch 436/500\n",
            "4/4 [==============================] - 0s 14ms/step - loss: 4.5927 - val_loss: 25.6880\n",
            "Epoch 437/500\n",
            "4/4 [==============================] - 0s 16ms/step - loss: 4.1245 - val_loss: 26.8347\n",
            "Epoch 438/500\n",
            "4/4 [==============================] - 0s 14ms/step - loss: 3.6399 - val_loss: 30.3730\n",
            "Epoch 439/500\n",
            "4/4 [==============================] - 0s 14ms/step - loss: 3.7952 - val_loss: 23.8799\n",
            "Epoch 440/500\n",
            "4/4 [==============================] - 0s 15ms/step - loss: 4.5366 - val_loss: 24.3934\n",
            "Epoch 441/500\n",
            "4/4 [==============================] - 0s 14ms/step - loss: 4.1496 - val_loss: 28.5998\n",
            "Epoch 442/500\n",
            "4/4 [==============================] - 0s 13ms/step - loss: 3.6736 - val_loss: 28.2453\n",
            "Epoch 443/500\n",
            "4/4 [==============================] - 0s 13ms/step - loss: 3.9413 - val_loss: 27.9544\n",
            "Epoch 444/500\n",
            "4/4 [==============================] - 0s 13ms/step - loss: 3.2746 - val_loss: 26.3593\n",
            "Epoch 445/500\n",
            "4/4 [==============================] - 0s 14ms/step - loss: 3.6888 - val_loss: 26.2390\n",
            "Epoch 446/500\n",
            "4/4 [==============================] - 0s 14ms/step - loss: 3.8503 - val_loss: 28.6604\n",
            "Epoch 447/500\n",
            "4/4 [==============================] - 0s 14ms/step - loss: 3.2564 - val_loss: 28.9070\n",
            "Epoch 448/500\n",
            "4/4 [==============================] - 0s 14ms/step - loss: 3.2699 - val_loss: 27.6582\n",
            "Epoch 449/500\n",
            "4/4 [==============================] - 0s 14ms/step - loss: 3.0294 - val_loss: 26.6081\n",
            "Epoch 450/500\n",
            "4/4 [==============================] - 0s 15ms/step - loss: 3.5657 - val_loss: 27.6539\n",
            "Epoch 451/500\n",
            "4/4 [==============================] - 0s 14ms/step - loss: 3.3343 - val_loss: 29.0632\n",
            "Epoch 452/500\n",
            "4/4 [==============================] - 0s 13ms/step - loss: 2.5577 - val_loss: 28.0742\n",
            "Epoch 453/500\n",
            "4/4 [==============================] - 0s 14ms/step - loss: 2.9940 - val_loss: 29.0466\n",
            "Epoch 454/500\n",
            "4/4 [==============================] - 0s 13ms/step - loss: 2.9507 - val_loss: 34.3874\n",
            "Epoch 455/500\n",
            "4/4 [==============================] - 0s 16ms/step - loss: 4.2008 - val_loss: 31.6038\n",
            "Epoch 456/500\n",
            "4/4 [==============================] - 0s 14ms/step - loss: 2.7708 - val_loss: 29.1143\n",
            "Epoch 457/500\n",
            "4/4 [==============================] - 0s 14ms/step - loss: 3.0692 - val_loss: 31.1973\n",
            "Epoch 458/500\n",
            "4/4 [==============================] - 0s 15ms/step - loss: 3.1217 - val_loss: 31.5531\n",
            "Epoch 459/500\n",
            "4/4 [==============================] - 0s 13ms/step - loss: 2.7433 - val_loss: 30.3159\n",
            "Epoch 460/500\n",
            "4/4 [==============================] - 0s 15ms/step - loss: 2.4833 - val_loss: 29.5746\n",
            "Epoch 461/500\n",
            "4/4 [==============================] - 0s 14ms/step - loss: 2.8217 - val_loss: 29.8623\n",
            "Epoch 462/500\n",
            "4/4 [==============================] - 0s 13ms/step - loss: 2.5879 - val_loss: 29.6046\n",
            "Epoch 463/500\n",
            "4/4 [==============================] - 0s 14ms/step - loss: 2.0644 - val_loss: 28.0854\n",
            "Epoch 464/500\n",
            "4/4 [==============================] - 0s 14ms/step - loss: 2.3125 - val_loss: 28.5722\n",
            "Epoch 465/500\n",
            "4/4 [==============================] - 0s 15ms/step - loss: 2.9710 - val_loss: 29.5711\n",
            "Epoch 466/500\n",
            "4/4 [==============================] - 0s 15ms/step - loss: 2.6654 - val_loss: 30.4036\n",
            "Epoch 467/500\n",
            "4/4 [==============================] - 0s 14ms/step - loss: 3.2047 - val_loss: 30.5064\n",
            "Epoch 468/500\n",
            "4/4 [==============================] - 0s 14ms/step - loss: 2.3680 - val_loss: 28.6593\n",
            "Epoch 469/500\n",
            "4/4 [==============================] - 0s 14ms/step - loss: 2.5737 - val_loss: 30.5062\n",
            "Epoch 470/500\n",
            "4/4 [==============================] - 0s 14ms/step - loss: 2.4163 - val_loss: 30.0059\n",
            "Epoch 471/500\n",
            "4/4 [==============================] - 0s 15ms/step - loss: 2.9171 - val_loss: 26.5606\n",
            "Epoch 472/500\n",
            "4/4 [==============================] - 0s 15ms/step - loss: 3.6297 - val_loss: 31.9815\n",
            "Epoch 473/500\n",
            "4/4 [==============================] - 0s 14ms/step - loss: 3.7103 - val_loss: 33.1471\n",
            "Epoch 474/500\n",
            "4/4 [==============================] - 0s 14ms/step - loss: 2.8506 - val_loss: 31.4312\n",
            "Epoch 475/500\n",
            "4/4 [==============================] - 0s 16ms/step - loss: 4.0537 - val_loss: 30.0735\n",
            "Epoch 476/500\n",
            "4/4 [==============================] - 0s 14ms/step - loss: 3.8738 - val_loss: 31.7633\n",
            "Epoch 477/500\n",
            "4/4 [==============================] - 0s 14ms/step - loss: 2.9373 - val_loss: 30.8160\n",
            "Epoch 478/500\n",
            "4/4 [==============================] - 0s 15ms/step - loss: 3.2481 - val_loss: 31.4160\n",
            "Epoch 479/500\n",
            "4/4 [==============================] - 0s 15ms/step - loss: 2.8657 - val_loss: 30.1742\n",
            "Epoch 480/500\n",
            "4/4 [==============================] - 0s 14ms/step - loss: 2.3047 - val_loss: 28.3200\n",
            "Epoch 481/500\n",
            "4/4 [==============================] - 0s 14ms/step - loss: 3.0418 - val_loss: 29.6790\n",
            "Epoch 482/500\n",
            "4/4 [==============================] - 0s 14ms/step - loss: 2.1008 - val_loss: 30.7019\n",
            "Epoch 483/500\n",
            "4/4 [==============================] - 0s 14ms/step - loss: 2.5189 - val_loss: 29.8625\n",
            "Epoch 484/500\n",
            "4/4 [==============================] - 0s 13ms/step - loss: 2.2833 - val_loss: 29.0194\n",
            "Epoch 485/500\n",
            "4/4 [==============================] - 0s 14ms/step - loss: 2.8074 - val_loss: 30.2359\n",
            "Epoch 486/500\n",
            "4/4 [==============================] - 0s 15ms/step - loss: 1.9859 - val_loss: 33.0263\n",
            "Epoch 487/500\n",
            "4/4 [==============================] - 0s 14ms/step - loss: 2.2791 - val_loss: 31.8215\n",
            "Epoch 488/500\n",
            "4/4 [==============================] - 0s 14ms/step - loss: 1.6733 - val_loss: 30.1379\n",
            "Epoch 489/500\n",
            "4/4 [==============================] - 0s 14ms/step - loss: 2.1418 - val_loss: 30.0494\n",
            "Epoch 490/500\n",
            "4/4 [==============================] - 0s 14ms/step - loss: 2.0036 - val_loss: 31.1409\n",
            "Epoch 491/500\n",
            "4/4 [==============================] - 0s 14ms/step - loss: 1.7645 - val_loss: 30.7984\n",
            "Epoch 492/500\n",
            "4/4 [==============================] - 0s 14ms/step - loss: 1.8542 - val_loss: 30.6588\n",
            "Epoch 493/500\n",
            "4/4 [==============================] - 0s 16ms/step - loss: 1.7294 - val_loss: 31.0060\n",
            "Epoch 494/500\n",
            "4/4 [==============================] - 0s 16ms/step - loss: 1.9669 - val_loss: 30.2499\n",
            "Epoch 495/500\n",
            "4/4 [==============================] - 0s 14ms/step - loss: 1.6843 - val_loss: 30.4574\n",
            "Epoch 496/500\n",
            "4/4 [==============================] - 0s 15ms/step - loss: 1.4411 - val_loss: 31.5361\n",
            "Epoch 497/500\n",
            "4/4 [==============================] - 0s 14ms/step - loss: 1.9225 - val_loss: 30.9954\n",
            "Epoch 498/500\n",
            "4/4 [==============================] - 0s 14ms/step - loss: 1.7653 - val_loss: 30.6346\n",
            "Epoch 499/500\n",
            "4/4 [==============================] - 0s 14ms/step - loss: 2.1916 - val_loss: 32.9436\n",
            "Epoch 500/500\n",
            "4/4 [==============================] - 0s 14ms/step - loss: 2.3345 - val_loss: 31.3824\n"
          ],
          "name": "stdout"
        }
      ]
    },
    {
      "cell_type": "code",
      "metadata": {
        "colab": {
          "base_uri": "https://localhost:8080/"
        },
        "id": "lHsLq4w1SqUo",
        "outputId": "1672562a-41b7-40a5-8012-f64bc74c24c8"
      },
      "source": [
        "model.evaluate(X_valid,y_valid)"
      ],
      "execution_count": 73,
      "outputs": [
        {
          "output_type": "stream",
          "text": [
            "1/1 [==============================] - 0s 15ms/step - loss: 31.3824\n"
          ],
          "name": "stdout"
        },
        {
          "output_type": "execute_result",
          "data": {
            "text/plain": [
              "31.382389068603516"
            ]
          },
          "metadata": {
            "tags": []
          },
          "execution_count": 73
        }
      ]
    },
    {
      "cell_type": "code",
      "metadata": {
        "colab": {
          "base_uri": "https://localhost:8080/",
          "height": 286
        },
        "id": "0EcrQfZfMHH_",
        "outputId": "4cf6d2b8-b7a0-4f83-d8da-adaa15a20f4f"
      },
      "source": [
        "plot_learning_curves(history.history[\"loss\"],history.history[\"val_loss\"])"
      ],
      "execution_count": 74,
      "outputs": [
        {
          "output_type": "display_data",
          "data": {
            "image/png": "[encoded data removed]",
            "text/plain": [
              "<Figure size 432x288 with 1 Axes>"
            ]
          },
          "metadata": {
            "tags": [],
            "needs_background": "light"
          }
        }
      ]
    },
    {
      "cell_type": "code",
      "metadata": {
        "colab": {
          "base_uri": "https://localhost:8080/",
          "height": 288
        },
        "id": "lrz9oIKNRnIR",
        "outputId": "d430e811-9d8f-4514-a02f-74f0982a1799"
      },
      "source": [
        "y_pred = model.predict(X_test)\n",
        "plot_series(X_test[0,:,0],y_test[0,0],y_pred[0,0])\n",
        "plt.show()"
      ],
      "execution_count": 75,
      "outputs": [
        {
          "output_type": "display_data",
          "data": {
            "image/png": "[encoded data removed]",
            "text/plain": [
              "<Figure size 432x288 with 1 Axes>"
            ]
          },
          "metadata": {
            "tags": [],
            "needs_background": "light"
          }
        }
      ]
    },
    {
      "cell_type": "code",
      "metadata": {
        "id": "f71hFjCqSH7A",
        "colab": {
          "base_uri": "https://localhost:8080/"
        },
        "outputId": "3a10f43c-af6f-44e9-dc3d-9325677af82e"
      },
      "source": [
        "n_steps=5\n",
        "real_temp = np.array([[26],[25.9],[24.1],[25.1],[25.8]]).reshape(1,n_steps,1)\n",
        "model.predict(real_temp)"
      ],
      "execution_count": 76,
      "outputs": [
        {
          "output_type": "execute_result",
          "data": {
            "text/plain": [
              "array([[25.292221]], dtype=float32)"
            ]
          },
          "metadata": {
            "tags": []
          },
          "execution_count": 76
        }
      ]
    },
    {
      "cell_type": "code",
      "metadata": {
        "colab": {
          "base_uri": "https://localhost:8080/"
        },
        "id": "ezImz3ZsgkI-",
        "outputId": "f2af1dd2-d940-49dc-f99c-7281b1f1dbe7"
      },
      "source": [
        "for step_ahead in range(10):\n",
        "  print(\"{}\".format(step_ahead),\"iteration's X shape: \",real_temp.shape, \"Used data index : \",\"{} - {}\".format(step_ahead,real_temp.shape[1]-1))\n",
        "  y_pred_one = model.predict(real_temp[:,step_ahead:])[:,np.newaxis,:]\n",
        "  print(y_pred_one.shape)\n",
        "  real_temp = np.concatenate([real_temp,y_pred_one],axis=1)"
      ],
      "execution_count": 77,
      "outputs": [
        {
          "output_type": "stream",
          "text": [
            "0 iteration's X shape:  (1, 5, 1) Used data index :  0 - 4\n",
            "(1, 1, 1)\n",
            "1 iteration's X shape:  (1, 6, 1) Used data index :  1 - 5\n",
            "(1, 1, 1)\n",
            "2 iteration's X shape:  (1, 7, 1) Used data index :  2 - 6\n",
            "(1, 1, 1)\n",
            "3 iteration's X shape:  (1, 8, 1) Used data index :  3 - 7\n",
            "(1, 1, 1)\n",
            "4 iteration's X shape:  (1, 9, 1) Used data index :  4 - 8\n",
            "(1, 1, 1)\n",
            "5 iteration's X shape:  (1, 10, 1) Used data index :  5 - 9\n",
            "(1, 1, 1)\n",
            "6 iteration's X shape:  (1, 11, 1) Used data index :  6 - 10\n",
            "(1, 1, 1)\n",
            "7 iteration's X shape:  (1, 12, 1) Used data index :  7 - 11\n",
            "(1, 1, 1)\n",
            "8 iteration's X shape:  (1, 13, 1) Used data index :  8 - 12\n",
            "(1, 1, 1)\n",
            "9 iteration's X shape:  (1, 14, 1) Used data index :  9 - 13\n",
            "(1, 1, 1)\n"
          ],
          "name": "stdout"
        }
      ]
    },
    {
      "cell_type": "code",
      "metadata": {
        "colab": {
          "base_uri": "https://localhost:8080/"
        },
        "id": "LKO01X1Qg3uX",
        "outputId": "9eead732-dfe1-4e5b-b628-bd15ba1f3108"
      },
      "source": [
        "print(real_temp)"
      ],
      "execution_count": 78,
      "outputs": [
        {
          "output_type": "stream",
          "text": [
            "[[[26.        ]\n",
            "  [25.9       ]\n",
            "  [24.1       ]\n",
            "  [25.1       ]\n",
            "  [25.8       ]\n",
            "  [25.29222107]\n",
            "  [25.64956665]\n",
            "  [25.51302719]\n",
            "  [24.53582382]\n",
            "  [24.52146149]\n",
            "  [25.35556602]\n",
            "  [25.94186401]\n",
            "  [26.1649456 ]\n",
            "  [25.60970688]\n",
            "  [24.27291679]]]\n"
          ],
          "name": "stdout"
        }
      ]
    },
    {
      "cell_type": "code",
      "metadata": {
        "id": "qgLRxOd0mqha",
        "colab": {
          "base_uri": "https://localhost:8080/",
          "height": 288
        },
        "outputId": "7736444c-cb61-4d46-d268-a2e2d95d4ddb"
      },
      "source": [
        "y_pred = model.predict(X_test)\n",
        "plot_series(X_test[0,:,0],real_temp[0,7],real_temp[0,7])\n",
        "plt.show()"
      ],
      "execution_count": 81,
      "outputs": [
        {
          "output_type": "display_data",
          "data": {
            "image/png": "[encoded data removed]",
            "text/plain": [
              "<Figure size 432x288 with 1 Axes>"
            ]
          },
          "metadata": {
            "tags": [],
            "needs_background": "light"
          }
        }
      ]
    },
    {
      "cell_type": "code",
      "metadata": {
        "id": "Zuxn7-DaH6y4"
      },
      "source": [
        ""
      ],
      "execution_count": null,
      "outputs": []
    }
  ]
}