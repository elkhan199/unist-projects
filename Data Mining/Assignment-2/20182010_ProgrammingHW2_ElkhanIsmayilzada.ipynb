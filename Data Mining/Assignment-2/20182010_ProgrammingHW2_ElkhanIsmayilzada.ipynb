{
 "cells": [
  {
   "cell_type": "markdown",
   "metadata": {},
   "source": [
    "### Import Packages\n",
    "\n",
    "- It is not allowed for you to use packages other than the specified packages below"
   ]
  },
  {
   "cell_type": "code",
   "execution_count": 1,
   "metadata": {},
   "outputs": [],
   "source": [
    "import pandas as pd\n",
    "import numpy as np\n",
    "import matplotlib.pyplot as plt\n",
    "\n",
    "from sklearn.decomposition import PCA\n",
    "from sklearn.linear_model import LogisticRegression\n",
    "\n",
    "from sklearn.preprocessing import StandardScaler\n",
    "from sklearn.model_selection import train_test_split\n",
    "from sklearn.metrics import accuracy_score"
   ]
  },
  {
   "cell_type": "markdown",
   "metadata": {},
   "source": [
    "## Task 1. Logistic Regression [15 points]"
   ]
  },
  {
   "cell_type": "markdown",
   "metadata": {},
   "source": [
    "#### 1.1 Load Dataset [1 point]"
   ]
  },
  {
   "cell_type": "markdown",
   "metadata": {},
   "source": [
    "- Load the csv file,'final_shuffled_breast_cancer100.csv' as `df`\n"
   ]
  },
  {
   "cell_type": "code",
   "execution_count": 2,
   "metadata": {},
   "outputs": [],
   "source": [
    "# Load the csv file,'final_shuffled_breast_cancer100.csv' as df\n",
    "df = pd.read_csv(\"final_shuffled_breast_cancer100.csv\")"
   ]
  },
  {
   "cell_type": "markdown",
   "metadata": {},
   "source": [
    "#### 1.2 Split the independent variable set and the target variable set [2 points]\n",
    "- Assign `X` to the independent variable dataset\n",
    "- Assign `y` to the target variable dataset"
   ]
  },
  {
   "cell_type": "code",
   "execution_count": 3,
   "metadata": {},
   "outputs": [],
   "source": [
    "X = df.drop(\"target\", axis =1)\n",
    "y = df[\"target\"]"
   ]
  },
  {
   "cell_type": "markdown",
   "metadata": {},
   "source": [
    "#### 1.3 Split Dataset into the train & testset [2 points]\n",
    "** When you use scikit-learn method to split the train & test set : \n",
    "- the `random_state` value has to be zero.\n",
    "- the ratio of train set and test set is as follows : 75% train set / 25% test set\n",
    "- Assign the variable names as follow : `X_train`, `X_test`, `y_train`, `y_test`"
   ]
  },
  {
   "cell_type": "code",
   "execution_count": 4,
   "metadata": {},
   "outputs": [],
   "source": [
    "X_train,X_test, y_train, y_test = train_test_split(X,y,test_size=0.25,random_state = 0)"
   ]
  },
  {
   "cell_type": "markdown",
   "metadata": {},
   "source": [
    "#### 1.4 Standirdize the dataset by \"StandardScaler\" method of scikit-learn [4 points]\n",
    "- Use the method as the default state\n",
    "- Fit the `StandardScaler` on your training data only, then standardize both training and test sets using that scaler. The reason we fit a scaler on training set is to avoid possible information leakage from the test dataset. Test dataset should always remain \"Unseen\" until the testing phase. Thus, we should always scale using the training set."
   ]
  },
  {
   "cell_type": "code",
   "execution_count": 5,
   "metadata": {},
   "outputs": [],
   "source": [
    "scaler = StandardScaler()\n",
    "X_train = scaler.fit_transform(X_train)\n",
    "X_test = scaler.transform(X_test)"
   ]
  },
  {
   "cell_type": "markdown",
   "metadata": {},
   "source": [
    "#### 1.5 Load and train a logistic regression model by scikit-learn. [2 points]\n",
    "- Intercept term should be included for training\n",
    "- Assign LogisticRegression as `model`"
   ]
  },
  {
   "cell_type": "code",
   "execution_count": 6,
   "metadata": {},
   "outputs": [],
   "source": [
    "model = LogisticRegression()\n",
    "model.fit(X_train,y_train);"
   ]
  },
  {
   "cell_type": "markdown",
   "metadata": {},
   "source": [
    "#### 1.6. Print the coefficient & intercept of your model [2 points]"
   ]
  },
  {
   "cell_type": "code",
   "execution_count": 7,
   "metadata": {},
   "outputs": [
    {
     "name": "stdout",
     "output_type": "stream",
     "text": [
      "[[-0.63330582 -0.38463901 -0.62188958 -0.58284847 -0.0124785  -0.22911522\n",
      "  -0.36758627 -0.49012322  0.30941314  0.01812234 -0.23837422  0.4929945\n",
      "  -0.19928741 -0.31225956  0.33192808 -0.01874974  0.03158852  0.19551406\n",
      "   0.19597145 -0.02103781 -0.68210684 -0.5961599  -0.63460298 -0.57103766\n",
      "  -0.3021311  -0.44437018 -0.51058829 -0.4010555  -0.36812328 -0.44266915]]\n"
     ]
    }
   ],
   "source": [
    "print(model.coef_)"
   ]
  },
  {
   "cell_type": "code",
   "execution_count": 8,
   "metadata": {},
   "outputs": [
    {
     "name": "stdout",
     "output_type": "stream",
     "text": [
      "[0.13838155]\n"
     ]
    }
   ],
   "source": [
    "print(model.intercept_)"
   ]
  },
  {
   "cell_type": "markdown",
   "metadata": {},
   "source": [
    "#### 1.7 Predict and evaluate the model on your test set [2 points]"
   ]
  },
  {
   "cell_type": "markdown",
   "metadata": {},
   "source": [
    "[1 point]\n",
    "- Predict class labels of the test set using the trained model (Deterministic Label)\n",
    "- Print the predicted labels of test set and assign it to `y_pred`"
   ]
  },
  {
   "cell_type": "code",
   "execution_count": 9,
   "metadata": {},
   "outputs": [
    {
     "name": "stdout",
     "output_type": "stream",
     "text": [
      "[1. 0. 0. 0. 1. 0. 0. 0. 1. 0. 0. 1. 0. 0. 0. 1. 0. 0. 0. 1. 0. 1. 1. 1.\n",
      " 0.]\n"
     ]
    }
   ],
   "source": [
    "# print the predicted labels of test set\n",
    "y_pred = model.predict(X_test)\n",
    "print(y_pred)"
   ]
  },
  {
   "cell_type": "markdown",
   "metadata": {},
   "source": [
    "[1 point]\n",
    "- Evaluate the trained model using 'accuracy_score' metric on the test set.\n",
    "(Evaluate how well the predicted label of the test set matches the actual correct answer value.)\n",
    "- Print the accuracy score value\n",
    "(the 'accuracy_score' method has been already imported.)"
   ]
  },
  {
   "cell_type": "code",
   "execution_count": 10,
   "metadata": {},
   "outputs": [
    {
     "name": "stdout",
     "output_type": "stream",
     "text": [
      "0.92\n"
     ]
    }
   ],
   "source": [
    "# print the accuracy score on your test set\n",
    "print(accuracy_score(y_test,y_pred))"
   ]
  },
  {
   "cell_type": "markdown",
   "metadata": {},
   "source": [
    "## Task 2. PCA [15 points]"
   ]
  },
  {
   "cell_type": "markdown",
   "metadata": {},
   "source": [
    "#### 2.1 Load PCA instance and reduce the dimension of train and test set [5 points] \n",
    "\n",
    "- Load the `PCA` model as the default state\n",
    "- Reuse the train set standardized with the `StandardScaler` as the input data of the PCA.\n",
    "- You should fit the PCA instance by the standardized train set. \n",
    "- Transform(train) your train data and test data by principal components created by train set.\n",
    "\n",
    "- Reduce dimensions of train and test set from 30 to 2 dimensions"
   ]
  },
  {
   "cell_type": "code",
   "execution_count": 11,
   "metadata": {},
   "outputs": [],
   "source": [
    "# fit your PCA model with your train set, and transform both train & test set by the fitted PCA\n",
    "pca = PCA()\n",
    "pca = pca.fit(X_train)\n",
    "X_train = pca.transform(X_train)\n",
    "X_test = pca.transform(X_test)\n",
    "X_train = X_train[:,:2]\n",
    "X_test = X_test[:,:2]"
   ]
  },
  {
   "cell_type": "markdown",
   "metadata": {},
   "source": [
    "#### 2.2 Return the percentage of variance explained by the selected components. [3 points]"
   ]
  },
  {
   "cell_type": "code",
   "execution_count": 12,
   "metadata": {},
   "outputs": [
    {
     "data": {
      "text/plain": [
       "array([0.49263364, 0.19922127])"
      ]
     },
     "execution_count": 12,
     "metadata": {},
     "output_type": "execute_result"
    }
   ],
   "source": [
    "pca.explained_variance_ratio_[0:2]"
   ]
  },
  {
   "cell_type": "markdown",
   "metadata": {},
   "source": [
    "#### 2.3 Return the accumulated  sum of percentage of variance explained by the selected components, which you calculated in Task #2.2. [2 points]"
   ]
  },
  {
   "cell_type": "code",
   "execution_count": 13,
   "metadata": {},
   "outputs": [
    {
     "data": {
      "text/plain": [
       "array([0.49263364, 0.69185491])"
      ]
     },
     "execution_count": 13,
     "metadata": {},
     "output_type": "execute_result"
    }
   ],
   "source": [
    "pca.explained_variance_ratio_[0:2].cumsum()"
   ]
  },
  {
   "cell_type": "markdown",
   "metadata": {},
   "source": [
    "#### 2.4 Plot graph [5 points]\n",
    "- Plot the dimensionally reduced \"train data points\" using the `matplotlib.pyplot` library\n",
    "- The meaning of dependent variable is such as: \n",
    "-    1 : positive (breast cancer)\n",
    "-    0 : negative (breast cancer)\n",
    "- For label 1 and label 0, plot those labels by assigning different colors or symbols.\n",
    "- Refer to the below pictures as examples (There is no need to exactly imitate the image below.)\n",
    "- Recommend to use `plt.scatter` function (You are allowed to use another function as well.)"
   ]
  },
  {
   "cell_type": "markdown",
   "metadata": {},
   "source": [
    "### [Hints]\n",
    "\n",
    "##### [step 1] Make a DataFrame consisting of three columns such as 'PC1', 'PC2', 'dependent variable' which have already been made on Task No. 2.1\n",
    "\n",
    "##### [step 2] Divide the previously created data frame into TWO DataFrames \n",
    "- A DataFrame containing only data corresponding to 'dependent variable 0'. (including 'PC1', 'PC2', 'dependent variable 0')  \n",
    "- A DataFrame containing only data corresponding to 'dependent variable 1'. (including 'PC1', 'PC2', 'dependent variable 1')\n",
    "\n",
    "##### [step 3] Draw a Scatter plot showing the PC SCOREs with different colors depending on the dependent variable.\n",
    "- Use `plt.scatter' function\n",
    "- Refer to the content:\n",
    "https://pythonspot.com/matplotlib-scatterplot/\n"
   ]
  },
  {
   "cell_type": "code",
   "execution_count": 14,
   "metadata": {},
   "outputs": [
    {
     "data": {
      "text/plain": [
       "<matplotlib.legend.Legend at 0x7f8808562670>"
      ]
     },
     "execution_count": 14,
     "metadata": {},
     "output_type": "execute_result"
    },
    {
     "data": {
      "image/png": "[encoded data removed]",
      "text/plain": [
       "<Figure size 432x288 with 1 Axes>"
      ]
     },
     "metadata": {
      "needs_background": "light"
     },
     "output_type": "display_data"
    }
   ],
   "source": [
    "df = pd.DataFrame({\"PC1\":X_train[:,0],\"PC2\":X_train[:,1], \"dependent variable\":y_train})\n",
    "df_zeros = df[df[\"dependent variable\"]==0]\n",
    "df_ones= df[df[\"dependent variable\"]==1]\n",
    "fig, ax = plt.subplots()\n",
    "ax.scatter(df_zeros[\"PC1\"],df_zeros[\"PC2\"],c=\"blue\", label = \"negative\")\n",
    "ax.scatter(df_ones[\"PC1\"],df_ones[\"PC2\"],c=\"orange\", label = \"positive\")\n",
    "ax.set(xlabel=\"pca_component1\",ylabel=\"pca_component2\")\n",
    "ax.legend()"
   ]
  },
  {
   "cell_type": "markdown",
   "metadata": {},
   "source": [
    "## Task 3. Train and test another Logistic Regression model after PCA [10 points]"
   ]
  },
  {
   "cell_type": "markdown",
   "metadata": {},
   "source": [
    "#### 3.1 Load another logistic regression model [5 points]\n",
    "- Load the logistic regression model as `model2`\n",
    "- Train the model by the dimensionally reduced train set by PCA before"
   ]
  },
  {
   "cell_type": "code",
   "execution_count": 15,
   "metadata": {},
   "outputs": [
    {
     "data": {
      "text/plain": [
       "LogisticRegression()"
      ]
     },
     "execution_count": 15,
     "metadata": {},
     "output_type": "execute_result"
    }
   ],
   "source": [
    "model2 = LogisticRegression()\n",
    "model2.fit(X_train,y_train)"
   ]
  },
  {
   "cell_type": "markdown",
   "metadata": {},
   "source": [
    "#### 3.2 Predict and evaluate the model on your test set¶ [3 points]\n",
    "- Predict class labels of test set by using the trained model (Not probabilities) [2 points]\n",
    "- Print the predicted labels of test set "
   ]
  },
  {
   "cell_type": "code",
   "execution_count": 16,
   "metadata": {
    "scrolled": true
   },
   "outputs": [
    {
     "name": "stdout",
     "output_type": "stream",
     "text": [
      "[1. 0. 0. 1. 1. 0. 0. 0. 1. 0. 0. 1. 0. 0. 0. 1. 0. 0. 0. 1. 0. 1. 1. 1.\n",
      " 0.]\n"
     ]
    }
   ],
   "source": [
    "# print the predicted labels of test set [2 points]\n",
    "y_preds = model2.predict(X_test)\n",
    "print(y_preds)"
   ]
  },
  {
   "cell_type": "markdown",
   "metadata": {},
   "source": [
    "- Evaluate the trained model using 'accuracy_score' metric. (the 'accuracy_score' method has been already imported.) [1 points]\n",
    "- Print the accuracy score value\n"
   ]
  },
  {
   "cell_type": "code",
   "execution_count": 17,
   "metadata": {
    "scrolled": true
   },
   "outputs": [
    {
     "data": {
      "text/plain": [
       "0.96"
      ]
     },
     "execution_count": 17,
     "metadata": {},
     "output_type": "execute_result"
    }
   ],
   "source": [
    "# print the accuracy score on your test set [1 points]\n",
    "accuracy_score(y_test,y_preds)"
   ]
  },
  {
   "cell_type": "markdown",
   "metadata": {},
   "source": [
    "#### 3.3 Analysis\n",
    "- Compare the `accuracy_score` of the logistic regression model that you trained **first**(`model`) with the `accuracy_score` of the logical regression model that you trained newly **after reducing its dimension by PCA technique**(`model2`), and describe why you think the result is different. (Please describe your answer in 2-3 sentences) [2 points]"
   ]
  },
  {
   "cell_type": "markdown",
   "metadata": {},
   "source": [
    "The reason we get better result is because by reducing the dimensionality, we got rid of variables that are highly correlated. As an example, in this dataset, we have ```radius error``` and ```area error```. Obviously, they depend on each other. The more the value of ```radius error``` is, the higher the value of ```area error``` is. This implies that the assumption of independent variables is violated in this dataset"
   ]
  },
  {
   "cell_type": "code",
   "execution_count": null,
   "metadata": {},
   "outputs": [],
   "source": []
  }
 ],
 "metadata": {
  "kernelspec": {
   "display_name": "Python 3",
   "language": "python",
   "name": "python3"
  },
  "language_info": {
   "codemirror_mode": {
    "name": "ipython",
    "version": 3
   },
   "file_extension": ".py",
   "mimetype": "text/x-python",
   "name": "python",
   "nbconvert_exporter": "python",
   "pygments_lexer": "ipython3",
   "version": "3.8.5"
  }
 },
 "nbformat": 4,
 "nbformat_minor": 4
}
